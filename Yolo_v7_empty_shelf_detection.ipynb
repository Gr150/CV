{
 "cells": [
  {
   "cell_type": "code",
   "execution_count": 1,
   "id": "7bccf1a9-10b6-46eb-9d36-10f53dc08f47",
   "metadata": {},
   "outputs": [
    {
     "name": "stdout",
     "output_type": "stream",
     "text": [
      "/share/home2/gurureddyg\n"
     ]
    }
   ],
   "source": [
    "cd"
   ]
  },
  {
   "cell_type": "code",
   "execution_count": 2,
   "id": "0bf25b02-a595-4a8a-bbe9-b1994e9cfc5b",
   "metadata": {},
   "outputs": [
    {
     "name": "stdout",
     "output_type": "stream",
     "text": [
      "/share/home2/gurureddyg/yolov7\n"
     ]
    }
   ],
   "source": [
    "cd yolov7"
   ]
  },
  {
   "cell_type": "code",
   "execution_count": 3,
   "id": "89f888dd-9745-484a-b108-f98fdfdeef2e",
   "metadata": {},
   "outputs": [
    {
     "name": "stdout",
     "output_type": "stream",
     "text": [
      "\u001b[0m\u001b[01;34mcfg\u001b[0m/       hubconf.py    README.md             test.py          \u001b[01;34mwandb\u001b[0m/\n",
      "\u001b[01;34mdata\u001b[0m/      \u001b[01;34minference\u001b[0m/    requirements.txt      \u001b[01;34mtools\u001b[0m/           \u001b[01;34myolov7\u001b[0m/\n",
      "\u001b[01;34mdeploy\u001b[0m/    LICENSE.md    \u001b[01;34mruns\u001b[0m/                 traced_model.pt  yolov8n.pt\n",
      "detect.py  \u001b[01;34mmodels\u001b[0m/       \u001b[01;34mscripts\u001b[0m/              train_aux.py\n",
      "export.py  \u001b[01;34mpaper\u001b[0m/        \u001b[01;34mSKU110K-1000-2000-3\u001b[0m/  train.py\n",
      "\u001b[01;34mfigure\u001b[0m/    \u001b[01;34m__pycache__\u001b[0m/  \u001b[01;34mSKU-110k-6\u001b[0m/           \u001b[01;34mutils\u001b[0m/\n"
     ]
    }
   ],
   "source": [
    "ls"
   ]
  },
  {
   "cell_type": "code",
   "execution_count": 5,
   "id": "a8ad6a97-b4b9-4d11-8eda-e7d44c9c5d59",
   "metadata": {},
   "outputs": [
    {
     "name": "stdout",
     "output_type": "stream",
     "text": [
      "Requirement already satisfied: roboflow in /share/home2/gurureddyg/.local/lib/python3.8/site-packages (1.1.2)\n",
      "Requirement already satisfied: opencv-python>=4.1.2 in /share/home2/gurureddyg/.local/lib/python3.8/site-packages (from roboflow) (4.8.0.74)\n",
      "Requirement already satisfied: wget in /share/home2/gurureddyg/.local/lib/python3.8/site-packages (from roboflow) (3.2)\n",
      "Requirement already satisfied: Pillow>=7.1.2 in /share/home2/gurureddyg/.local/lib/python3.8/site-packages (from roboflow) (8.4.0)\n",
      "Requirement already satisfied: python-dateutil in /share/home2/gurureddyg/.local/lib/python3.8/site-packages (from roboflow) (2.8.2)\n",
      "Requirement already satisfied: requests in /share/home2/gurureddyg/.local/lib/python3.8/site-packages (from roboflow) (2.31.0)\n",
      "Requirement already satisfied: six in /share/apps/Anaconda3/lib/python3.8/site-packages (from roboflow) (1.15.0)\n",
      "Requirement already satisfied: urllib3>=1.26.6 in /share/home2/gurureddyg/.local/lib/python3.8/site-packages (from roboflow) (1.26.16)\n",
      "Requirement already satisfied: idna==2.10 in /share/apps/Anaconda3/lib/python3.8/site-packages (from roboflow) (2.10)\n",
      "Requirement already satisfied: supervision in /share/home2/gurureddyg/.local/lib/python3.8/site-packages (from roboflow) (0.12.0)\n",
      "Requirement already satisfied: numpy>=1.18.5 in /share/home2/gurureddyg/.local/lib/python3.8/site-packages (from roboflow) (1.22.4)\n",
      "Requirement already satisfied: matplotlib in /share/home2/gurureddyg/.local/lib/python3.8/site-packages (from roboflow) (3.7.2)\n",
      "Requirement already satisfied: cycler==0.10.0 in /share/apps/Anaconda3/lib/python3.8/site-packages (from roboflow) (0.10.0)\n",
      "Requirement already satisfied: requests-toolbelt in /share/home2/gurureddyg/.local/lib/python3.8/site-packages (from roboflow) (1.0.0)\n",
      "Requirement already satisfied: tqdm>=4.41.0 in /share/home2/gurureddyg/.local/lib/python3.8/site-packages (from roboflow) (4.65.0)\n",
      "Requirement already satisfied: certifi==2022.12.7 in /share/home2/gurureddyg/.local/lib/python3.8/site-packages (from roboflow) (2022.12.7)\n",
      "Requirement already satisfied: chardet==4.0.0 in /share/apps/Anaconda3/lib/python3.8/site-packages (from roboflow) (4.0.0)\n",
      "Requirement already satisfied: pyparsing==2.4.7 in /share/apps/Anaconda3/lib/python3.8/site-packages (from roboflow) (2.4.7)\n",
      "Requirement already satisfied: kiwisolver>=1.3.1 in /share/apps/Anaconda3/lib/python3.8/site-packages (from roboflow) (1.3.1)\n",
      "Requirement already satisfied: python-dotenv in /share/home2/gurureddyg/.local/lib/python3.8/site-packages (from roboflow) (1.0.0)\n",
      "Requirement already satisfied: PyYAML>=5.3.1 in /share/home2/gurureddyg/.local/lib/python3.8/site-packages (from roboflow) (6.0.1)\n",
      "Requirement already satisfied: fonttools>=4.22.0 in /share/home2/gurureddyg/.local/lib/python3.8/site-packages (from matplotlib->roboflow) (4.42.0)\n",
      "Requirement already satisfied: packaging>=20.0 in /share/home2/gurureddyg/.local/lib/python3.8/site-packages (from matplotlib->roboflow) (23.1)\n",
      "Requirement already satisfied: importlib-resources>=3.2.0 in /share/apps/Anaconda3/lib/python3.8/site-packages (from matplotlib->roboflow) (5.7.1)\n",
      "Requirement already satisfied: contourpy>=1.0.1 in /share/home2/gurureddyg/.local/lib/python3.8/site-packages (from matplotlib->roboflow) (1.1.0)\n",
      "Requirement already satisfied: zipp>=3.1.0 in /share/apps/Anaconda3/lib/python3.8/site-packages (from importlib-resources>=3.2.0->matplotlib->roboflow) (3.4.1)\n",
      "Requirement already satisfied: charset-normalizer<4,>=2 in /share/home2/gurureddyg/.local/lib/python3.8/site-packages (from requests->roboflow) (3.2.0)\n",
      "Requirement already satisfied: opencv-python-headless<5.0.0.0,>=4.8.0.74 in /share/home2/gurureddyg/.local/lib/python3.8/site-packages (from supervision->roboflow) (4.8.0.74)\n",
      "loading Roboflow workspace...\n",
      "loading Roboflow project...\n",
      "Exporting format yolov7pytorch in progress : 85.0%\n",
      "Version export complete for yolov7pytorch format\n",
      "Downloading Dataset Version Zip in Empty-Spaces-Detection-in-Shelf-Data-5 to yolov7pytorch: 46% [26091520 / 55622270] bytes"
     ]
    },
    {
     "name": "stderr",
     "output_type": "stream",
     "text": [
      "IOPub message rate exceeded.\n",
      "The Jupyter server will temporarily stop sending output\n",
      "to the client in order to avoid crashing it.\n",
      "To change this limit, set the config variable\n",
      "`--ServerApp.iopub_msg_rate_limit`.\n",
      "\n",
      "Current values:\n",
      "ServerApp.iopub_msg_rate_limit=1000.0 (msgs/sec)\n",
      "ServerApp.rate_limit_window=3.0 (secs)\n",
      "\n"
     ]
    },
    {
     "name": "stdout",
     "output_type": "stream",
     "text": [
      "Downloading Dataset Version Zip in Empty-Spaces-Detection-in-Shelf-Data-5 to yolov7pytorch: 100% [55622270 / 55622270] bytes\n"
     ]
    },
    {
     "name": "stderr",
     "output_type": "stream",
     "text": [
      "Extracting Dataset Version Zip to Empty-Spaces-Detection-in-Shelf-Data-5 in yolov7pytorch:: 100%|██████████| 1236/1236 [00:04<00:00, 306.47it/s]\n"
     ]
    }
   ],
   "source": [
    "#importing the annotated dataset\n",
    "!pip install --user roboflow\n",
    "\n",
    "from roboflow import Roboflow\n",
    "rf = Roboflow(api_key=\"aZtJ873TKPobttTqGOyk\")\n",
    "project = rf.workspace(\"dsjourney\").project(\"empty-spaces-detection-in-shelf-data\")\n",
    "dataset = project.version(5).download(\"yolov7\")"
   ]
  },
  {
   "cell_type": "code",
   "execution_count": 8,
   "id": "6f3f3ff4-779f-4833-b944-27799b238ace",
   "metadata": {},
   "outputs": [
    {
     "name": "stderr",
     "output_type": "stream",
     "text": [
      "YOLOR 🚀 v0.1-126-g84932d7 torch 2.0.1+cu117 CUDA:0 (Tesla K80, 12206.6875MB)\n",
      "                                            CUDA:1 (Tesla K80, 12206.6875MB)\n",
      "\n",
      "Namespace(adam=False, artifact_alias='latest', batch_size=32, bbox_interval=-1, bucket='', cache_images=False, cfg='cfg/training/yolov7.yaml', data='./Empty-Spaces-Detection-in-Shelf-Data-5/data.yaml', device='', entity=None, epochs=100, evolve=False, exist_ok=False, freeze=[0], global_rank=-1, hyp='data/hyp.scratch.p5.yaml', image_weights=False, img_size=[416, 416], label_smoothing=0.0, linear_lr=False, local_rank=-1, multi_scale=False, name='yolov7', noautoanchor=False, nosave=False, notest=False, project='runs/train', quad=False, rect=False, resume=False, save_dir='runs/train/yolov710', save_period=-1, single_cls=False, sync_bn=False, total_batch_size=32, upload_dataset=False, v5_metric=False, weights='', workers=8, world_size=1)\n",
      "\u001b[34m\u001b[1mtensorboard: \u001b[0mStart with 'tensorboard --logdir runs/train', view at http://localhost:6006/\n",
      "\u001b[34m\u001b[1mhyperparameters: \u001b[0mlr0=0.01, lrf=0.1, momentum=0.937, weight_decay=0.0005, warmup_epochs=3.0, warmup_momentum=0.8, warmup_bias_lr=0.1, box=0.05, cls=0.3, cls_pw=1.0, obj=0.7, obj_pw=1.0, iou_t=0.2, anchor_t=4.0, fl_gamma=0.0, hsv_h=0.015, hsv_s=0.7, hsv_v=0.4, degrees=0.0, translate=0.2, scale=0.9, shear=0.0, perspective=0.0, flipud=0.0, fliplr=0.5, mosaic=1.0, mixup=0.15, copy_paste=0.0, paste_in=0.15, loss_ota=1\n",
      "Overriding model.yaml nc=80 with nc=1\n",
      "\n",
      "                 from  n    params  module                                  arguments                     \n",
      "  0                -1  1       928  models.common.Conv                      [3, 32, 3, 1]                 \n",
      "  1                -1  1     18560  models.common.Conv                      [32, 64, 3, 2]                \n",
      "  2                -1  1     36992  models.common.Conv                      [64, 64, 3, 1]                \n",
      "  3                -1  1     73984  models.common.Conv                      [64, 128, 3, 2]               \n",
      "  4                -1  1      8320  models.common.Conv                      [128, 64, 1, 1]               \n",
      "  5                -2  1      8320  models.common.Conv                      [128, 64, 1, 1]               \n",
      "  6                -1  1     36992  models.common.Conv                      [64, 64, 3, 1]                \n",
      "  7                -1  1     36992  models.common.Conv                      [64, 64, 3, 1]                \n",
      "  8                -1  1     36992  models.common.Conv                      [64, 64, 3, 1]                \n",
      "  9                -1  1     36992  models.common.Conv                      [64, 64, 3, 1]                \n",
      " 10  [-1, -3, -5, -6]  1         0  models.common.Concat                    [1]                           \n",
      " 11                -1  1     66048  models.common.Conv                      [256, 256, 1, 1]              \n",
      " 12                -1  1         0  models.common.MP                        []                            \n",
      " 13                -1  1     33024  models.common.Conv                      [256, 128, 1, 1]              \n",
      " 14                -3  1     33024  models.common.Conv                      [256, 128, 1, 1]              \n",
      " 15                -1  1    147712  models.common.Conv                      [128, 128, 3, 2]              \n",
      " 16          [-1, -3]  1         0  models.common.Concat                    [1]                           \n",
      " 17                -1  1     33024  models.common.Conv                      [256, 128, 1, 1]              \n",
      " 18                -2  1     33024  models.common.Conv                      [256, 128, 1, 1]              \n",
      " 19                -1  1    147712  models.common.Conv                      [128, 128, 3, 1]              \n",
      " 20                -1  1    147712  models.common.Conv                      [128, 128, 3, 1]              \n",
      " 21                -1  1    147712  models.common.Conv                      [128, 128, 3, 1]              \n",
      " 22                -1  1    147712  models.common.Conv                      [128, 128, 3, 1]              \n",
      " 23  [-1, -3, -5, -6]  1         0  models.common.Concat                    [1]                           \n",
      " 24                -1  1    263168  models.common.Conv                      [512, 512, 1, 1]              \n",
      " 25                -1  1         0  models.common.MP                        []                            \n",
      " 26                -1  1    131584  models.common.Conv                      [512, 256, 1, 1]              \n",
      " 27                -3  1    131584  models.common.Conv                      [512, 256, 1, 1]              \n",
      " 28                -1  1    590336  models.common.Conv                      [256, 256, 3, 2]              \n",
      " 29          [-1, -3]  1         0  models.common.Concat                    [1]                           \n",
      " 30                -1  1    131584  models.common.Conv                      [512, 256, 1, 1]              \n",
      " 31                -2  1    131584  models.common.Conv                      [512, 256, 1, 1]              \n",
      " 32                -1  1    590336  models.common.Conv                      [256, 256, 3, 1]              \n",
      " 33                -1  1    590336  models.common.Conv                      [256, 256, 3, 1]              \n",
      " 34                -1  1    590336  models.common.Conv                      [256, 256, 3, 1]              \n",
      " 35                -1  1    590336  models.common.Conv                      [256, 256, 3, 1]              \n",
      " 36  [-1, -3, -5, -6]  1         0  models.common.Concat                    [1]                           \n",
      " 37                -1  1   1050624  models.common.Conv                      [1024, 1024, 1, 1]            \n",
      " 38                -1  1         0  models.common.MP                        []                            \n",
      " 39                -1  1    525312  models.common.Conv                      [1024, 512, 1, 1]             \n",
      " 40                -3  1    525312  models.common.Conv                      [1024, 512, 1, 1]             \n",
      " 41                -1  1   2360320  models.common.Conv                      [512, 512, 3, 2]              \n",
      " 42          [-1, -3]  1         0  models.common.Concat                    [1]                           \n",
      " 43                -1  1    262656  models.common.Conv                      [1024, 256, 1, 1]             \n",
      " 44                -2  1    262656  models.common.Conv                      [1024, 256, 1, 1]             \n",
      " 45                -1  1    590336  models.common.Conv                      [256, 256, 3, 1]              \n",
      " 46                -1  1    590336  models.common.Conv                      [256, 256, 3, 1]              \n"
     ]
    },
    {
     "name": "stdout",
     "output_type": "stream",
     "text": [
      "\u001b[34m\u001b[1mwandb: \u001b[0mInstall Weights & Biases for YOLOR logging with 'pip install wandb' (recommended)\n"
     ]
    },
    {
     "name": "stderr",
     "output_type": "stream",
     "text": [
      " 47                -1  1    590336  models.common.Conv                      [256, 256, 3, 1]              \n",
      " 48                -1  1    590336  models.common.Conv                      [256, 256, 3, 1]              \n",
      " 49  [-1, -3, -5, -6]  1         0  models.common.Concat                    [1]                           \n",
      " 50                -1  1   1050624  models.common.Conv                      [1024, 1024, 1, 1]            \n",
      " 51                -1  1   7609344  models.common.SPPCSPC                   [1024, 512, 1]                \n",
      " 52                -1  1    131584  models.common.Conv                      [512, 256, 1, 1]              \n",
      " 53                -1  1         0  torch.nn.modules.upsampling.Upsample    [None, 2, 'nearest']          \n",
      " 54                37  1    262656  models.common.Conv                      [1024, 256, 1, 1]             \n",
      " 55          [-1, -2]  1         0  models.common.Concat                    [1]                           \n",
      " 56                -1  1    131584  models.common.Conv                      [512, 256, 1, 1]              \n",
      " 57                -2  1    131584  models.common.Conv                      [512, 256, 1, 1]              \n",
      " 58                -1  1    295168  models.common.Conv                      [256, 128, 3, 1]              \n",
      " 59                -1  1    147712  models.common.Conv                      [128, 128, 3, 1]              \n",
      " 60                -1  1    147712  models.common.Conv                      [128, 128, 3, 1]              \n",
      " 61                -1  1    147712  models.common.Conv                      [128, 128, 3, 1]              \n",
      " 62[-1, -2, -3, -4, -5, -6]  1         0  models.common.Concat                    [1]                           \n",
      " 63                -1  1    262656  models.common.Conv                      [1024, 256, 1, 1]             \n",
      " 64                -1  1     33024  models.common.Conv                      [256, 128, 1, 1]              \n",
      " 65                -1  1         0  torch.nn.modules.upsampling.Upsample    [None, 2, 'nearest']          \n",
      " 66                24  1     65792  models.common.Conv                      [512, 128, 1, 1]              \n",
      " 67          [-1, -2]  1         0  models.common.Concat                    [1]                           \n",
      " 68                -1  1     33024  models.common.Conv                      [256, 128, 1, 1]              \n",
      " 69                -2  1     33024  models.common.Conv                      [256, 128, 1, 1]              \n",
      " 70                -1  1     73856  models.common.Conv                      [128, 64, 3, 1]               \n",
      " 71                -1  1     36992  models.common.Conv                      [64, 64, 3, 1]                \n",
      " 72                -1  1     36992  models.common.Conv                      [64, 64, 3, 1]                \n",
      " 73                -1  1     36992  models.common.Conv                      [64, 64, 3, 1]                \n",
      " 74[-1, -2, -3, -4, -5, -6]  1         0  models.common.Concat                    [1]                           \n",
      " 75                -1  1     65792  models.common.Conv                      [512, 128, 1, 1]              \n",
      " 76                -1  1         0  models.common.MP                        []                            \n",
      " 77                -1  1     16640  models.common.Conv                      [128, 128, 1, 1]              \n",
      " 78                -3  1     16640  models.common.Conv                      [128, 128, 1, 1]              \n",
      " 79                -1  1    147712  models.common.Conv                      [128, 128, 3, 2]              \n",
      " 80      [-1, -3, 63]  1         0  models.common.Concat                    [1]                           \n",
      " 81                -1  1    131584  models.common.Conv                      [512, 256, 1, 1]              \n",
      " 82                -2  1    131584  models.common.Conv                      [512, 256, 1, 1]              \n",
      " 83                -1  1    295168  models.common.Conv                      [256, 128, 3, 1]              \n",
      " 84                -1  1    147712  models.common.Conv                      [128, 128, 3, 1]              \n",
      " 85                -1  1    147712  models.common.Conv                      [128, 128, 3, 1]              \n",
      " 86                -1  1    147712  models.common.Conv                      [128, 128, 3, 1]              \n",
      " 87[-1, -2, -3, -4, -5, -6]  1         0  models.common.Concat                    [1]                           \n",
      " 88                -1  1    262656  models.common.Conv                      [1024, 256, 1, 1]             \n",
      " 89                -1  1         0  models.common.MP                        []                            \n",
      " 90                -1  1     66048  models.common.Conv                      [256, 256, 1, 1]              \n",
      " 91                -3  1     66048  models.common.Conv                      [256, 256, 1, 1]              \n",
      " 92                -1  1    590336  models.common.Conv                      [256, 256, 3, 2]              \n",
      " 93      [-1, -3, 51]  1         0  models.common.Concat                    [1]                           \n",
      " 94                -1  1    525312  models.common.Conv                      [1024, 512, 1, 1]             \n",
      " 95                -2  1    525312  models.common.Conv                      [1024, 512, 1, 1]             \n",
      " 96                -1  1   1180160  models.common.Conv                      [512, 256, 3, 1]              \n",
      " 97                -1  1    590336  models.common.Conv                      [256, 256, 3, 1]              \n",
      " 98                -1  1    590336  models.common.Conv                      [256, 256, 3, 1]              \n",
      " 99                -1  1    590336  models.common.Conv                      [256, 256, 3, 1]              \n",
      "100[-1, -2, -3, -4, -5, -6]  1         0  models.common.Concat                    [1]                           \n",
      "101                -1  1   1049600  models.common.Conv                      [2048, 512, 1, 1]             \n",
      "102                75  1    328704  models.common.RepConv                   [128, 256, 3, 1]              \n",
      "103                88  1   1312768  models.common.RepConv                   [256, 512, 3, 1]              \n",
      "104               101  1   5246976  models.common.RepConv                   [512, 1024, 3, 1]             \n",
      "105   [102, 103, 104]  1     34156  models.yolo.IDetect                     [1, [[12, 16, 19, 36, 40, 28], [36, 75, 76, 55, 72, 146], [142, 110, 192, 243, 459, 401]], [256, 512, 1024]]\n",
      "torch.meshgrid: in an upcoming release, it will be required to pass the indexing argument. (Triggered internally at ../aten/src/ATen/native/TensorShape.cpp:3483.)\n",
      "Model Summary: 415 layers, 37196556 parameters, 37196556 gradients, 105.1 GFLOPS\n",
      "\n",
      "Scaled weight_decay = 0.0005\n",
      "Optimizer groups: 95 .bias, 95 conv.weight, 98 other\n",
      "\u001b[34m\u001b[1mtrain: \u001b[0mScanning 'Empty-Spaces-Detection-in-Shelf-Data-5/train/labels' images and labels... 468 found, 0 missing, 3 empty, 0 corrupted: 100%|██████████| 468/468 [00:01<00:00, 410.19it/s]\n",
      "\u001b[34m\u001b[1mtrain: \u001b[0mNew cache created: Empty-Spaces-Detection-in-Shelf-Data-5/train/labels.cache\n",
      "\u001b[34m\u001b[1mval: \u001b[0mScanning 'Empty-Spaces-Detection-in-Shelf-Data-5/valid/labels' images and labels... 72 found, 0 missing, 0 empty, 0 corrupted: 100%|██████████| 72/72 [00:00<00:00, 424.58it/s]\n",
      "\u001b[34m\u001b[1mval: \u001b[0mNew cache created: Empty-Spaces-Detection-in-Shelf-Data-5/valid/labels.cache\n",
      "Image sizes 416 train, 416 test\n",
      "Using 8 dataloader workers\n",
      "Logging results to runs/train/yolov710\n",
      "Starting training for 100 epochs...\n"
     ]
    },
    {
     "name": "stdout",
     "output_type": "stream",
     "text": [
      "\n",
      "\u001b[34m\u001b[1mautoanchor: \u001b[0mAnalyzing anchors... anchors/target = 4.62, Best Possible Recall (BPR) = 0.9982\n"
     ]
    },
    {
     "name": "stderr",
     "output_type": "stream",
     "text": [
      "\n",
      "     Epoch   gpu_mem       box       obj       cls     total    labels  img_size\n",
      "      0/99     2.08G   0.08513   0.01334         0   0.09847       103       416: 100%|██████████| 15/15 [03:15<00:00, 13.06s/it]\n",
      "               Class      Images      Labels           P           R      mAP@.5  mAP@.5:.95: 100%|██████████| 2/2 [00:53<00:00, 26.87s/it]\n"
     ]
    },
    {
     "name": "stdout",
     "output_type": "stream",
     "text": [
      "                 all          72         334     0.00234      0.0988    0.000449    7.86e-05\n"
     ]
    },
    {
     "name": "stderr",
     "output_type": "stream",
     "text": [
      "\n",
      "     Epoch   gpu_mem       box       obj       cls     total    labels  img_size\n",
      "      1/99     6.12G    0.0833   0.01289         0   0.09619       132       416: 100%|██████████| 15/15 [00:27<00:00,  1.82s/it]\n",
      "               Class      Images      Labels           P           R      mAP@.5  mAP@.5:.95: 100%|██████████| 2/2 [00:03<00:00,  1.50s/it]\n"
     ]
    },
    {
     "name": "stdout",
     "output_type": "stream",
     "text": [
      "                 all          72         334      0.0034       0.144    0.000922    0.000162\n"
     ]
    },
    {
     "name": "stderr",
     "output_type": "stream",
     "text": [
      "\n",
      "     Epoch   gpu_mem       box       obj       cls     total    labels  img_size\n",
      "      2/99     10.4G   0.08173   0.01156         0   0.09329       142       416: 100%|██████████| 15/15 [00:27<00:00,  1.80s/it]\n",
      "               Class      Images      Labels           P           R      mAP@.5  mAP@.5:.95: 100%|██████████| 2/2 [00:02<00:00,  1.34s/it]\n"
     ]
    },
    {
     "name": "stdout",
     "output_type": "stream",
     "text": [
      "                 all          72         334     0.00276       0.117    0.000663    0.000133\n"
     ]
    },
    {
     "name": "stderr",
     "output_type": "stream",
     "text": [
      "\n",
      "     Epoch   gpu_mem       box       obj       cls     total    labels  img_size\n",
      "      3/99     10.4G   0.08152   0.01143         0   0.09295       137       416: 100%|██████████| 15/15 [00:27<00:00,  1.82s/it]\n",
      "               Class      Images      Labels           P           R      mAP@.5  mAP@.5:.95: 100%|██████████| 2/2 [00:02<00:00,  1.33s/it]\n"
     ]
    },
    {
     "name": "stdout",
     "output_type": "stream",
     "text": [
      "                 all          72         334      0.0034       0.147    0.000978    0.000224\n"
     ]
    },
    {
     "name": "stderr",
     "output_type": "stream",
     "text": [
      "\n",
      "     Epoch   gpu_mem       box       obj       cls     total    labels  img_size\n",
      "      4/99     10.4G   0.08223   0.01103         0   0.09326       199       416: 100%|██████████| 15/15 [00:27<00:00,  1.83s/it]\n",
      "               Class      Images      Labels           P           R      mAP@.5  mAP@.5:.95: 100%|██████████| 2/2 [00:02<00:00,  1.32s/it]\n"
     ]
    },
    {
     "name": "stdout",
     "output_type": "stream",
     "text": [
      "                 all          72         334     0.00326       0.138     0.00068    0.000139\n"
     ]
    },
    {
     "name": "stderr",
     "output_type": "stream",
     "text": [
      "\n",
      "     Epoch   gpu_mem       box       obj       cls     total    labels  img_size\n",
      "      5/99     10.4G   0.08155   0.01134         0   0.09289       170       416: 100%|██████████| 15/15 [00:27<00:00,  1.85s/it]\n",
      "               Class      Images      Labels           P           R      mAP@.5  mAP@.5:.95: 100%|██████████| 2/2 [00:02<00:00,  1.32s/it]\n"
     ]
    },
    {
     "name": "stdout",
     "output_type": "stream",
     "text": [
      "                 all          72         334     0.00354        0.15     0.00075    0.000157\n"
     ]
    },
    {
     "name": "stderr",
     "output_type": "stream",
     "text": [
      "\n",
      "     Epoch   gpu_mem       box       obj       cls     total    labels  img_size\n",
      "      6/99     10.4G   0.08198   0.01059         0   0.09258       212       416: 100%|██████████| 15/15 [00:27<00:00,  1.82s/it]\n",
      "               Class      Images      Labels           P           R      mAP@.5  mAP@.5:.95: 100%|██████████| 2/2 [00:02<00:00,  1.15s/it]\n"
     ]
    },
    {
     "name": "stdout",
     "output_type": "stream",
     "text": [
      "                 all          72         334     0.00333       0.141    0.000906    0.000148\n"
     ]
    },
    {
     "name": "stderr",
     "output_type": "stream",
     "text": [
      "\n",
      "     Epoch   gpu_mem       box       obj       cls     total    labels  img_size\n",
      "      7/99     10.4G   0.08007   0.01075         0   0.09082       114       416: 100%|██████████| 15/15 [00:27<00:00,  1.80s/it]\n",
      "               Class      Images      Labels           P           R      mAP@.5  mAP@.5:.95: 100%|██████████| 2/2 [00:02<00:00,  1.13s/it]\n"
     ]
    },
    {
     "name": "stdout",
     "output_type": "stream",
     "text": [
      "                 all          72         334     0.00347       0.147    0.000761    0.000147\n"
     ]
    },
    {
     "name": "stderr",
     "output_type": "stream",
     "text": [
      "\n",
      "     Epoch   gpu_mem       box       obj       cls     total    labels  img_size\n",
      "      8/99     10.4G   0.08023   0.01078         0   0.09102       190       416: 100%|██████████| 15/15 [00:27<00:00,  1.82s/it]\n",
      "               Class      Images      Labels           P           R      mAP@.5  mAP@.5:.95: 100%|██████████| 2/2 [00:02<00:00,  1.14s/it]\n"
     ]
    },
    {
     "name": "stdout",
     "output_type": "stream",
     "text": [
      "                 all          72         334     0.00303       0.138    0.000581    0.000129\n"
     ]
    },
    {
     "name": "stderr",
     "output_type": "stream",
     "text": [
      "\n",
      "     Epoch   gpu_mem       box       obj       cls     total    labels  img_size\n",
      "      9/99     10.4G   0.08123   0.01055         0   0.09178       123       416: 100%|██████████| 15/15 [00:27<00:00,  1.82s/it]\n",
      "               Class      Images      Labels           P           R      mAP@.5  mAP@.5:.95: 100%|██████████| 2/2 [00:02<00:00,  1.14s/it]\n"
     ]
    },
    {
     "name": "stdout",
     "output_type": "stream",
     "text": [
      "                 all          72         334     0.00678       0.018    0.000752    0.000139\n"
     ]
    },
    {
     "name": "stderr",
     "output_type": "stream",
     "text": [
      "\n",
      "     Epoch   gpu_mem       box       obj       cls     total    labels  img_size\n",
      "     10/99     10.4G   0.08022   0.01052         0   0.09074       151       416: 100%|██████████| 15/15 [00:27<00:00,  1.83s/it]\n",
      "               Class      Images      Labels           P           R      mAP@.5  mAP@.5:.95: 100%|██████████| 2/2 [00:02<00:00,  1.14s/it]\n"
     ]
    },
    {
     "name": "stdout",
     "output_type": "stream",
     "text": [
      "                 all          72         334     0.00321       0.144     0.00069    0.000135\n"
     ]
    },
    {
     "name": "stderr",
     "output_type": "stream",
     "text": [
      "\n",
      "     Epoch   gpu_mem       box       obj       cls     total    labels  img_size\n",
      "     11/99     10.4G   0.08047   0.01055         0   0.09102       223       416: 100%|██████████| 15/15 [00:26<00:00,  1.79s/it]\n",
      "               Class      Images      Labels           P           R      mAP@.5  mAP@.5:.95: 100%|██████████| 2/2 [00:02<00:00,  1.12s/it]\n"
     ]
    },
    {
     "name": "stdout",
     "output_type": "stream",
     "text": [
      "                 all          72         334     0.00366      0.0299    0.000659    0.000113\n"
     ]
    },
    {
     "name": "stderr",
     "output_type": "stream",
     "text": [
      "\n",
      "     Epoch   gpu_mem       box       obj       cls     total    labels  img_size\n",
      "     12/99     10.4G   0.07985   0.01053         0   0.09038       113       416: 100%|██████████| 15/15 [00:27<00:00,  1.80s/it]\n",
      "               Class      Images      Labels           P           R      mAP@.5  mAP@.5:.95: 100%|██████████| 2/2 [00:02<00:00,  1.14s/it]\n"
     ]
    },
    {
     "name": "stdout",
     "output_type": "stream",
     "text": [
      "                 all          72         334     0.00297       0.144    0.000548    9.02e-05\n"
     ]
    },
    {
     "name": "stderr",
     "output_type": "stream",
     "text": [
      "\n",
      "     Epoch   gpu_mem       box       obj       cls     total    labels  img_size\n",
      "     13/99     10.4G   0.07961   0.01095         0   0.09057       199       416: 100%|██████████| 15/15 [00:27<00:00,  1.81s/it]\n",
      "               Class      Images      Labels           P           R      mAP@.5  mAP@.5:.95: 100%|██████████| 2/2 [00:02<00:00,  1.13s/it]\n"
     ]
    },
    {
     "name": "stdout",
     "output_type": "stream",
     "text": [
      "                 all          72         334     0.00296       0.129    0.000553    9.22e-05\n"
     ]
    },
    {
     "name": "stderr",
     "output_type": "stream",
     "text": [
      "\n",
      "     Epoch   gpu_mem       box       obj       cls     total    labels  img_size\n",
      "     14/99     10.4G   0.07961   0.01083         0   0.09044       119       416: 100%|██████████| 15/15 [00:27<00:00,  1.82s/it]\n",
      "               Class      Images      Labels           P           R      mAP@.5  mAP@.5:.95: 100%|██████████| 2/2 [00:02<00:00,  1.14s/it]\n"
     ]
    },
    {
     "name": "stdout",
     "output_type": "stream",
     "text": [
      "                 all          72         334     0.00308      0.0419    0.000465    8.28e-05\n"
     ]
    },
    {
     "name": "stderr",
     "output_type": "stream",
     "text": [
      "\n",
      "     Epoch   gpu_mem       box       obj       cls     total    labels  img_size\n",
      "     15/99     10.4G   0.07823    0.0112         0   0.08943       115       416: 100%|██████████| 15/15 [00:27<00:00,  1.81s/it]\n",
      "               Class      Images      Labels           P           R      mAP@.5  mAP@.5:.95: 100%|██████████| 2/2 [00:02<00:00,  1.13s/it]\n"
     ]
    },
    {
     "name": "stdout",
     "output_type": "stream",
     "text": [
      "                 all          72         334     0.00239       0.126    0.000442    7.43e-05\n"
     ]
    },
    {
     "name": "stderr",
     "output_type": "stream",
     "text": [
      "\n",
      "     Epoch   gpu_mem       box       obj       cls     total    labels  img_size\n",
      "     16/99     10.4G   0.07774   0.01128         0   0.08901       122       416: 100%|██████████| 15/15 [00:26<00:00,  1.80s/it]\n",
      "               Class      Images      Labels           P           R      mAP@.5  mAP@.5:.95: 100%|██████████| 2/2 [00:02<00:00,  1.12s/it]\n"
     ]
    },
    {
     "name": "stdout",
     "output_type": "stream",
     "text": [
      "                 all          72         334     0.00288       0.132    0.000617    9.84e-05\n"
     ]
    },
    {
     "name": "stderr",
     "output_type": "stream",
     "text": [
      "\n",
      "     Epoch   gpu_mem       box       obj       cls     total    labels  img_size\n",
      "     17/99     10.4G   0.07537   0.01151         0   0.08687       166       416: 100%|██████████| 15/15 [00:26<00:00,  1.80s/it]\n",
      "               Class      Images      Labels           P           R      mAP@.5  mAP@.5:.95: 100%|██████████| 2/2 [00:02<00:00,  1.13s/it]\n"
     ]
    },
    {
     "name": "stdout",
     "output_type": "stream",
     "text": [
      "                 all          72         334     0.00397       0.165    0.000773    0.000122\n"
     ]
    },
    {
     "name": "stderr",
     "output_type": "stream",
     "text": [
      "\n",
      "     Epoch   gpu_mem       box       obj       cls     total    labels  img_size\n",
      "     18/99     10.4G   0.07392   0.01242         0   0.08634       126       416: 100%|██████████| 15/15 [00:27<00:00,  1.81s/it]\n",
      "               Class      Images      Labels           P           R      mAP@.5  mAP@.5:.95: 100%|██████████| 2/2 [00:02<00:00,  1.15s/it]\n"
     ]
    },
    {
     "name": "stdout",
     "output_type": "stream",
     "text": [
      "                 all          72         334     0.00364       0.132    0.000719    0.000111\n"
     ]
    },
    {
     "name": "stderr",
     "output_type": "stream",
     "text": [
      "\n",
      "     Epoch   gpu_mem       box       obj       cls     total    labels  img_size\n",
      "     19/99     10.4G    0.0724   0.01311         0   0.08551       155       416: 100%|██████████| 15/15 [00:27<00:00,  1.80s/it]\n",
      "               Class      Images      Labels           P           R      mAP@.5  mAP@.5:.95: 100%|██████████| 2/2 [00:02<00:00,  1.14s/it]\n"
     ]
    },
    {
     "name": "stdout",
     "output_type": "stream",
     "text": [
      "                 all          72         334     0.00338      0.0449    0.000753    0.000128\n"
     ]
    },
    {
     "name": "stderr",
     "output_type": "stream",
     "text": [
      "\n",
      "     Epoch   gpu_mem       box       obj       cls     total    labels  img_size\n",
      "     20/99     10.4G   0.07075   0.01339         0   0.08413       148       416: 100%|██████████| 15/15 [00:26<00:00,  1.79s/it]\n",
      "               Class      Images      Labels           P           R      mAP@.5  mAP@.5:.95: 100%|██████████| 2/2 [00:02<00:00,  1.16s/it]\n"
     ]
    },
    {
     "name": "stdout",
     "output_type": "stream",
     "text": [
      "                 all          72         334      0.0224      0.0928      0.0038    0.000602\n"
     ]
    },
    {
     "name": "stderr",
     "output_type": "stream",
     "text": [
      "\n",
      "     Epoch   gpu_mem       box       obj       cls     total    labels  img_size\n",
      "     21/99     10.4G   0.06913   0.01279         0   0.08192       121       416: 100%|██████████| 15/15 [00:27<00:00,  1.80s/it]\n",
      "               Class      Images      Labels           P           R      mAP@.5  mAP@.5:.95: 100%|██████████| 2/2 [00:02<00:00,  1.17s/it]\n"
     ]
    },
    {
     "name": "stdout",
     "output_type": "stream",
     "text": [
      "                 all          72         334      0.0368       0.141      0.0112     0.00187\n"
     ]
    },
    {
     "name": "stderr",
     "output_type": "stream",
     "text": [
      "\n",
      "     Epoch   gpu_mem       box       obj       cls     total    labels  img_size\n",
      "     22/99     10.4G   0.06745   0.01297         0   0.08042       164       416: 100%|██████████| 15/15 [00:27<00:00,  1.81s/it]\n",
      "               Class      Images      Labels           P           R      mAP@.5  mAP@.5:.95: 100%|██████████| 2/2 [00:02<00:00,  1.18s/it]\n"
     ]
    },
    {
     "name": "stdout",
     "output_type": "stream",
     "text": [
      "                 all          72         334      0.0471       0.156       0.017     0.00363\n"
     ]
    },
    {
     "name": "stderr",
     "output_type": "stream",
     "text": [
      "\n",
      "     Epoch   gpu_mem       box       obj       cls     total    labels  img_size\n",
      "     23/99     10.4G   0.06684   0.01295         0    0.0798       172       416: 100%|██████████| 15/15 [00:26<00:00,  1.79s/it]\n",
      "               Class      Images      Labels           P           R      mAP@.5  mAP@.5:.95: 100%|██████████| 2/2 [00:02<00:00,  1.23s/it]\n"
     ]
    },
    {
     "name": "stdout",
     "output_type": "stream",
     "text": [
      "                 all          72         334      0.0516       0.138      0.0214     0.00412\n"
     ]
    },
    {
     "name": "stderr",
     "output_type": "stream",
     "text": [
      "\n",
      "     Epoch   gpu_mem       box       obj       cls     total    labels  img_size\n",
      "     24/99     10.4G   0.06499   0.01346         0   0.07845       163       416: 100%|██████████| 15/15 [00:27<00:00,  1.82s/it]\n",
      "               Class      Images      Labels           P           R      mAP@.5  mAP@.5:.95: 100%|██████████| 2/2 [00:02<00:00,  1.18s/it]\n"
     ]
    },
    {
     "name": "stdout",
     "output_type": "stream",
     "text": [
      "                 all          72         334      0.0659       0.126      0.0247     0.00469\n"
     ]
    },
    {
     "name": "stderr",
     "output_type": "stream",
     "text": [
      "\n",
      "     Epoch   gpu_mem       box       obj       cls     total    labels  img_size\n",
      "     25/99     10.4G   0.06287   0.01356         0   0.07643       201       416: 100%|██████████| 15/15 [00:27<00:00,  1.81s/it]\n",
      "               Class      Images      Labels           P           R      mAP@.5  mAP@.5:.95: 100%|██████████| 2/2 [00:02<00:00,  1.19s/it]\n"
     ]
    },
    {
     "name": "stdout",
     "output_type": "stream",
     "text": [
      "                 all          72         334       0.101       0.174      0.0439     0.00846\n"
     ]
    },
    {
     "name": "stderr",
     "output_type": "stream",
     "text": [
      "\n",
      "     Epoch   gpu_mem       box       obj       cls     total    labels  img_size\n",
      "     26/99     10.4G   0.06347   0.01263         0   0.07609       148       416: 100%|██████████| 15/15 [00:26<00:00,  1.80s/it]\n",
      "               Class      Images      Labels           P           R      mAP@.5  mAP@.5:.95: 100%|██████████| 2/2 [00:02<00:00,  1.19s/it]\n"
     ]
    },
    {
     "name": "stdout",
     "output_type": "stream",
     "text": [
      "                 all          72         334      0.0978       0.141      0.0412      0.0084\n"
     ]
    },
    {
     "name": "stderr",
     "output_type": "stream",
     "text": [
      "\n",
      "     Epoch   gpu_mem       box       obj       cls     total    labels  img_size\n",
      "     27/99     10.4G   0.06274   0.01328         0   0.07602       118       416: 100%|██████████| 15/15 [00:27<00:00,  1.82s/it]\n",
      "               Class      Images      Labels           P           R      mAP@.5  mAP@.5:.95: 100%|██████████| 2/2 [00:02<00:00,  1.20s/it]\n"
     ]
    },
    {
     "name": "stdout",
     "output_type": "stream",
     "text": [
      "                 all          72         334       0.109       0.201      0.0723      0.0174\n"
     ]
    },
    {
     "name": "stderr",
     "output_type": "stream",
     "text": [
      "\n",
      "     Epoch   gpu_mem       box       obj       cls     total    labels  img_size\n",
      "     28/99     10.4G   0.06125   0.01233         0   0.07358       116       416: 100%|██████████| 15/15 [00:27<00:00,  1.80s/it]\n",
      "               Class      Images      Labels           P           R      mAP@.5  mAP@.5:.95: 100%|██████████| 2/2 [00:02<00:00,  1.18s/it]\n"
     ]
    },
    {
     "name": "stdout",
     "output_type": "stream",
     "text": [
      "                 all          72         334       0.104       0.189        0.05      0.0106\n"
     ]
    },
    {
     "name": "stderr",
     "output_type": "stream",
     "text": [
      "\n",
      "     Epoch   gpu_mem       box       obj       cls     total    labels  img_size\n",
      "     29/99     10.4G   0.06266   0.01296         0   0.07562       173       416: 100%|██████████| 15/15 [00:27<00:00,  1.82s/it]\n",
      "               Class      Images      Labels           P           R      mAP@.5  mAP@.5:.95: 100%|██████████| 2/2 [00:02<00:00,  1.19s/it]\n"
     ]
    },
    {
     "name": "stdout",
     "output_type": "stream",
     "text": [
      "                 all          72         334       0.173       0.195      0.0873      0.0207\n"
     ]
    },
    {
     "name": "stderr",
     "output_type": "stream",
     "text": [
      "\n",
      "     Epoch   gpu_mem       box       obj       cls     total    labels  img_size\n",
      "     30/99     10.4G   0.06255   0.01271         0   0.07526       146       416: 100%|██████████| 15/15 [00:26<00:00,  1.79s/it]\n",
      "               Class      Images      Labels           P           R      mAP@.5  mAP@.5:.95: 100%|██████████| 2/2 [00:02<00:00,  1.25s/it]\n"
     ]
    },
    {
     "name": "stdout",
     "output_type": "stream",
     "text": [
      "                 all          72         334       0.141       0.153      0.0647      0.0133\n"
     ]
    },
    {
     "name": "stderr",
     "output_type": "stream",
     "text": [
      "\n",
      "     Epoch   gpu_mem       box       obj       cls     total    labels  img_size\n",
      "     31/99     10.4G   0.06259   0.01283         0   0.07543       155       416: 100%|██████████| 15/15 [00:27<00:00,  1.83s/it]\n",
      "               Class      Images      Labels           P           R      mAP@.5  mAP@.5:.95: 100%|██████████| 2/2 [00:02<00:00,  1.20s/it]\n"
     ]
    },
    {
     "name": "stdout",
     "output_type": "stream",
     "text": [
      "                 all          72         334       0.157       0.228      0.0909      0.0241\n"
     ]
    },
    {
     "name": "stderr",
     "output_type": "stream",
     "text": [
      "\n",
      "     Epoch   gpu_mem       box       obj       cls     total    labels  img_size\n",
      "     32/99     10.4G   0.06009   0.01318         0   0.07327       147       416: 100%|██████████| 15/15 [00:27<00:00,  1.80s/it]\n",
      "               Class      Images      Labels           P           R      mAP@.5  mAP@.5:.95: 100%|██████████| 2/2 [00:02<00:00,  1.19s/it]\n"
     ]
    },
    {
     "name": "stdout",
     "output_type": "stream",
     "text": [
      "                 all          72         334       0.204        0.18       0.108      0.0277\n"
     ]
    },
    {
     "name": "stderr",
     "output_type": "stream",
     "text": [
      "\n",
      "     Epoch   gpu_mem       box       obj       cls     total    labels  img_size\n",
      "     33/99     10.4G   0.06272   0.01212         0   0.07484       133       416: 100%|██████████| 15/15 [00:26<00:00,  1.79s/it]\n",
      "               Class      Images      Labels           P           R      mAP@.5  mAP@.5:.95: 100%|██████████| 2/2 [00:02<00:00,  1.17s/it]\n"
     ]
    },
    {
     "name": "stdout",
     "output_type": "stream",
     "text": [
      "                 all          72         334       0.123       0.161      0.0607      0.0125\n"
     ]
    },
    {
     "name": "stderr",
     "output_type": "stream",
     "text": [
      "\n",
      "     Epoch   gpu_mem       box       obj       cls     total    labels  img_size\n",
      "     34/99     10.4G   0.06393   0.01176         0    0.0757       200       416: 100%|██████████| 15/15 [00:26<00:00,  1.79s/it]\n",
      "               Class      Images      Labels           P           R      mAP@.5  mAP@.5:.95: 100%|██████████| 2/2 [00:02<00:00,  1.22s/it]\n"
     ]
    },
    {
     "name": "stdout",
     "output_type": "stream",
     "text": [
      "                 all          72         334      0.0928       0.177      0.0435      0.0105\n"
     ]
    },
    {
     "name": "stderr",
     "output_type": "stream",
     "text": [
      "\n",
      "     Epoch   gpu_mem       box       obj       cls     total    labels  img_size\n",
      "     35/99     10.4G   0.06156   0.01263         0   0.07419       119       416: 100%|██████████| 15/15 [00:26<00:00,  1.78s/it]\n",
      "               Class      Images      Labels           P           R      mAP@.5  mAP@.5:.95: 100%|██████████| 2/2 [00:02<00:00,  1.15s/it]\n"
     ]
    },
    {
     "name": "stdout",
     "output_type": "stream",
     "text": [
      "                 all          72         334        0.13       0.162      0.0603      0.0113\n"
     ]
    },
    {
     "name": "stderr",
     "output_type": "stream",
     "text": [
      "\n",
      "     Epoch   gpu_mem       box       obj       cls     total    labels  img_size\n",
      "     36/99     10.4G   0.06209   0.01314         0   0.07523       170       416: 100%|██████████| 15/15 [00:27<00:00,  1.80s/it]\n",
      "               Class      Images      Labels           P           R      mAP@.5  mAP@.5:.95: 100%|██████████| 2/2 [00:02<00:00,  1.18s/it]\n"
     ]
    },
    {
     "name": "stdout",
     "output_type": "stream",
     "text": [
      "                 all          72         334       0.148        0.24      0.0955      0.0244\n"
     ]
    },
    {
     "name": "stderr",
     "output_type": "stream",
     "text": [
      "\n",
      "     Epoch   gpu_mem       box       obj       cls     total    labels  img_size\n",
      "     37/99     10.4G   0.06279   0.01178         0   0.07456       180       416: 100%|██████████| 15/15 [00:26<00:00,  1.79s/it]\n",
      "               Class      Images      Labels           P           R      mAP@.5  mAP@.5:.95: 100%|██████████| 2/2 [00:02<00:00,  1.17s/it]\n"
     ]
    },
    {
     "name": "stdout",
     "output_type": "stream",
     "text": [
      "                 all          72         334       0.173       0.123      0.0691      0.0179\n"
     ]
    },
    {
     "name": "stderr",
     "output_type": "stream",
     "text": [
      "\n",
      "     Epoch   gpu_mem       box       obj       cls     total    labels  img_size\n",
      "     38/99     10.4G   0.06394   0.01235         0   0.07629       176       416: 100%|██████████| 15/15 [00:27<00:00,  1.80s/it]\n",
      "               Class      Images      Labels           P           R      mAP@.5  mAP@.5:.95: 100%|██████████| 2/2 [00:02<00:00,  1.15s/it]\n"
     ]
    },
    {
     "name": "stdout",
     "output_type": "stream",
     "text": [
      "                 all          72         334       0.211       0.234       0.123       0.031\n"
     ]
    },
    {
     "name": "stderr",
     "output_type": "stream",
     "text": [
      "\n",
      "     Epoch   gpu_mem       box       obj       cls     total    labels  img_size\n",
      "     39/99     10.4G   0.06219   0.01255         0   0.07473       167       416: 100%|██████████| 15/15 [00:27<00:00,  1.81s/it]\n",
      "               Class      Images      Labels           P           R      mAP@.5  mAP@.5:.95: 100%|██████████| 2/2 [00:02<00:00,  1.14s/it]\n"
     ]
    },
    {
     "name": "stdout",
     "output_type": "stream",
     "text": [
      "                 all          72         334      0.0771       0.344       0.048      0.0109\n"
     ]
    },
    {
     "name": "stderr",
     "output_type": "stream",
     "text": [
      "\n",
      "     Epoch   gpu_mem       box       obj       cls     total    labels  img_size\n",
      "     40/99     10.4G    0.0617   0.01167         0   0.07337       143       416: 100%|██████████| 15/15 [00:26<00:00,  1.78s/it]\n",
      "               Class      Images      Labels           P           R      mAP@.5  mAP@.5:.95: 100%|██████████| 2/2 [00:02<00:00,  1.14s/it]\n"
     ]
    },
    {
     "name": "stdout",
     "output_type": "stream",
     "text": [
      "                 all          72         334        0.15       0.251      0.0767      0.0206\n"
     ]
    },
    {
     "name": "stderr",
     "output_type": "stream",
     "text": [
      "\n",
      "     Epoch   gpu_mem       box       obj       cls     total    labels  img_size\n",
      "     41/99     10.4G   0.06083   0.01257         0    0.0734       201       416: 100%|██████████| 15/15 [00:26<00:00,  1.79s/it]\n",
      "               Class      Images      Labels           P           R      mAP@.5  mAP@.5:.95: 100%|██████████| 2/2 [00:02<00:00,  1.17s/it]\n"
     ]
    },
    {
     "name": "stdout",
     "output_type": "stream",
     "text": [
      "                 all          72         334        0.16       0.251      0.0805      0.0199\n"
     ]
    },
    {
     "name": "stderr",
     "output_type": "stream",
     "text": [
      "\n",
      "     Epoch   gpu_mem       box       obj       cls     total    labels  img_size\n",
      "     42/99     10.4G   0.05932   0.01234         0   0.07166       185       416: 100%|██████████| 15/15 [00:26<00:00,  1.78s/it]\n",
      "               Class      Images      Labels           P           R      mAP@.5  mAP@.5:.95: 100%|██████████| 2/2 [00:02<00:00,  1.15s/it]\n"
     ]
    },
    {
     "name": "stdout",
     "output_type": "stream",
     "text": [
      "                 all          72         334       0.258       0.216       0.124      0.0331\n"
     ]
    },
    {
     "name": "stderr",
     "output_type": "stream",
     "text": [
      "\n",
      "     Epoch   gpu_mem       box       obj       cls     total    labels  img_size\n",
      "     43/99     10.4G   0.06072    0.0121         0   0.07283       159       416: 100%|██████████| 15/15 [00:26<00:00,  1.77s/it]\n",
      "               Class      Images      Labels           P           R      mAP@.5  mAP@.5:.95: 100%|██████████| 2/2 [00:02<00:00,  1.14s/it]\n"
     ]
    },
    {
     "name": "stdout",
     "output_type": "stream",
     "text": [
      "                 all          72         334       0.205       0.228      0.0996      0.0268\n"
     ]
    },
    {
     "name": "stderr",
     "output_type": "stream",
     "text": [
      "\n",
      "     Epoch   gpu_mem       box       obj       cls     total    labels  img_size\n",
      "     44/99     10.4G    0.0591   0.01186         0   0.07096       146       416: 100%|██████████| 15/15 [00:26<00:00,  1.76s/it]\n",
      "               Class      Images      Labels           P           R      mAP@.5  mAP@.5:.95: 100%|██████████| 2/2 [00:02<00:00,  1.14s/it]\n"
     ]
    },
    {
     "name": "stdout",
     "output_type": "stream",
     "text": [
      "                 all          72         334       0.167       0.225      0.0877      0.0235\n"
     ]
    },
    {
     "name": "stderr",
     "output_type": "stream",
     "text": [
      "\n",
      "     Epoch   gpu_mem       box       obj       cls     total    labels  img_size\n",
      "     45/99     10.4G   0.05802   0.01216         0   0.07018       171       416: 100%|██████████| 15/15 [00:26<00:00,  1.79s/it]\n",
      "               Class      Images      Labels           P           R      mAP@.5  mAP@.5:.95: 100%|██████████| 2/2 [00:02<00:00,  1.15s/it]\n"
     ]
    },
    {
     "name": "stdout",
     "output_type": "stream",
     "text": [
      "                 all          72         334       0.227       0.272       0.143      0.0399\n"
     ]
    },
    {
     "name": "stderr",
     "output_type": "stream",
     "text": [
      "\n",
      "     Epoch   gpu_mem       box       obj       cls     total    labels  img_size\n",
      "     46/99     10.4G   0.05827   0.01179         0   0.07007       148       416: 100%|██████████| 15/15 [00:26<00:00,  1.80s/it]\n",
      "               Class      Images      Labels           P           R      mAP@.5  mAP@.5:.95: 100%|██████████| 2/2 [00:02<00:00,  1.16s/it]\n"
     ]
    },
    {
     "name": "stdout",
     "output_type": "stream",
     "text": [
      "                 all          72         334       0.222       0.243       0.119      0.0313\n"
     ]
    },
    {
     "name": "stderr",
     "output_type": "stream",
     "text": [
      "\n",
      "     Epoch   gpu_mem       box       obj       cls     total    labels  img_size\n",
      "     47/99     10.4G   0.06168   0.01263         0   0.07431       157       416: 100%|██████████| 15/15 [00:26<00:00,  1.79s/it]\n",
      "               Class      Images      Labels           P           R      mAP@.5  mAP@.5:.95: 100%|██████████| 2/2 [00:02<00:00,  1.14s/it]\n"
     ]
    },
    {
     "name": "stdout",
     "output_type": "stream",
     "text": [
      "                 all          72         334       0.194       0.293       0.126      0.0376\n"
     ]
    },
    {
     "name": "stderr",
     "output_type": "stream",
     "text": [
      "\n",
      "     Epoch   gpu_mem       box       obj       cls     total    labels  img_size\n",
      "     48/99     10.4G   0.05921   0.01219         0    0.0714       156       416: 100%|██████████| 15/15 [00:26<00:00,  1.80s/it]\n",
      "               Class      Images      Labels           P           R      mAP@.5  mAP@.5:.95: 100%|██████████| 2/2 [00:02<00:00,  1.14s/it]\n"
     ]
    },
    {
     "name": "stdout",
     "output_type": "stream",
     "text": [
      "                 all          72         334       0.169        0.24       0.107      0.0309\n"
     ]
    },
    {
     "name": "stderr",
     "output_type": "stream",
     "text": [
      "\n",
      "     Epoch   gpu_mem       box       obj       cls     total    labels  img_size\n",
      "     49/99     10.4G   0.06103   0.01214         0   0.07317       240       416: 100%|██████████| 15/15 [00:26<00:00,  1.80s/it]\n",
      "               Class      Images      Labels           P           R      mAP@.5  mAP@.5:.95: 100%|██████████| 2/2 [00:02<00:00,  1.14s/it]\n"
     ]
    },
    {
     "name": "stdout",
     "output_type": "stream",
     "text": [
      "                 all          72         334       0.222       0.275       0.138      0.0408\n"
     ]
    },
    {
     "name": "stderr",
     "output_type": "stream",
     "text": [
      "\n",
      "     Epoch   gpu_mem       box       obj       cls     total    labels  img_size\n",
      "     50/99     10.4G   0.05942   0.01234         0   0.07176       186       416: 100%|██████████| 15/15 [00:26<00:00,  1.79s/it]\n",
      "               Class      Images      Labels           P           R      mAP@.5  mAP@.5:.95: 100%|██████████| 2/2 [00:02<00:00,  1.19s/it]\n"
     ]
    },
    {
     "name": "stdout",
     "output_type": "stream",
     "text": [
      "                 all          72         334       0.189       0.222       0.115      0.0337\n"
     ]
    },
    {
     "name": "stderr",
     "output_type": "stream",
     "text": [
      "\n",
      "     Epoch   gpu_mem       box       obj       cls     total    labels  img_size\n",
      "     51/99     10.4G   0.06173   0.01205         0   0.07377       126       416: 100%|██████████| 15/15 [00:27<00:00,  1.80s/it]\n",
      "               Class      Images      Labels           P           R      mAP@.5  mAP@.5:.95: 100%|██████████| 2/2 [00:02<00:00,  1.14s/it]\n"
     ]
    },
    {
     "name": "stdout",
     "output_type": "stream",
     "text": [
      "                 all          72         334       0.232       0.243       0.125      0.0401\n"
     ]
    },
    {
     "name": "stderr",
     "output_type": "stream",
     "text": [
      "\n",
      "     Epoch   gpu_mem       box       obj       cls     total    labels  img_size\n",
      "     52/99     10.4G   0.05719    0.0121         0   0.06929       243       416: 100%|██████████| 15/15 [00:26<00:00,  1.79s/it]\n",
      "               Class      Images      Labels           P           R      mAP@.5  mAP@.5:.95: 100%|██████████| 2/2 [00:02<00:00,  1.13s/it]\n"
     ]
    },
    {
     "name": "stdout",
     "output_type": "stream",
     "text": [
      "                 all          72         334         0.2       0.204       0.103      0.0268\n"
     ]
    },
    {
     "name": "stderr",
     "output_type": "stream",
     "text": [
      "\n",
      "     Epoch   gpu_mem       box       obj       cls     total    labels  img_size\n",
      "     53/99     10.4G   0.06105   0.01191         0   0.07295       119       416: 100%|██████████| 15/15 [00:26<00:00,  1.78s/it]\n",
      "               Class      Images      Labels           P           R      mAP@.5  mAP@.5:.95: 100%|██████████| 2/2 [00:02<00:00,  1.14s/it]\n"
     ]
    },
    {
     "name": "stdout",
     "output_type": "stream",
     "text": [
      "                 all          72         334       0.255       0.305       0.164      0.0516\n"
     ]
    },
    {
     "name": "stderr",
     "output_type": "stream",
     "text": [
      "\n",
      "     Epoch   gpu_mem       box       obj       cls     total    labels  img_size\n",
      "     54/99     10.4G   0.05865   0.01156         0   0.07021       128       416: 100%|██████████| 15/15 [00:26<00:00,  1.79s/it]\n",
      "               Class      Images      Labels           P           R      mAP@.5  mAP@.5:.95: 100%|██████████| 2/2 [00:02<00:00,  1.20s/it]\n"
     ]
    },
    {
     "name": "stdout",
     "output_type": "stream",
     "text": [
      "                 all          72         334       0.261       0.302       0.182      0.0632\n"
     ]
    },
    {
     "name": "stderr",
     "output_type": "stream",
     "text": [
      "\n",
      "     Epoch   gpu_mem       box       obj       cls     total    labels  img_size\n",
      "     55/99     10.4G   0.06023   0.01166         0   0.07189       173       416: 100%|██████████| 15/15 [00:26<00:00,  1.77s/it]\n",
      "               Class      Images      Labels           P           R      mAP@.5  mAP@.5:.95: 100%|██████████| 2/2 [00:02<00:00,  1.13s/it]\n"
     ]
    },
    {
     "name": "stdout",
     "output_type": "stream",
     "text": [
      "                 all          72         334       0.284       0.362       0.222      0.0755\n"
     ]
    },
    {
     "name": "stderr",
     "output_type": "stream",
     "text": [
      "\n",
      "     Epoch   gpu_mem       box       obj       cls     total    labels  img_size\n",
      "     56/99     10.4G   0.06227   0.01185         0   0.07411       191       416: 100%|██████████| 15/15 [00:26<00:00,  1.78s/it]\n",
      "               Class      Images      Labels           P           R      mAP@.5  mAP@.5:.95: 100%|██████████| 2/2 [00:02<00:00,  1.13s/it]\n"
     ]
    },
    {
     "name": "stdout",
     "output_type": "stream",
     "text": [
      "                 all          72         334       0.328       0.243       0.181      0.0598\n"
     ]
    },
    {
     "name": "stderr",
     "output_type": "stream",
     "text": [
      "\n",
      "     Epoch   gpu_mem       box       obj       cls     total    labels  img_size\n",
      "     57/99     10.4G   0.05691   0.01135         0   0.06826       148       416: 100%|██████████| 15/15 [00:26<00:00,  1.79s/it]\n",
      "               Class      Images      Labels           P           R      mAP@.5  mAP@.5:.95: 100%|██████████| 2/2 [00:02<00:00,  1.15s/it]\n"
     ]
    },
    {
     "name": "stdout",
     "output_type": "stream",
     "text": [
      "                 all          72         334       0.236       0.317       0.182      0.0569\n"
     ]
    },
    {
     "name": "stderr",
     "output_type": "stream",
     "text": [
      "\n",
      "     Epoch   gpu_mem       box       obj       cls     total    labels  img_size\n",
      "     58/99     10.4G   0.05736    0.0116         0   0.06895       136       416: 100%|██████████| 15/15 [00:26<00:00,  1.78s/it]\n",
      "               Class      Images      Labels           P           R      mAP@.5  mAP@.5:.95: 100%|██████████| 2/2 [00:02<00:00,  1.18s/it]\n"
     ]
    },
    {
     "name": "stdout",
     "output_type": "stream",
     "text": [
      "                 all          72         334       0.237       0.404       0.188      0.0616\n"
     ]
    },
    {
     "name": "stderr",
     "output_type": "stream",
     "text": [
      "\n",
      "     Epoch   gpu_mem       box       obj       cls     total    labels  img_size\n",
      "     59/99     10.4G   0.05989   0.01176         0   0.07165       167       416: 100%|██████████| 15/15 [00:26<00:00,  1.80s/it]\n",
      "               Class      Images      Labels           P           R      mAP@.5  mAP@.5:.95: 100%|██████████| 2/2 [00:02<00:00,  1.11s/it]\n"
     ]
    },
    {
     "name": "stdout",
     "output_type": "stream",
     "text": [
      "                 all          72         334       0.292       0.407       0.236      0.0807\n"
     ]
    },
    {
     "name": "stderr",
     "output_type": "stream",
     "text": [
      "\n",
      "     Epoch   gpu_mem       box       obj       cls     total    labels  img_size\n",
      "     60/99     10.4G   0.05595   0.01186         0   0.06782       145       416: 100%|██████████| 15/15 [00:26<00:00,  1.78s/it]\n",
      "               Class      Images      Labels           P           R      mAP@.5  mAP@.5:.95: 100%|██████████| 2/2 [00:02<00:00,  1.13s/it]\n"
     ]
    },
    {
     "name": "stdout",
     "output_type": "stream",
     "text": [
      "                 all          72         334        0.33       0.395       0.255      0.0903\n"
     ]
    },
    {
     "name": "stderr",
     "output_type": "stream",
     "text": [
      "\n",
      "     Epoch   gpu_mem       box       obj       cls     total    labels  img_size\n",
      "     61/99     10.4G   0.05768   0.01201         0   0.06969       162       416: 100%|██████████| 15/15 [00:26<00:00,  1.79s/it]\n",
      "               Class      Images      Labels           P           R      mAP@.5  mAP@.5:.95: 100%|██████████| 2/2 [00:02<00:00,  1.15s/it]\n"
     ]
    },
    {
     "name": "stdout",
     "output_type": "stream",
     "text": [
      "                 all          72         334       0.327       0.338       0.233      0.0789\n"
     ]
    },
    {
     "name": "stderr",
     "output_type": "stream",
     "text": [
      "\n",
      "     Epoch   gpu_mem       box       obj       cls     total    labels  img_size\n",
      "     62/99     10.4G    0.0554    0.0117         0   0.06711       126       416: 100%|██████████| 15/15 [00:26<00:00,  1.79s/it]\n",
      "               Class      Images      Labels           P           R      mAP@.5  mAP@.5:.95: 100%|██████████| 2/2 [00:02<00:00,  1.15s/it]\n"
     ]
    },
    {
     "name": "stdout",
     "output_type": "stream",
     "text": [
      "                 all          72         334       0.432       0.365       0.292       0.109\n"
     ]
    },
    {
     "name": "stderr",
     "output_type": "stream",
     "text": [
      "\n",
      "     Epoch   gpu_mem       box       obj       cls     total    labels  img_size\n",
      "     63/99     10.4G   0.05563   0.01203         0   0.06766       142       416: 100%|██████████| 15/15 [00:26<00:00,  1.78s/it]\n",
      "               Class      Images      Labels           P           R      mAP@.5  mAP@.5:.95: 100%|██████████| 2/2 [00:02<00:00,  1.13s/it]\n"
     ]
    },
    {
     "name": "stdout",
     "output_type": "stream",
     "text": [
      "                 all          72         334        0.38       0.353       0.255      0.0903\n"
     ]
    },
    {
     "name": "stderr",
     "output_type": "stream",
     "text": [
      "\n",
      "     Epoch   gpu_mem       box       obj       cls     total    labels  img_size\n",
      "     64/99     10.4G    0.0588   0.01147         0   0.07027       203       416: 100%|██████████| 15/15 [00:26<00:00,  1.79s/it]\n",
      "               Class      Images      Labels           P           R      mAP@.5  mAP@.5:.95: 100%|██████████| 2/2 [00:02<00:00,  1.14s/it]\n"
     ]
    },
    {
     "name": "stdout",
     "output_type": "stream",
     "text": [
      "                 all          72         334       0.276       0.389       0.209      0.0732\n"
     ]
    },
    {
     "name": "stderr",
     "output_type": "stream",
     "text": [
      "\n",
      "     Epoch   gpu_mem       box       obj       cls     total    labels  img_size\n",
      "     65/99     10.4G   0.05866   0.01147         0   0.07013       190       416: 100%|██████████| 15/15 [00:26<00:00,  1.79s/it]\n",
      "               Class      Images      Labels           P           R      mAP@.5  mAP@.5:.95: 100%|██████████| 2/2 [00:02<00:00,  1.12s/it]\n"
     ]
    },
    {
     "name": "stdout",
     "output_type": "stream",
     "text": [
      "                 all          72         334         0.4       0.349        0.27      0.0998\n"
     ]
    },
    {
     "name": "stderr",
     "output_type": "stream",
     "text": [
      "\n",
      "     Epoch   gpu_mem       box       obj       cls     total    labels  img_size\n",
      "     66/99     10.4G   0.05971   0.01151         0   0.07122       122       416: 100%|██████████| 15/15 [00:26<00:00,  1.77s/it]\n",
      "               Class      Images      Labels           P           R      mAP@.5  mAP@.5:.95: 100%|██████████| 2/2 [00:02<00:00,  1.12s/it]\n"
     ]
    },
    {
     "name": "stdout",
     "output_type": "stream",
     "text": [
      "                 all          72         334       0.349       0.368        0.24      0.0781\n"
     ]
    },
    {
     "name": "stderr",
     "output_type": "stream",
     "text": [
      "\n",
      "     Epoch   gpu_mem       box       obj       cls     total    labels  img_size\n",
      "     67/99     10.4G   0.06144   0.01165         0   0.07309       216       416: 100%|██████████| 15/15 [00:26<00:00,  1.78s/it]\n",
      "               Class      Images      Labels           P           R      mAP@.5  mAP@.5:.95: 100%|██████████| 2/2 [00:02<00:00,  1.14s/it]\n"
     ]
    },
    {
     "name": "stdout",
     "output_type": "stream",
     "text": [
      "                 all          72         334       0.397       0.374       0.283       0.101\n"
     ]
    },
    {
     "name": "stderr",
     "output_type": "stream",
     "text": [
      "\n",
      "     Epoch   gpu_mem       box       obj       cls     total    labels  img_size\n",
      "     68/99     10.4G   0.06042   0.01208         0   0.07251        98       416: 100%|██████████| 15/15 [00:27<00:00,  1.82s/it]\n",
      "               Class      Images      Labels           P           R      mAP@.5  mAP@.5:.95: 100%|██████████| 2/2 [00:02<00:00,  1.14s/it]\n"
     ]
    },
    {
     "name": "stdout",
     "output_type": "stream",
     "text": [
      "                 all          72         334       0.327       0.404       0.249      0.0892\n"
     ]
    },
    {
     "name": "stderr",
     "output_type": "stream",
     "text": [
      "\n",
      "     Epoch   gpu_mem       box       obj       cls     total    labels  img_size\n",
      "     69/99     10.4G   0.05679   0.01213         0   0.06891       211       416: 100%|██████████| 15/15 [00:27<00:00,  1.80s/it]\n",
      "               Class      Images      Labels           P           R      mAP@.5  mAP@.5:.95: 100%|██████████| 2/2 [00:02<00:00,  1.14s/it]\n"
     ]
    },
    {
     "name": "stdout",
     "output_type": "stream",
     "text": [
      "                 all          72         334       0.375       0.371       0.271       0.101\n"
     ]
    },
    {
     "name": "stderr",
     "output_type": "stream",
     "text": [
      "\n",
      "     Epoch   gpu_mem       box       obj       cls     total    labels  img_size\n",
      "     70/99     10.4G   0.05742   0.01151         0   0.06893       111       416: 100%|██████████| 15/15 [00:26<00:00,  1.79s/it]\n",
      "               Class      Images      Labels           P           R      mAP@.5  mAP@.5:.95: 100%|██████████| 2/2 [00:02<00:00,  1.13s/it]\n"
     ]
    },
    {
     "name": "stdout",
     "output_type": "stream",
     "text": [
      "                 all          72         334       0.387       0.434       0.296       0.103\n"
     ]
    },
    {
     "name": "stderr",
     "output_type": "stream",
     "text": [
      "\n",
      "     Epoch   gpu_mem       box       obj       cls     total    labels  img_size\n",
      "     71/99     10.4G   0.05478   0.01093         0   0.06571       183       416: 100%|██████████| 15/15 [00:26<00:00,  1.78s/it]\n",
      "               Class      Images      Labels           P           R      mAP@.5  mAP@.5:.95: 100%|██████████| 2/2 [00:02<00:00,  1.13s/it]\n"
     ]
    },
    {
     "name": "stdout",
     "output_type": "stream",
     "text": [
      "                 all          72         334       0.488       0.382       0.345       0.126\n"
     ]
    },
    {
     "name": "stderr",
     "output_type": "stream",
     "text": [
      "\n",
      "     Epoch   gpu_mem       box       obj       cls     total    labels  img_size\n",
      "     72/99     10.4G   0.05846   0.01132         0   0.06979       103       416: 100%|██████████| 15/15 [00:26<00:00,  1.78s/it]\n",
      "               Class      Images      Labels           P           R      mAP@.5  mAP@.5:.95: 100%|██████████| 2/2 [00:02<00:00,  1.13s/it]\n"
     ]
    },
    {
     "name": "stdout",
     "output_type": "stream",
     "text": [
      "                 all          72         334       0.504       0.341       0.338       0.136\n"
     ]
    },
    {
     "name": "stderr",
     "output_type": "stream",
     "text": [
      "\n",
      "     Epoch   gpu_mem       box       obj       cls     total    labels  img_size\n",
      "     73/99     10.4G   0.05647   0.01133         0    0.0678       121       416: 100%|██████████| 15/15 [00:26<00:00,  1.78s/it]\n",
      "               Class      Images      Labels           P           R      mAP@.5  mAP@.5:.95: 100%|██████████| 2/2 [00:02<00:00,  1.13s/it]\n"
     ]
    },
    {
     "name": "stdout",
     "output_type": "stream",
     "text": [
      "                 all          72         334       0.387       0.439       0.338       0.135\n"
     ]
    },
    {
     "name": "stderr",
     "output_type": "stream",
     "text": [
      "\n",
      "     Epoch   gpu_mem       box       obj       cls     total    labels  img_size\n",
      "     74/99     10.4G   0.05605   0.01153         0   0.06757       126       416: 100%|██████████| 15/15 [00:26<00:00,  1.78s/it]\n",
      "               Class      Images      Labels           P           R      mAP@.5  mAP@.5:.95: 100%|██████████| 2/2 [00:02<00:00,  1.12s/it]\n"
     ]
    },
    {
     "name": "stdout",
     "output_type": "stream",
     "text": [
      "                 all          72         334       0.454       0.407       0.379        0.16\n"
     ]
    },
    {
     "name": "stderr",
     "output_type": "stream",
     "text": [
      "\n",
      "     Epoch   gpu_mem       box       obj       cls     total    labels  img_size\n",
      "     75/99     10.4G   0.05594   0.01124         0   0.06718       137       416: 100%|██████████| 15/15 [00:26<00:00,  1.78s/it]\n",
      "               Class      Images      Labels           P           R      mAP@.5  mAP@.5:.95: 100%|██████████| 2/2 [00:02<00:00,  1.11s/it]\n"
     ]
    },
    {
     "name": "stdout",
     "output_type": "stream",
     "text": [
      "                 all          72         334       0.424       0.455       0.383       0.155\n"
     ]
    },
    {
     "name": "stderr",
     "output_type": "stream",
     "text": [
      "\n",
      "     Epoch   gpu_mem       box       obj       cls     total    labels  img_size\n",
      "     76/99     10.4G    0.0549   0.01158         0   0.06649       128       416: 100%|██████████| 15/15 [00:26<00:00,  1.79s/it]\n",
      "               Class      Images      Labels           P           R      mAP@.5  mAP@.5:.95: 100%|██████████| 2/2 [00:02<00:00,  1.13s/it]\n"
     ]
    },
    {
     "name": "stdout",
     "output_type": "stream",
     "text": [
      "                 all          72         334       0.434       0.437       0.368       0.153\n"
     ]
    },
    {
     "name": "stderr",
     "output_type": "stream",
     "text": [
      "\n",
      "     Epoch   gpu_mem       box       obj       cls     total    labels  img_size\n",
      "     77/99     10.4G   0.05441   0.01177         0   0.06619       192       416: 100%|██████████| 15/15 [00:27<00:00,  1.80s/it]\n",
      "               Class      Images      Labels           P           R      mAP@.5  mAP@.5:.95: 100%|██████████| 2/2 [00:02<00:00,  1.12s/it]\n"
     ]
    },
    {
     "name": "stdout",
     "output_type": "stream",
     "text": [
      "                 all          72         334       0.397        0.46        0.35       0.139\n"
     ]
    },
    {
     "name": "stderr",
     "output_type": "stream",
     "text": [
      "\n",
      "     Epoch   gpu_mem       box       obj       cls     total    labels  img_size\n",
      "     78/99     10.4G   0.05549   0.01139         0   0.06688       213       416: 100%|██████████| 15/15 [00:26<00:00,  1.77s/it]\n",
      "               Class      Images      Labels           P           R      mAP@.5  mAP@.5:.95: 100%|██████████| 2/2 [00:02<00:00,  1.12s/it]\n"
     ]
    },
    {
     "name": "stdout",
     "output_type": "stream",
     "text": [
      "                 all          72         334       0.439       0.446       0.375        0.15\n"
     ]
    },
    {
     "name": "stderr",
     "output_type": "stream",
     "text": [
      "\n",
      "     Epoch   gpu_mem       box       obj       cls     total    labels  img_size\n",
      "     79/99     10.4G   0.05729   0.01161         0    0.0689       103       416: 100%|██████████| 15/15 [00:26<00:00,  1.79s/it]\n",
      "               Class      Images      Labels           P           R      mAP@.5  mAP@.5:.95: 100%|██████████| 2/2 [00:02<00:00,  1.13s/it]\n"
     ]
    },
    {
     "name": "stdout",
     "output_type": "stream",
     "text": [
      "                 all          72         334       0.432        0.44       0.371       0.149\n"
     ]
    },
    {
     "name": "stderr",
     "output_type": "stream",
     "text": [
      "\n",
      "     Epoch   gpu_mem       box       obj       cls     total    labels  img_size\n",
      "     80/99     10.4G    0.0526   0.01253         0   0.06513       178       416: 100%|██████████| 15/15 [00:26<00:00,  1.79s/it]\n",
      "               Class      Images      Labels           P           R      mAP@.5  mAP@.5:.95: 100%|██████████| 2/2 [00:02<00:00,  1.13s/it]\n"
     ]
    },
    {
     "name": "stdout",
     "output_type": "stream",
     "text": [
      "                 all          72         334       0.464        0.44        0.37       0.148\n"
     ]
    },
    {
     "name": "stderr",
     "output_type": "stream",
     "text": [
      "\n",
      "     Epoch   gpu_mem       box       obj       cls     total    labels  img_size\n",
      "     81/99     10.4G   0.05501   0.01183         0   0.06685       125       416: 100%|██████████| 15/15 [00:27<00:00,  1.80s/it]\n",
      "               Class      Images      Labels           P           R      mAP@.5  mAP@.5:.95: 100%|██████████| 2/2 [00:02<00:00,  1.17s/it]\n"
     ]
    },
    {
     "name": "stdout",
     "output_type": "stream",
     "text": [
      "                 all          72         334       0.478       0.446       0.386       0.165\n"
     ]
    },
    {
     "name": "stderr",
     "output_type": "stream",
     "text": [
      "\n",
      "     Epoch   gpu_mem       box       obj       cls     total    labels  img_size\n",
      "     82/99     10.4G     0.056   0.01207         0   0.06806       206       416: 100%|██████████| 15/15 [00:26<00:00,  1.79s/it]\n",
      "               Class      Images      Labels           P           R      mAP@.5  mAP@.5:.95: 100%|██████████| 2/2 [00:02<00:00,  1.13s/it]\n"
     ]
    },
    {
     "name": "stdout",
     "output_type": "stream",
     "text": [
      "                 all          72         334       0.497       0.413       0.406       0.166\n"
     ]
    },
    {
     "name": "stderr",
     "output_type": "stream",
     "text": [
      "\n",
      "     Epoch   gpu_mem       box       obj       cls     total    labels  img_size\n",
      "     83/99     10.4G   0.05375    0.0117         0   0.06545       124       416: 100%|██████████| 15/15 [00:26<00:00,  1.80s/it]\n",
      "               Class      Images      Labels           P           R      mAP@.5  mAP@.5:.95: 100%|██████████| 2/2 [00:02<00:00,  1.13s/it]\n"
     ]
    },
    {
     "name": "stdout",
     "output_type": "stream",
     "text": [
      "                 all          72         334       0.518       0.386       0.399       0.159\n"
     ]
    },
    {
     "name": "stderr",
     "output_type": "stream",
     "text": [
      "\n",
      "     Epoch   gpu_mem       box       obj       cls     total    labels  img_size\n",
      "     84/99     10.4G   0.05648   0.01139         0   0.06787       152       416: 100%|██████████| 15/15 [00:27<00:00,  1.82s/it]\n",
      "               Class      Images      Labels           P           R      mAP@.5  mAP@.5:.95: 100%|██████████| 2/2 [00:02<00:00,  1.13s/it]\n"
     ]
    },
    {
     "name": "stdout",
     "output_type": "stream",
     "text": [
      "                 all          72         334        0.45       0.416        0.37        0.15\n"
     ]
    },
    {
     "name": "stderr",
     "output_type": "stream",
     "text": [
      "\n",
      "     Epoch   gpu_mem       box       obj       cls     total    labels  img_size\n",
      "     85/99     10.4G   0.05583    0.0115         0   0.06733       177       416: 100%|██████████| 15/15 [00:26<00:00,  1.78s/it]\n",
      "               Class      Images      Labels           P           R      mAP@.5  mAP@.5:.95: 100%|██████████| 2/2 [00:02<00:00,  1.12s/it]\n"
     ]
    },
    {
     "name": "stdout",
     "output_type": "stream",
     "text": [
      "                 all          72         334       0.387       0.416       0.313       0.116\n"
     ]
    },
    {
     "name": "stderr",
     "output_type": "stream",
     "text": [
      "\n",
      "     Epoch   gpu_mem       box       obj       cls     total    labels  img_size\n",
      "     86/99     10.4G   0.05566   0.01155         0   0.06721       177       416: 100%|██████████| 15/15 [00:26<00:00,  1.78s/it]\n",
      "               Class      Images      Labels           P           R      mAP@.5  mAP@.5:.95: 100%|██████████| 2/2 [00:02<00:00,  1.12s/it]\n"
     ]
    },
    {
     "name": "stdout",
     "output_type": "stream",
     "text": [
      "                 all          72         334       0.509       0.416       0.426        0.17\n"
     ]
    },
    {
     "name": "stderr",
     "output_type": "stream",
     "text": [
      "\n",
      "     Epoch   gpu_mem       box       obj       cls     total    labels  img_size\n",
      "     87/99     10.4G   0.05662   0.01122         0   0.06784       125       416: 100%|██████████| 15/15 [00:26<00:00,  1.77s/it]\n",
      "               Class      Images      Labels           P           R      mAP@.5  mAP@.5:.95: 100%|██████████| 2/2 [00:02<00:00,  1.13s/it]\n"
     ]
    },
    {
     "name": "stdout",
     "output_type": "stream",
     "text": [
      "                 all          72         334       0.588       0.344       0.404       0.161\n"
     ]
    },
    {
     "name": "stderr",
     "output_type": "stream",
     "text": [
      "\n",
      "     Epoch   gpu_mem       box       obj       cls     total    labels  img_size\n",
      "     88/99     10.4G   0.05437   0.01085         0   0.06522       172       416: 100%|██████████| 15/15 [00:26<00:00,  1.79s/it]\n",
      "               Class      Images      Labels           P           R      mAP@.5  mAP@.5:.95: 100%|██████████| 2/2 [00:02<00:00,  1.13s/it]\n"
     ]
    },
    {
     "name": "stdout",
     "output_type": "stream",
     "text": [
      "                 all          72         334       0.451       0.392       0.383        0.15\n"
     ]
    },
    {
     "name": "stderr",
     "output_type": "stream",
     "text": [
      "\n",
      "     Epoch   gpu_mem       box       obj       cls     total    labels  img_size\n",
      "     89/99     10.4G   0.05389   0.01121         0    0.0651       154       416: 100%|██████████| 15/15 [00:26<00:00,  1.78s/it]\n",
      "               Class      Images      Labels           P           R      mAP@.5  mAP@.5:.95: 100%|██████████| 2/2 [00:02<00:00,  1.13s/it]\n"
     ]
    },
    {
     "name": "stdout",
     "output_type": "stream",
     "text": [
      "                 all          72         334       0.465       0.371        0.35       0.135\n"
     ]
    },
    {
     "name": "stderr",
     "output_type": "stream",
     "text": [
      "\n",
      "     Epoch   gpu_mem       box       obj       cls     total    labels  img_size\n",
      "     90/99     10.4G   0.05308   0.01134         0   0.06442       164       416: 100%|██████████| 15/15 [00:26<00:00,  1.79s/it]\n",
      "               Class      Images      Labels           P           R      mAP@.5  mAP@.5:.95: 100%|██████████| 2/2 [00:02<00:00,  1.13s/it]\n"
     ]
    },
    {
     "name": "stdout",
     "output_type": "stream",
     "text": [
      "                 all          72         334       0.455       0.425       0.373       0.141\n"
     ]
    },
    {
     "name": "stderr",
     "output_type": "stream",
     "text": [
      "\n",
      "     Epoch   gpu_mem       box       obj       cls     total    labels  img_size\n",
      "     91/99     10.4G   0.05572   0.01137         0   0.06709       127       416: 100%|██████████| 15/15 [00:26<00:00,  1.78s/it]\n",
      "               Class      Images      Labels           P           R      mAP@.5  mAP@.5:.95: 100%|██████████| 2/2 [00:02<00:00,  1.13s/it]\n"
     ]
    },
    {
     "name": "stdout",
     "output_type": "stream",
     "text": [
      "                 all          72         334       0.547       0.386       0.404       0.168\n"
     ]
    },
    {
     "name": "stderr",
     "output_type": "stream",
     "text": [
      "\n",
      "     Epoch   gpu_mem       box       obj       cls     total    labels  img_size\n",
      "     92/99     10.4G   0.05487   0.01131         0   0.06619       170       416: 100%|██████████| 15/15 [00:26<00:00,  1.79s/it]\n",
      "               Class      Images      Labels           P           R      mAP@.5  mAP@.5:.95: 100%|██████████| 2/2 [00:02<00:00,  1.13s/it]\n"
     ]
    },
    {
     "name": "stdout",
     "output_type": "stream",
     "text": [
      "                 all          72         334       0.454        0.41       0.392       0.167\n"
     ]
    },
    {
     "name": "stderr",
     "output_type": "stream",
     "text": [
      "\n",
      "     Epoch   gpu_mem       box       obj       cls     total    labels  img_size\n",
      "     93/99     10.4G   0.05623   0.01176         0   0.06799       141       416: 100%|██████████| 15/15 [00:27<00:00,  1.80s/it]\n",
      "               Class      Images      Labels           P           R      mAP@.5  mAP@.5:.95: 100%|██████████| 2/2 [00:02<00:00,  1.13s/it]\n"
     ]
    },
    {
     "name": "stdout",
     "output_type": "stream",
     "text": [
      "                 all          72         334       0.456        0.44       0.407       0.172\n"
     ]
    },
    {
     "name": "stderr",
     "output_type": "stream",
     "text": [
      "\n",
      "     Epoch   gpu_mem       box       obj       cls     total    labels  img_size\n",
      "     94/99     10.4G   0.05505   0.01076         0   0.06581       107       416: 100%|██████████| 15/15 [00:26<00:00,  1.78s/it]\n",
      "               Class      Images      Labels           P           R      mAP@.5  mAP@.5:.95: 100%|██████████| 2/2 [00:02<00:00,  1.13s/it]\n"
     ]
    },
    {
     "name": "stdout",
     "output_type": "stream",
     "text": [
      "                 all          72         334       0.437       0.446       0.376       0.147\n"
     ]
    },
    {
     "name": "stderr",
     "output_type": "stream",
     "text": [
      "\n",
      "     Epoch   gpu_mem       box       obj       cls     total    labels  img_size\n",
      "     95/99     10.4G   0.05553   0.01108         0   0.06662       161       416: 100%|██████████| 15/15 [00:26<00:00,  1.78s/it]\n",
      "               Class      Images      Labels           P           R      mAP@.5  mAP@.5:.95: 100%|██████████| 2/2 [00:02<00:00,  1.13s/it]\n"
     ]
    },
    {
     "name": "stdout",
     "output_type": "stream",
     "text": [
      "                 all          72         334       0.373       0.485       0.358       0.137\n"
     ]
    },
    {
     "name": "stderr",
     "output_type": "stream",
     "text": [
      "\n",
      "     Epoch   gpu_mem       box       obj       cls     total    labels  img_size\n",
      "     96/99     10.4G   0.05446   0.01067         0   0.06513       180       416: 100%|██████████| 15/15 [00:26<00:00,  1.79s/it]\n",
      "               Class      Images      Labels           P           R      mAP@.5  mAP@.5:.95: 100%|██████████| 2/2 [00:02<00:00,  1.13s/it]\n"
     ]
    },
    {
     "name": "stdout",
     "output_type": "stream",
     "text": [
      "                 all          72         334       0.525       0.401        0.41       0.174\n"
     ]
    },
    {
     "name": "stderr",
     "output_type": "stream",
     "text": [
      "\n",
      "     Epoch   gpu_mem       box       obj       cls     total    labels  img_size\n",
      "     97/99     10.4G   0.05736   0.01233         0   0.06969       148       416: 100%|██████████| 15/15 [00:26<00:00,  1.79s/it]\n",
      "               Class      Images      Labels           P           R      mAP@.5  mAP@.5:.95: 100%|██████████| 2/2 [00:02<00:00,  1.12s/it]\n"
     ]
    },
    {
     "name": "stdout",
     "output_type": "stream",
     "text": [
      "                 all          72         334       0.551       0.398       0.412       0.168\n"
     ]
    },
    {
     "name": "stderr",
     "output_type": "stream",
     "text": [
      "\n",
      "     Epoch   gpu_mem       box       obj       cls     total    labels  img_size\n",
      "     98/99     10.4G   0.05564   0.01137         0     0.067       179       416: 100%|██████████| 15/15 [00:26<00:00,  1.77s/it]\n",
      "               Class      Images      Labels           P           R      mAP@.5  mAP@.5:.95: 100%|██████████| 2/2 [00:02<00:00,  1.12s/it]\n"
     ]
    },
    {
     "name": "stdout",
     "output_type": "stream",
     "text": [
      "                 all          72         334       0.452       0.455       0.379       0.163\n"
     ]
    },
    {
     "name": "stderr",
     "output_type": "stream",
     "text": [
      "\n",
      "     Epoch   gpu_mem       box       obj       cls     total    labels  img_size\n",
      "     99/99     10.4G   0.05341    0.0118         0    0.0652       165       416: 100%|██████████| 15/15 [00:26<00:00,  1.79s/it]\n",
      "               Class      Images      Labels           P           R      mAP@.5  mAP@.5:.95: 100%|██████████| 2/2 [00:02<00:00,  1.47s/it]\n"
     ]
    },
    {
     "name": "stdout",
     "output_type": "stream",
     "text": [
      "                 all          72         334       0.486       0.395        0.35        0.14\n"
     ]
    },
    {
     "name": "stderr",
     "output_type": "stream",
     "text": [
      "100 epochs completed in 1.050 hours.\n",
      "\n"
     ]
    },
    {
     "name": "stdout",
     "output_type": "stream",
     "text": [
      "Optimizer stripped from runs/train/yolov710/weights/last.pt, 74.8MB\n",
      "Optimizer stripped from runs/train/yolov710/weights/best.pt, 74.8MB\n"
     ]
    }
   ],
   "source": [
    "# YOLOv5 Model trainng\n",
    "%run train.py --batch-size 32 --epochs 100 --data './Empty-Spaces-Detection-in-Shelf-Data-5/data.yaml' --img 416 --cfg cfg/training/yolov7.yaml --weights '' --name yolov7 --hyp data/hyp.scratch.p5.yaml \n"
   ]
  },
  {
   "cell_type": "code",
   "execution_count": 9,
   "id": "b6753e8e-4019-402b-bbed-783401de8206",
   "metadata": {},
   "outputs": [
    {
     "name": "stderr",
     "output_type": "stream",
     "text": [
      "YOLOR 🚀 v0.1-126-g84932d7 torch 2.0.1+cu117 CUDA:0 (Tesla K80, 12206.6875MB)\n",
      "                                            CUDA:1 (Tesla K80, 12206.6875MB)\n",
      "\n"
     ]
    },
    {
     "name": "stdout",
     "output_type": "stream",
     "text": [
      "Namespace(agnostic_nms=False, augment=False, classes=None, conf_thres=0.4, device='', exist_ok=False, img_size=416, iou_thres=0.45, name='exp', no_trace=False, nosave=False, project='runs/detect', save_conf=False, save_txt=False, source='./SKU-110k-6/test/images', update=False, view_img=False, weights=['runs/train/yolov710/weights/last.pt'])\n",
      "Fusing layers... \n",
      "RepConv.fuse_repvgg_block\n",
      "RepConv.fuse_repvgg_block\n",
      "RepConv.fuse_repvgg_block\n",
      "IDetect.fuse\n"
     ]
    },
    {
     "name": "stderr",
     "output_type": "stream",
     "text": [
      "Model Summary: 314 layers, 36481772 parameters, 6194944 gradients, 103.2 GFLOPS\n"
     ]
    },
    {
     "name": "stdout",
     "output_type": "stream",
     "text": [
      " Convert model to Traced-model... \n",
      " traced_script_module saved! \n",
      " model is traced! \n",
      "\n",
      "1 emptySpaces, Done. (34.5ms) Inference, (2.0ms) NMS\n",
      " The image with the result is saved in: runs/detect/exp4/test_1004_jpg.rf.0871920603467b8451a4f685a95aabbb.jpg\n",
      "Done. (39.6ms) Inference, (3.5ms) NMS\n",
      " The image with the result is saved in: runs/detect/exp4/test_1008_jpg.rf.70fcddcf7fd425164ee0d13333b86a8a.jpg\n",
      "1 emptySpaces, Done. (39.8ms) Inference, (7.2ms) NMS\n",
      " The image with the result is saved in: runs/detect/exp4/test_1038_jpg.rf.1c4ed1573d706c40e28daf29869b2956.jpg\n",
      "5 emptySpacess, Done. (39.8ms) Inference, (1.8ms) NMS\n",
      " The image with the result is saved in: runs/detect/exp4/test_1056_jpg.rf.cb9df1e7e96bed31df37836ee2d8dd43.jpg\n",
      "2 emptySpacess, Done. (39.9ms) Inference, (2.8ms) NMS\n",
      " The image with the result is saved in: runs/detect/exp4/test_1057_jpg.rf.eacb741f5a16d0019bb5526b6539b704.jpg\n",
      "1 emptySpaces, Done. (39.5ms) Inference, (1.3ms) NMS\n",
      " The image with the result is saved in: runs/detect/exp4/test_1063_jpg.rf.dffe5dab0609076ad707a98e94074450.jpg\n",
      "Done. (39.6ms) Inference, (0.2ms) NMS\n",
      " The image with the result is saved in: runs/detect/exp4/test_1065_jpg.rf.8527ad06476f1ffff5f5c7b67b9d3853.jpg\n",
      "Done. (39.7ms) Inference, (0.3ms) NMS\n",
      " The image with the result is saved in: runs/detect/exp4/test_1067_jpg.rf.89030e53d626e2dc0cf5ab886b579e25.jpg\n",
      "Done. (39.7ms) Inference, (0.3ms) NMS\n",
      " The image with the result is saved in: runs/detect/exp4/test_1068_jpg.rf.3086d16bc666d90caf157f76060a93bb.jpg\n",
      "2 emptySpacess, Done. (34.4ms) Inference, (1.3ms) NMS\n",
      " The image with the result is saved in: runs/detect/exp4/test_106_jpg.rf.2dc9ba494531dac35a4a61324d646e41.jpg\n",
      "Done. (39.8ms) Inference, (0.4ms) NMS\n",
      " The image with the result is saved in: runs/detect/exp4/test_1075_jpg.rf.5a2a483ccf897ed6e5ae1557a734a775.jpg\n",
      "Done. (39.9ms) Inference, (0.3ms) NMS\n",
      " The image with the result is saved in: runs/detect/exp4/test_1077_jpg.rf.c9fed26e087b1cb01076ecd9ce8d065a.jpg\n",
      "3 emptySpacess, Done. (34.6ms) Inference, (1.3ms) NMS\n",
      " The image with the result is saved in: runs/detect/exp4/test_1081_jpg.rf.15eff680d12f975d2d8a0d778289aaa4.jpg\n",
      "3 emptySpacess, Done. (34.6ms) Inference, (1.3ms) NMS\n",
      " The image with the result is saved in: runs/detect/exp4/test_1082_jpg.rf.a54c2dc48d771f4333e89d9eff9fb6a3.jpg\n",
      "2 emptySpacess, Done. (34.5ms) Inference, (1.3ms) NMS\n",
      " The image with the result is saved in: runs/detect/exp4/test_1101_jpg.rf.e6118eb4f9c4826c425c5b9593a53630.jpg\n",
      "2 emptySpacess, Done. (40.1ms) Inference, (1.6ms) NMS\n",
      " The image with the result is saved in: runs/detect/exp4/test_1102_jpg.rf.86c892d39ca9dbc27ea606c7334f8916.jpg\n",
      "2 emptySpacess, Done. (39.6ms) Inference, (1.2ms) NMS\n",
      " The image with the result is saved in: runs/detect/exp4/test_1104_jpg.rf.6bbc19f988a97ac0bd6478774b4a37f8.jpg\n",
      "Done. (39.7ms) Inference, (0.3ms) NMS\n",
      " The image with the result is saved in: runs/detect/exp4/test_1126_jpg.rf.0b1ede1d22b2ea7b5a6eb8046cf85f6e.jpg\n",
      "Done. (39.7ms) Inference, (0.3ms) NMS\n",
      " The image with the result is saved in: runs/detect/exp4/test_1130_jpg.rf.4724d00d99a92120a7cacb4646eeb173.jpg\n",
      "Done. (34.4ms) Inference, (0.3ms) NMS\n",
      " The image with the result is saved in: runs/detect/exp4/test_1155_jpg.rf.afbac3a9a50278ba353306955097962e.jpg\n",
      "1 emptySpaces, Done. (39.5ms) Inference, (1.9ms) NMS\n",
      " The image with the result is saved in: runs/detect/exp4/test_1157_jpg.rf.ded6f3913353eca2c19f5c03094e32d4.jpg\n",
      "Done. (39.7ms) Inference, (1.4ms) NMS\n",
      " The image with the result is saved in: runs/detect/exp4/test_1161_jpg.rf.33b6706aaaab78d63c73dcfc6754dfaf.jpg\n",
      "4 emptySpacess, Done. (34.5ms) Inference, (1.3ms) NMS\n",
      " The image with the result is saved in: runs/detect/exp4/test_1189_jpg.rf.4cafa1e30d94de1221e1b88b00a3dd31.jpg\n",
      "2 emptySpacess, Done. (39.6ms) Inference, (1.3ms) NMS\n",
      " The image with the result is saved in: runs/detect/exp4/test_1204_jpg.rf.6f607817da0edc5b6c2dcfa2d68a5d0d.jpg\n",
      "1 emptySpaces, Done. (39.9ms) Inference, (1.3ms) NMS\n",
      " The image with the result is saved in: runs/detect/exp4/test_1217_jpg.rf.ad13db18f2ddb979dd35ffe9bc14aea3.jpg\n",
      "Done. (41.3ms) Inference, (1.4ms) NMS\n",
      " The image with the result is saved in: runs/detect/exp4/test_1237_jpg.rf.928f08f84a8af7d8323672c0d42001e4.jpg\n",
      "3 emptySpacess, Done. (39.8ms) Inference, (1.3ms) NMS\n",
      " The image with the result is saved in: runs/detect/exp4/test_1257_jpg.rf.d92c4834c0d4339aed5eaa541cbeae75.jpg\n",
      "3 emptySpacess, Done. (40.4ms) Inference, (1.6ms) NMS\n",
      " The image with the result is saved in: runs/detect/exp4/test_1262_jpg.rf.2bae48347fdee65c77ca6799f8dfcdb3.jpg\n",
      "Done. (40.0ms) Inference, (0.4ms) NMS\n",
      " The image with the result is saved in: runs/detect/exp4/test_1284_jpg.rf.4bdeb491bfac5ba36559af237e058c44.jpg\n",
      "5 emptySpacess, Done. (34.5ms) Inference, (1.4ms) NMS\n",
      " The image with the result is saved in: runs/detect/exp4/test_1285_jpg.rf.8d0fcbc0f2e96d12ea16cfbe0d9f24ce.jpg\n",
      "1 emptySpaces, Done. (34.6ms) Inference, (1.3ms) NMS\n",
      " The image with the result is saved in: runs/detect/exp4/test_1289_jpg.rf.ee3348013632e598a9b15a95445bd0dd.jpg\n",
      "1 emptySpaces, Done. (39.6ms) Inference, (1.2ms) NMS\n",
      " The image with the result is saved in: runs/detect/exp4/test_1308_jpg.rf.ae5ee5c8b2d5fa8ac58ee72a359938ab.jpg\n",
      "Done. (34.5ms) Inference, (0.3ms) NMS\n",
      " The image with the result is saved in: runs/detect/exp4/test_1310_jpg.rf.ab40a40e5c1e3056f04742000b65f827.jpg\n",
      "2 emptySpacess, Done. (39.6ms) Inference, (1.3ms) NMS\n",
      " The image with the result is saved in: runs/detect/exp4/test_1312_jpg.rf.33f5f587093942607ece78581f0390c8.jpg\n",
      "Done. (39.7ms) Inference, (0.3ms) NMS\n",
      " The image with the result is saved in: runs/detect/exp4/test_1316_jpg.rf.a373ce2fc36b782e980d1abf12580061.jpg\n",
      "Done. (39.8ms) Inference, (0.3ms) NMS\n",
      " The image with the result is saved in: runs/detect/exp4/test_1318_jpg.rf.1ed5097ed7e17d022ba3beed5082eff0.jpg\n",
      "Done. (39.6ms) Inference, (0.3ms) NMS\n",
      " The image with the result is saved in: runs/detect/exp4/test_1380_jpg.rf.e396afcb36f0eb156e50c1edb4914213.jpg\n",
      "5 emptySpacess, Done. (39.7ms) Inference, (1.3ms) NMS\n",
      " The image with the result is saved in: runs/detect/exp4/test_1385_jpg.rf.490c2e1847493dd8ffe36513d7336a27.jpg\n",
      "6 emptySpacess, Done. (39.7ms) Inference, (1.3ms) NMS\n",
      " The image with the result is saved in: runs/detect/exp4/test_1395_jpg.rf.4255924a9198f796b630fa3b97b388eb.jpg\n",
      "Done. (34.5ms) Inference, (0.3ms) NMS\n",
      " The image with the result is saved in: runs/detect/exp4/test_1399_jpg.rf.d95ede1e08295d3695b670577a0b75b2.jpg\n",
      "8 emptySpacess, Done. (39.7ms) Inference, (1.3ms) NMS\n",
      " The image with the result is saved in: runs/detect/exp4/test_1419_jpg.rf.072732678542b66511d1ccd1f2d2ff38.jpg\n",
      "1 emptySpaces, Done. (39.6ms) Inference, (1.3ms) NMS\n",
      " The image with the result is saved in: runs/detect/exp4/test_1423_jpg.rf.625953058acbe945f978da3a5668b7e2.jpg\n",
      "Done. (39.6ms) Inference, (0.3ms) NMS\n",
      " The image with the result is saved in: runs/detect/exp4/test_1436_jpg.rf.0d05126470eb55c6b366d2fd29d8abf0.jpg\n",
      "Done. (39.7ms) Inference, (0.3ms) NMS\n",
      " The image with the result is saved in: runs/detect/exp4/test_1456_jpg.rf.134bc897f6952330188287c72ff77bcd.jpg\n",
      "Done. (42.5ms) Inference, (0.3ms) NMS\n",
      " The image with the result is saved in: runs/detect/exp4/test_1477_jpg.rf.b13192a0e934785cd20f7c92d16b132a.jpg\n",
      "1 emptySpaces, Done. (39.8ms) Inference, (1.3ms) NMS\n",
      " The image with the result is saved in: runs/detect/exp4/test_1484_jpg.rf.46e2078bd8b75bb20a88919ee7dd54f3.jpg\n",
      "Done. (39.6ms) Inference, (0.3ms) NMS\n",
      " The image with the result is saved in: runs/detect/exp4/test_1492_jpg.rf.f8b2a4b7aa5b53785f7f6a479d6cb6ca.jpg\n",
      "Done. (39.7ms) Inference, (0.3ms) NMS\n",
      " The image with the result is saved in: runs/detect/exp4/test_1496_jpg.rf.f3478b8ef23e06fe1b365148843b21f2.jpg\n",
      "8 emptySpacess, Done. (39.8ms) Inference, (1.3ms) NMS\n",
      " The image with the result is saved in: runs/detect/exp4/test_1501_jpg.rf.9b6463a00b01e93410c02b5a8390d3de.jpg\n",
      "3 emptySpacess, Done. (39.7ms) Inference, (1.2ms) NMS\n",
      " The image with the result is saved in: runs/detect/exp4/test_1514_jpg.rf.fbf35107ad19dfcfa4988f0bb65aa439.jpg\n",
      "1 emptySpaces, Done. (39.7ms) Inference, (1.3ms) NMS\n",
      " The image with the result is saved in: runs/detect/exp4/test_1521_jpg.rf.0a6c47fa365c299d5daf300bd30aacef.jpg\n",
      "6 emptySpacess, Done. (34.4ms) Inference, (1.3ms) NMS\n",
      " The image with the result is saved in: runs/detect/exp4/test_153_jpg.rf.d800b29bb71f8e3cf706a343be91edf2.jpg\n",
      "Done. (39.8ms) Inference, (0.2ms) NMS\n",
      " The image with the result is saved in: runs/detect/exp4/test_1555_jpg.rf.3a6fb29939f9baadb2a6904d96e9f1cb.jpg\n",
      "6 emptySpacess, Done. (39.6ms) Inference, (1.3ms) NMS\n",
      " The image with the result is saved in: runs/detect/exp4/test_1558_jpg.rf.9fd4468ced92c8ff318cae62fea4861c.jpg\n",
      "2 emptySpacess, Done. (39.7ms) Inference, (1.3ms) NMS\n",
      " The image with the result is saved in: runs/detect/exp4/test_1574_jpg.rf.b051a5a25ac20e7f3347b788a93359fb.jpg\n",
      "1 emptySpaces, Done. (34.5ms) Inference, (1.2ms) NMS\n",
      " The image with the result is saved in: runs/detect/exp4/test_1599_jpg.rf.21e39ff1ccd9f8c29e27a46dfd298d58.jpg\n",
      "1 emptySpaces, Done. (34.6ms) Inference, (1.3ms) NMS\n",
      " The image with the result is saved in: runs/detect/exp4/test_1600_jpg.rf.c786684f526ced63892fb6620ef881dc.jpg\n",
      "2 emptySpacess, Done. (39.8ms) Inference, (1.2ms) NMS\n",
      " The image with the result is saved in: runs/detect/exp4/test_1625_jpg.rf.694accf2a37873fc6e0631d108a2d0ef.jpg\n",
      "5 emptySpacess, Done. (34.6ms) Inference, (2.9ms) NMS\n",
      " The image with the result is saved in: runs/detect/exp4/test_1648_jpg.rf.44dab61fe7a0c064383b3b84c0f7c6ee.jpg\n",
      "Done. (39.8ms) Inference, (0.6ms) NMS\n",
      " The image with the result is saved in: runs/detect/exp4/test_1651_jpg.rf.49e45818bb29867060fc6b55e90e3cf2.jpg\n",
      "Done. (41.1ms) Inference, (1.4ms) NMS\n",
      " The image with the result is saved in: runs/detect/exp4/test_165_jpg.rf.a6a3f14fbcf50f4a2acc2be0344ed435.jpg\n",
      "1 emptySpaces, Done. (39.6ms) Inference, (1.3ms) NMS\n",
      " The image with the result is saved in: runs/detect/exp4/test_1665_jpg.rf.20bc16bf8fad092cb4c63c05af837c39.jpg\n",
      "3 emptySpacess, Done. (39.8ms) Inference, (1.3ms) NMS\n",
      " The image with the result is saved in: runs/detect/exp4/test_1672_jpg.rf.b83ce8989bef0c6edcdf823e8c636a56.jpg\n",
      "1 emptySpaces, Done. (40.3ms) Inference, (1.3ms) NMS\n",
      " The image with the result is saved in: runs/detect/exp4/test_1699_jpg.rf.090bc4fff922cdbbd769a9f8ebe45922.jpg\n",
      "1 emptySpaces, Done. (39.6ms) Inference, (1.2ms) NMS\n",
      " The image with the result is saved in: runs/detect/exp4/test_16_jpg.rf.bae2672dacda7e18e0bc586ff3ecffb4.jpg\n",
      "3 emptySpacess, Done. (34.4ms) Inference, (1.2ms) NMS\n",
      " The image with the result is saved in: runs/detect/exp4/test_1701_jpg.rf.1d8012ce587c3e50e6f23dbe5874612d.jpg\n",
      "6 emptySpacess, Done. (40.1ms) Inference, (1.9ms) NMS\n",
      " The image with the result is saved in: runs/detect/exp4/test_1704_jpg.rf.4892bf6f6aa80b730f2612c167a28242.jpg\n",
      "5 emptySpacess, Done. (39.8ms) Inference, (1.2ms) NMS\n",
      " The image with the result is saved in: runs/detect/exp4/test_1705_jpg.rf.b088556a01be379faa157fb95d2c049b.jpg\n",
      "11 emptySpacess, Done. (39.7ms) Inference, (1.3ms) NMS\n",
      " The image with the result is saved in: runs/detect/exp4/test_1737_jpg.rf.734328f27b994704184ff4bfca8f13bd.jpg\n",
      "4 emptySpacess, Done. (39.7ms) Inference, (1.3ms) NMS\n",
      " The image with the result is saved in: runs/detect/exp4/test_1741_jpg.rf.60c48715bee1fc855a86781099d939e7.jpg\n",
      "1 emptySpaces, Done. (39.6ms) Inference, (1.2ms) NMS\n",
      " The image with the result is saved in: runs/detect/exp4/test_1749_jpg.rf.a0c08e20965b1f08fba2f4d8f2cb3b06.jpg\n",
      "1 emptySpaces, Done. (39.7ms) Inference, (1.3ms) NMS\n",
      " The image with the result is saved in: runs/detect/exp4/test_175_jpg.rf.9d2928522ae6fa7e9a0204d8a2c2aad8.jpg\n",
      "2 emptySpacess, Done. (39.7ms) Inference, (1.4ms) NMS\n",
      " The image with the result is saved in: runs/detect/exp4/test_1761_jpg.rf.7dfb428dd5e7e4f0b52be819cf3ea18d.jpg\n",
      "1 emptySpaces, Done. (39.9ms) Inference, (1.2ms) NMS\n",
      " The image with the result is saved in: runs/detect/exp4/test_176_jpg.rf.0bab9bc4643f0ce6dd07fa277f4601ac.jpg\n",
      "1 emptySpaces, Done. (39.6ms) Inference, (1.2ms) NMS\n",
      " The image with the result is saved in: runs/detect/exp4/test_1776_jpg.rf.87f8cbd306da7b00fa65c9d31ab27f99.jpg\n",
      "4 emptySpacess, Done. (34.5ms) Inference, (1.3ms) NMS\n",
      " The image with the result is saved in: runs/detect/exp4/test_1784_jpg.rf.a436dfdd276ffe6cda121f36ced1aa31.jpg\n",
      "Done. (39.8ms) Inference, (0.2ms) NMS\n",
      " The image with the result is saved in: runs/detect/exp4/test_1791_jpg.rf.8bf1ba7106c9dae385fa43b753e368d6.jpg\n",
      "2 emptySpacess, Done. (39.6ms) Inference, (1.3ms) NMS\n",
      " The image with the result is saved in: runs/detect/exp4/test_1802_jpg.rf.3d9abc1eb01814990d483e0e3955f737.jpg\n",
      "1 emptySpaces, Done. (39.7ms) Inference, (1.3ms) NMS\n",
      " The image with the result is saved in: runs/detect/exp4/test_1811_jpg.rf.1134b62a27414952fd2aa6145a307042.jpg\n",
      "2 emptySpacess, Done. (39.7ms) Inference, (1.3ms) NMS\n",
      " The image with the result is saved in: runs/detect/exp4/test_1816_jpg.rf.5ff567d2349ac85c32b385f7d93676ba.jpg\n",
      "5 emptySpacess, Done. (40.2ms) Inference, (1.3ms) NMS\n",
      " The image with the result is saved in: runs/detect/exp4/test_1822_jpg.rf.59965b0335cf3cb1941f3bb7eeda0b9e.jpg\n",
      "4 emptySpacess, Done. (39.5ms) Inference, (1.2ms) NMS\n",
      " The image with the result is saved in: runs/detect/exp4/test_1836_jpg.rf.3842153b41ea831b210338efb2de1d97.jpg\n",
      "2 emptySpacess, Done. (39.6ms) Inference, (1.2ms) NMS\n",
      " The image with the result is saved in: runs/detect/exp4/test_1837_jpg.rf.484d05ae46ed35c69964f8a796181119.jpg\n",
      "3 emptySpacess, Done. (34.5ms) Inference, (1.2ms) NMS\n",
      " The image with the result is saved in: runs/detect/exp4/test_1859_jpg.rf.d6c8edb98215313c8f118ed25bd46894.jpg\n",
      "2 emptySpacess, Done. (39.8ms) Inference, (1.3ms) NMS\n",
      " The image with the result is saved in: runs/detect/exp4/test_187_jpg.rf.5f514c06cb65479529a7bb8a7eea708a.jpg\n",
      "2 emptySpacess, Done. (39.7ms) Inference, (1.2ms) NMS\n",
      " The image with the result is saved in: runs/detect/exp4/test_1894_jpg.rf.80e165a06543dc82cff10c819ff356bf.jpg\n",
      "3 emptySpacess, Done. (34.4ms) Inference, (1.2ms) NMS\n",
      " The image with the result is saved in: runs/detect/exp4/test_1909_jpg.rf.52a761de9c3a7904c3f445a5c2d51b4d.jpg\n",
      "13 emptySpacess, Done. (47.5ms) Inference, (1.3ms) NMS\n",
      " The image with the result is saved in: runs/detect/exp4/test_1922_jpg.rf.89ac0702ca2eebed9d5161953e9d61cf.jpg\n",
      "4 emptySpacess, Done. (34.5ms) Inference, (1.3ms) NMS\n",
      " The image with the result is saved in: runs/detect/exp4/test_1927_jpg.rf.ff51b4eea949610983b25ee235e80be2.jpg\n",
      "Done. (39.8ms) Inference, (0.2ms) NMS\n",
      " The image with the result is saved in: runs/detect/exp4/test_1935_jpg.rf.f2349f557fd1620d4ac0a61fe1657fec.jpg\n",
      "Done. (39.9ms) Inference, (0.2ms) NMS\n",
      " The image with the result is saved in: runs/detect/exp4/test_193_jpg.rf.169bd1c4e671eb6aa667633277c9c9f6.jpg\n",
      "Done. (40.0ms) Inference, (0.3ms) NMS\n",
      " The image with the result is saved in: runs/detect/exp4/test_1943_jpg.rf.204ce836135efd11d3730e0cf7ebf1e7.jpg\n",
      "Done. (34.5ms) Inference, (0.3ms) NMS\n",
      " The image with the result is saved in: runs/detect/exp4/test_194_jpg.rf.f4010d477d195fafac7415e41f8a0a38.jpg\n",
      "Done. (39.9ms) Inference, (0.4ms) NMS\n",
      " The image with the result is saved in: runs/detect/exp4/test_1955_jpg.rf.2399bf75125cf7f039757cdda9962e80.jpg\n",
      "2 emptySpacess, Done. (39.7ms) Inference, (1.3ms) NMS\n",
      " The image with the result is saved in: runs/detect/exp4/test_1956_jpg.rf.d62a7cbaca3147c56c58e7872c2a269f.jpg\n",
      "1 emptySpaces, Done. (34.5ms) Inference, (1.2ms) NMS\n",
      " The image with the result is saved in: runs/detect/exp4/test_1957_jpg.rf.456bc37524481a9d038cea25c2d094a9.jpg\n",
      "1 emptySpaces, Done. (39.6ms) Inference, (1.2ms) NMS\n",
      " The image with the result is saved in: runs/detect/exp4/test_1962_jpg.rf.d91d934a361172a87e23ee37f8e86a6b.jpg\n",
      "Done. (34.5ms) Inference, (0.2ms) NMS\n",
      " The image with the result is saved in: runs/detect/exp4/test_1963_jpg.rf.44cba187f5ca76c8e5df8f2da48877f6.jpg\n",
      "Done. (39.6ms) Inference, (0.3ms) NMS\n",
      " The image with the result is saved in: runs/detect/exp4/test_197_jpg.rf.42ff70b9e44aa932536a396b319eefe6.jpg\n",
      "Done. (39.7ms) Inference, (0.3ms) NMS\n",
      " The image with the result is saved in: runs/detect/exp4/test_1987_jpg.rf.67e4ef34eee6d3f6c05a7a8cce8af8e7.jpg\n",
      "3 emptySpacess, Done. (39.7ms) Inference, (1.3ms) NMS\n",
      " The image with the result is saved in: runs/detect/exp4/test_1997_jpg.rf.a415cb1646269e4b0298086415397f4e.jpg\n",
      "Done. (39.6ms) Inference, (0.2ms) NMS\n",
      " The image with the result is saved in: runs/detect/exp4/test_2002_jpg.rf.7b4fb1896dda86bdcc3a1cf17cd7991c.jpg\n",
      "Done. (39.9ms) Inference, (0.2ms) NMS\n",
      " The image with the result is saved in: runs/detect/exp4/test_2005_jpg.rf.f304bc2e7b8ca32e8125934e8c9a1f2f.jpg\n",
      "1 emptySpaces, Done. (39.6ms) Inference, (1.3ms) NMS\n",
      " The image with the result is saved in: runs/detect/exp4/test_2017_jpg.rf.efa8a6127d2c87354d352321d188b8d4.jpg\n",
      "3 emptySpacess, Done. (39.8ms) Inference, (1.4ms) NMS\n",
      " The image with the result is saved in: runs/detect/exp4/test_2061_jpg.rf.e6c8dbc9ec628e677765553356592d8f.jpg\n",
      "4 emptySpacess, Done. (39.8ms) Inference, (1.2ms) NMS\n",
      " The image with the result is saved in: runs/detect/exp4/test_206_jpg.rf.c994aae30d6ecdcf69262663ab4c1802.jpg\n",
      "Done. (39.6ms) Inference, (0.2ms) NMS\n",
      " The image with the result is saved in: runs/detect/exp4/test_2076_jpg.rf.2e1af586e2ac46ea047cff3fb4a8620e.jpg\n",
      "1 emptySpaces, Done. (39.7ms) Inference, (1.3ms) NMS\n",
      " The image with the result is saved in: runs/detect/exp4/test_2090_jpg.rf.e72064b17834052de076e7a4216d4d1a.jpg\n",
      "6 emptySpacess, Done. (39.7ms) Inference, (1.3ms) NMS\n",
      " The image with the result is saved in: runs/detect/exp4/test_2104_jpg.rf.ffafaa594d45a9aee81904404deba97d.jpg\n",
      "1 emptySpaces, Done. (34.5ms) Inference, (1.2ms) NMS\n",
      " The image with the result is saved in: runs/detect/exp4/test_2115_jpg.rf.385a39264094d7fec637c64217e7b313.jpg\n",
      "1 emptySpaces, Done. (39.6ms) Inference, (1.2ms) NMS\n",
      " The image with the result is saved in: runs/detect/exp4/test_2130_jpg.rf.e0810fbf33934090b8dfc17acd53cd95.jpg\n",
      "2 emptySpacess, Done. (34.5ms) Inference, (1.2ms) NMS\n",
      " The image with the result is saved in: runs/detect/exp4/test_2148_jpg.rf.3c195665e5b83c2de2b21b7f69ac626c.jpg\n",
      "5 emptySpacess, Done. (39.6ms) Inference, (1.3ms) NMS\n",
      " The image with the result is saved in: runs/detect/exp4/test_2155_jpg.rf.3bafb293389af95a59b556126d8059c5.jpg\n",
      "Done. (39.7ms) Inference, (0.3ms) NMS\n",
      " The image with the result is saved in: runs/detect/exp4/test_2160_jpg.rf.02825ea87ed1fb8d71b9b2b2dc784725.jpg\n",
      "4 emptySpacess, Done. (39.8ms) Inference, (1.2ms) NMS\n",
      " The image with the result is saved in: runs/detect/exp4/test_2163_jpg.rf.7153951db211d4fd45cb0ae37a3635d7.jpg\n",
      "1 emptySpaces, Done. (39.7ms) Inference, (1.2ms) NMS\n",
      " The image with the result is saved in: runs/detect/exp4/test_2169_jpg.rf.fc1ef39868187ff8345a868968a447c5.jpg\n",
      "2 emptySpacess, Done. (39.6ms) Inference, (1.2ms) NMS\n",
      " The image with the result is saved in: runs/detect/exp4/test_2178_jpg.rf.668c90eb80cb2ac560101b4b92125fad.jpg\n",
      "7 emptySpacess, Done. (39.7ms) Inference, (1.3ms) NMS\n",
      " The image with the result is saved in: runs/detect/exp4/test_2203_jpg.rf.7d09d5aff71759121cc4b57fa2113fd1.jpg\n",
      "5 emptySpacess, Done. (34.5ms) Inference, (1.2ms) NMS\n",
      " The image with the result is saved in: runs/detect/exp4/test_2211_jpg.rf.095b3172e57510c0f37fa277d562e6ac.jpg\n",
      "2 emptySpacess, Done. (39.6ms) Inference, (1.3ms) NMS\n",
      " The image with the result is saved in: runs/detect/exp4/test_2220_jpg.rf.81e71f5c1ba1eb019ae379347542378e.jpg\n",
      "1 emptySpaces, Done. (39.7ms) Inference, (1.3ms) NMS\n",
      " The image with the result is saved in: runs/detect/exp4/test_2224_jpg.rf.5dc9fd3fc74ef81daa4b69437b118901.jpg\n",
      "1 emptySpaces, Done. (39.6ms) Inference, (1.2ms) NMS\n",
      " The image with the result is saved in: runs/detect/exp4/test_2252_jpg.rf.61de9e100af13165c283ba7836f6bb48.jpg\n",
      "Done. (39.7ms) Inference, (0.3ms) NMS\n",
      " The image with the result is saved in: runs/detect/exp4/test_2256_jpg.rf.48f045b7dc13068ea67f641b8dcf73c4.jpg\n",
      "1 emptySpaces, Done. (34.5ms) Inference, (1.3ms) NMS\n",
      " The image with the result is saved in: runs/detect/exp4/test_225_jpg.rf.5571accaa897e610446f1ba6b73eb078.jpg\n",
      "Done. (39.6ms) Inference, (0.3ms) NMS\n",
      " The image with the result is saved in: runs/detect/exp4/test_2263_jpg.rf.eb8011c8c455c8bcff4bcd9f7cd8d7af.jpg\n",
      "9 emptySpacess, Done. (47.5ms) Inference, (1.8ms) NMS\n",
      " The image with the result is saved in: runs/detect/exp4/test_2268_jpg.rf.732a6a29334cf205c1a845f842c415c5.jpg\n",
      "5 emptySpacess, Done. (34.4ms) Inference, (1.2ms) NMS\n",
      " The image with the result is saved in: runs/detect/exp4/test_228_jpg.rf.7c4c167e24cb00b1fe920af074a2d0e9.jpg\n",
      "16 emptySpacess, Done. (39.7ms) Inference, (1.3ms) NMS\n",
      " The image with the result is saved in: runs/detect/exp4/test_2297_jpg.rf.018036938a4b3458b8413101d3fce796.jpg\n",
      "2 emptySpacess, Done. (39.7ms) Inference, (1.3ms) NMS\n",
      " The image with the result is saved in: runs/detect/exp4/test_2299_jpg.rf.388b47b45ed9b41fdacc7f1808388aef.jpg\n",
      "1 emptySpaces, Done. (34.6ms) Inference, (1.2ms) NMS\n",
      " The image with the result is saved in: runs/detect/exp4/test_2383_jpg.rf.e371814671313cea6713ad2645a77812.jpg\n",
      "2 emptySpacess, Done. (39.6ms) Inference, (1.2ms) NMS\n",
      " The image with the result is saved in: runs/detect/exp4/test_2392_jpg.rf.a3ed8c09f6d50be64568dbf6ba6c637e.jpg\n",
      "1 emptySpaces, Done. (34.5ms) Inference, (1.3ms) NMS\n",
      " The image with the result is saved in: runs/detect/exp4/test_2400_jpg.rf.1230cf4500514b6cb54d8a1cccd5674e.jpg\n",
      "4 emptySpacess, Done. (39.6ms) Inference, (1.3ms) NMS\n",
      " The image with the result is saved in: runs/detect/exp4/test_2407_jpg.rf.57352d9b0af4991bfa985afd7a47abad.jpg\n",
      "Done. (39.7ms) Inference, (0.3ms) NMS\n",
      " The image with the result is saved in: runs/detect/exp4/test_2432_jpg.rf.74940c9fa305bf11e24f7892f902a57f.jpg\n",
      "Done. (39.7ms) Inference, (0.3ms) NMS\n",
      " The image with the result is saved in: runs/detect/exp4/test_2434_jpg.rf.8e94559e6bafab4b163915b684200493.jpg\n",
      "1 emptySpaces, Done. (39.7ms) Inference, (1.5ms) NMS\n",
      " The image with the result is saved in: runs/detect/exp4/test_2441_jpg.rf.b7f8010136cc6394c665e1b45c3c10f7.jpg\n",
      "1 emptySpaces, Done. (34.5ms) Inference, (1.2ms) NMS\n",
      " The image with the result is saved in: runs/detect/exp4/test_2444_jpg.rf.a58e582ac532e424b3e828a399ad5320.jpg\n",
      "Done. (39.6ms) Inference, (0.3ms) NMS\n",
      " The image with the result is saved in: runs/detect/exp4/test_2452_jpg.rf.741c3008192d5fee80ccfed0d5fd1aa6.jpg\n",
      "2 emptySpacess, Done. (40.1ms) Inference, (1.4ms) NMS\n",
      " The image with the result is saved in: runs/detect/exp4/test_2470_jpg.rf.89a4a878bfa0135d0e62140a509ce30e.jpg\n",
      "3 emptySpacess, Done. (34.4ms) Inference, (1.2ms) NMS\n",
      " The image with the result is saved in: runs/detect/exp4/test_2475_jpg.rf.184f7e688d12478f2b55647a946fb4c0.jpg\n",
      "2 emptySpacess, Done. (34.6ms) Inference, (1.3ms) NMS\n",
      " The image with the result is saved in: runs/detect/exp4/test_2480_jpg.rf.4980965ef941156258f6244c5c200f37.jpg\n",
      "1 emptySpaces, Done. (39.9ms) Inference, (1.2ms) NMS\n",
      " The image with the result is saved in: runs/detect/exp4/test_2492_jpg.rf.3d4b5370be2ed2f6cf88837b783abef2.jpg\n",
      "Done. (39.6ms) Inference, (0.2ms) NMS\n",
      " The image with the result is saved in: runs/detect/exp4/test_2501_jpg.rf.62808682ee5f8a2d980e1308fa440b36.jpg\n",
      "1 emptySpaces, Done. (39.6ms) Inference, (1.3ms) NMS\n",
      " The image with the result is saved in: runs/detect/exp4/test_2520_jpg.rf.afc5e6316e17111aa0d9fbbf9bff96dd.jpg\n",
      "Done. (40.2ms) Inference, (0.4ms) NMS\n",
      " The image with the result is saved in: runs/detect/exp4/test_2539_jpg.rf.5449f8d384c5ae66c8140ed987ebe5e4.jpg\n",
      "Done. (39.6ms) Inference, (0.3ms) NMS\n",
      " The image with the result is saved in: runs/detect/exp4/test_2549_jpg.rf.16f363c319ca5a3cda2ac7d9b330a1c3.jpg\n",
      "2 emptySpacess, Done. (39.7ms) Inference, (1.3ms) NMS\n",
      " The image with the result is saved in: runs/detect/exp4/test_2584_jpg.rf.3a51fb3e87ac8174ca44ab57c79a1605.jpg\n",
      "Done. (39.9ms) Inference, (0.2ms) NMS\n",
      " The image with the result is saved in: runs/detect/exp4/test_2617_jpg.rf.b989fa93b8df76fb2bef3d2543822449.jpg\n",
      "1 emptySpaces, Done. (39.5ms) Inference, (1.3ms) NMS\n",
      " The image with the result is saved in: runs/detect/exp4/test_2624_jpg.rf.13d3ee7a55c90108ef2a3fcdd18ff228.jpg\n",
      "4 emptySpacess, Done. (39.7ms) Inference, (1.3ms) NMS\n",
      " The image with the result is saved in: runs/detect/exp4/test_2627_jpg.rf.107dbe2b0c9c675deef081be68468895.jpg\n",
      "Done. (39.8ms) Inference, (0.3ms) NMS\n",
      " The image with the result is saved in: runs/detect/exp4/test_2646_jpg.rf.29cf81b06e725a186bf78b602fe1bbb2.jpg\n",
      "Done. (34.5ms) Inference, (0.3ms) NMS\n",
      " The image with the result is saved in: runs/detect/exp4/test_2648_jpg.rf.b2c9469d755901e5d5c051976c412da2.jpg\n",
      "1 emptySpaces, Done. (34.5ms) Inference, (1.3ms) NMS\n",
      " The image with the result is saved in: runs/detect/exp4/test_2667_jpg.rf.ec805ece135c099a3dfefe7f286d3848.jpg\n",
      "3 emptySpacess, Done. (34.5ms) Inference, (1.3ms) NMS\n",
      " The image with the result is saved in: runs/detect/exp4/test_2669_jpg.rf.8b482400a17042f469f42155f4572c58.jpg\n",
      "1 emptySpaces, Done. (39.5ms) Inference, (1.2ms) NMS\n",
      " The image with the result is saved in: runs/detect/exp4/test_2675_jpg.rf.65bc3812640b3d63d4e241aaa03b8b1d.jpg\n",
      "2 emptySpacess, Done. (39.7ms) Inference, (1.3ms) NMS\n",
      " The image with the result is saved in: runs/detect/exp4/test_2676_jpg.rf.070cfb5dc91e73de6242293c187bf3ac.jpg\n",
      "2 emptySpacess, Done. (47.4ms) Inference, (1.3ms) NMS\n",
      " The image with the result is saved in: runs/detect/exp4/test_2686_jpg.rf.283dd5358a373861ef3b32a48feee64b.jpg\n",
      "Done. (39.5ms) Inference, (0.2ms) NMS\n",
      " The image with the result is saved in: runs/detect/exp4/test_2701_jpg.rf.f12d4bb95c1250ca60336a62452b52a9.jpg\n",
      "2 emptySpacess, Done. (39.8ms) Inference, (1.5ms) NMS\n",
      " The image with the result is saved in: runs/detect/exp4/test_2702_jpg.rf.d97056e9ec4c06ae5e343b313aed4b3c.jpg\n",
      "Done. (39.7ms) Inference, (0.3ms) NMS\n",
      " The image with the result is saved in: runs/detect/exp4/test_2712_jpg.rf.af4310006f589b191907c4ffed2b6e38.jpg\n",
      "9 emptySpacess, Done. (34.5ms) Inference, (1.3ms) NMS\n",
      " The image with the result is saved in: runs/detect/exp4/test_2713_jpg.rf.11ca01d34bcb7072f4d71495ebdaa1bf.jpg\n",
      "Done. (39.5ms) Inference, (0.2ms) NMS\n",
      " The image with the result is saved in: runs/detect/exp4/test_2717_jpg.rf.5ca4f24a2dadeec551a37bf16c4b9c18.jpg\n",
      "Done. (39.7ms) Inference, (0.3ms) NMS\n",
      " The image with the result is saved in: runs/detect/exp4/test_2724_jpg.rf.3699df6a97a90743a644548e26631bc3.jpg\n",
      "Done. (34.4ms) Inference, (0.3ms) NMS\n",
      " The image with the result is saved in: runs/detect/exp4/test_2735_jpg.rf.3450b232d1aecc31cc8d151d9e08b43e.jpg\n",
      "1 emptySpaces, Done. (34.6ms) Inference, (1.3ms) NMS\n",
      " The image with the result is saved in: runs/detect/exp4/test_2764_jpg.rf.1115b2ca3fd1dcdb63a9ee185973291d.jpg\n",
      "Done. (39.8ms) Inference, (0.2ms) NMS\n",
      " The image with the result is saved in: runs/detect/exp4/test_2786_jpg.rf.0b8ddae7d230ebaa75883e95d22d0cb8.jpg\n",
      "7 emptySpacess, Done. (39.6ms) Inference, (1.2ms) NMS\n",
      " The image with the result is saved in: runs/detect/exp4/test_2790_jpg.rf.4c59ac9ad108255c1734168ca58695bd.jpg\n",
      "1 emptySpaces, Done. (39.7ms) Inference, (1.2ms) NMS\n",
      " The image with the result is saved in: runs/detect/exp4/test_2798_jpg.rf.41b2443b57ffa2b8f5a0050867f6d49f.jpg\n",
      "3 emptySpacess, Done. (34.5ms) Inference, (1.2ms) NMS\n",
      " The image with the result is saved in: runs/detect/exp4/test_2799_jpg.rf.9b92c6bc9475887e9d3109fb91406999.jpg\n",
      "6 emptySpacess, Done. (39.6ms) Inference, (1.2ms) NMS\n",
      " The image with the result is saved in: runs/detect/exp4/test_2826_jpg.rf.9d54accec5363458604c302f1a8c2adb.jpg\n",
      "Done. (34.4ms) Inference, (0.3ms) NMS\n",
      " The image with the result is saved in: runs/detect/exp4/test_2831_jpg.rf.eea3b1e97c5c8fe0f1663ab306c911d8.jpg\n",
      "2 emptySpacess, Done. (39.6ms) Inference, (1.3ms) NMS\n",
      " The image with the result is saved in: runs/detect/exp4/test_2858_jpg.rf.1e9bda1af9fddc8b5dea7e3a9c6d1313.jpg\n",
      "6 emptySpacess, Done. (34.5ms) Inference, (1.3ms) NMS\n",
      " The image with the result is saved in: runs/detect/exp4/test_2864_jpg.rf.15652ea1dd23cf5753ab4a4434da4d92.jpg\n",
      "2 emptySpacess, Done. (39.6ms) Inference, (1.2ms) NMS\n",
      " The image with the result is saved in: runs/detect/exp4/test_2867_jpg.rf.fcceb484f492ae9f8f8558d929f149f8.jpg\n",
      "Done. (39.7ms) Inference, (0.3ms) NMS\n",
      " The image with the result is saved in: runs/detect/exp4/test_2887_jpg.rf.17d1d16da19c57457a8a1cab1eb5d88e.jpg\n",
      "1 emptySpaces, Done. (34.5ms) Inference, (1.2ms) NMS\n",
      " The image with the result is saved in: runs/detect/exp4/test_2893_jpg.rf.571da844ba2bc3048f115d9b7bad45d5.jpg\n",
      "2 emptySpacess, Done. (39.6ms) Inference, (1.2ms) NMS\n",
      " The image with the result is saved in: runs/detect/exp4/test_2894_jpg.rf.3bbef156d7c08ed4addf1d565b65fc48.jpg\n",
      "Done. (39.6ms) Inference, (0.3ms) NMS\n",
      " The image with the result is saved in: runs/detect/exp4/test_2913_jpg.rf.756e9e344cf97006f4d2c8db0a290d50.jpg\n",
      "1 emptySpaces, Done. (39.7ms) Inference, (1.6ms) NMS\n",
      " The image with the result is saved in: runs/detect/exp4/test_304_jpg.rf.ecbd60525c116900f6c2d946898c90b2.jpg\n",
      "4 emptySpacess, Done. (39.6ms) Inference, (1.2ms) NMS\n",
      " The image with the result is saved in: runs/detect/exp4/test_307_jpg.rf.626cd0cdf34bcf6b405a9f729ad77325.jpg\n",
      "5 emptySpacess, Done. (39.7ms) Inference, (1.3ms) NMS\n",
      " The image with the result is saved in: runs/detect/exp4/test_332_jpg.rf.d1e2652ac61fcafe9f6d53a07ea7cd04.jpg\n",
      "2 emptySpacess, Done. (39.7ms) Inference, (1.3ms) NMS\n",
      " The image with the result is saved in: runs/detect/exp4/test_379_jpg.rf.f90052ca0600878a3986e2786b755363.jpg\n",
      "1 emptySpaces, Done. (39.7ms) Inference, (1.2ms) NMS\n",
      " The image with the result is saved in: runs/detect/exp4/test_390_jpg.rf.4d679e35eb9bcd9cf39f0bbefdbe6fa6.jpg\n",
      "Done. (39.7ms) Inference, (0.3ms) NMS\n",
      " The image with the result is saved in: runs/detect/exp4/test_415_jpg.rf.acca2f177c9059a5ee26f3c2515125df.jpg\n",
      "2 emptySpacess, Done. (34.5ms) Inference, (1.2ms) NMS\n",
      " The image with the result is saved in: runs/detect/exp4/test_440_jpg.rf.2590582d6a342c23950a75960b2953e8.jpg\n",
      "3 emptySpacess, Done. (46.0ms) Inference, (1.3ms) NMS\n",
      " The image with the result is saved in: runs/detect/exp4/test_443_jpg.rf.d9cf412af157fc02b29f1679334ffe47.jpg\n",
      "Done. (42.2ms) Inference, (0.3ms) NMS\n",
      " The image with the result is saved in: runs/detect/exp4/test_445_jpg.rf.34a4acdd7d221009d55bb59b13b3cda8.jpg\n",
      "4 emptySpacess, Done. (41.7ms) Inference, (1.3ms) NMS\n",
      " The image with the result is saved in: runs/detect/exp4/test_459_jpg.rf.ba9963f59be5930c5fa660e60156911f.jpg\n",
      "7 emptySpacess, Done. (41.7ms) Inference, (1.3ms) NMS\n",
      " The image with the result is saved in: runs/detect/exp4/test_475_jpg.rf.5d6d3fd65472dbc4c1caa6c5312af27b.jpg\n",
      "1 emptySpaces, Done. (41.8ms) Inference, (1.3ms) NMS\n",
      " The image with the result is saved in: runs/detect/exp4/test_483_jpg.rf.fcb2bca5d1eb8e22dfe37d3ad6dd18d4.jpg\n",
      "Done. (42.0ms) Inference, (0.4ms) NMS\n",
      " The image with the result is saved in: runs/detect/exp4/test_49_jpg.rf.3150d958457f1b1d4829f0b53e6c3c9b.jpg\n",
      "1 emptySpaces, Done. (41.7ms) Inference, (1.3ms) NMS\n",
      " The image with the result is saved in: runs/detect/exp4/test_503_jpg.rf.0de5fefbe41c40cef75dcfedb3d70671.jpg\n",
      "10 emptySpacess, Done. (41.7ms) Inference, (1.3ms) NMS\n",
      " The image with the result is saved in: runs/detect/exp4/test_504_jpg.rf.8e1c45c96fde4ebcdf0d8641c34eafc4.jpg\n",
      "2 emptySpacess, Done. (41.7ms) Inference, (1.2ms) NMS\n",
      " The image with the result is saved in: runs/detect/exp4/test_508_jpg.rf.65597b1099d98392ba5f896632c2446d.jpg\n",
      "Done. (41.8ms) Inference, (0.2ms) NMS\n",
      " The image with the result is saved in: runs/detect/exp4/test_514_jpg.rf.198c11440c3543e3c80b77030d4c2f29.jpg\n",
      "Done. (41.8ms) Inference, (0.3ms) NMS\n",
      " The image with the result is saved in: runs/detect/exp4/test_523_jpg.rf.40ab0e36d155a03f199a6580bf9a0d11.jpg\n",
      "Done. (41.8ms) Inference, (0.3ms) NMS\n",
      " The image with the result is saved in: runs/detect/exp4/test_527_jpg.rf.be09757f8fdb094c5dc12eea340c209d.jpg\n",
      "4 emptySpacess, Done. (42.0ms) Inference, (1.3ms) NMS\n",
      " The image with the result is saved in: runs/detect/exp4/test_528_jpg.rf.ad2071190567bcbf3e56e1ec1d5b7af9.jpg\n",
      "3 emptySpacess, Done. (39.5ms) Inference, (1.3ms) NMS\n",
      " The image with the result is saved in: runs/detect/exp4/test_535_jpg.rf.502369e69b4594ee5a05c0441f11cc4e.jpg\n",
      "2 emptySpacess, Done. (39.7ms) Inference, (1.3ms) NMS\n",
      " The image with the result is saved in: runs/detect/exp4/test_565_jpg.rf.81fd6783fcfc8b5fff723c8bce22bd01.jpg\n",
      "1 emptySpaces, Done. (39.7ms) Inference, (1.3ms) NMS\n",
      " The image with the result is saved in: runs/detect/exp4/test_571_jpg.rf.8c25cd86f1af4810b6cd1816965c8912.jpg\n",
      "Done. (39.7ms) Inference, (0.3ms) NMS\n",
      " The image with the result is saved in: runs/detect/exp4/test_585_jpg.rf.83d9a742a716b460b9d8d1696ece22e2.jpg\n",
      "1 emptySpaces, Done. (39.8ms) Inference, (1.3ms) NMS\n",
      " The image with the result is saved in: runs/detect/exp4/test_602_jpg.rf.ca157b060a4d86d38fdcad5672ade441.jpg\n",
      "Done. (39.8ms) Inference, (0.2ms) NMS\n",
      " The image with the result is saved in: runs/detect/exp4/test_612_jpg.rf.bbaafc8b0a00c3c3dde1f81f818ee422.jpg\n",
      "2 emptySpacess, Done. (34.4ms) Inference, (1.2ms) NMS\n",
      " The image with the result is saved in: runs/detect/exp4/test_618_jpg.rf.f5952fc663c79f65f6fce9a662a75817.jpg\n",
      "7 emptySpacess, Done. (39.5ms) Inference, (1.3ms) NMS\n",
      " The image with the result is saved in: runs/detect/exp4/test_643_jpg.rf.764ce0590997fe0dab410515a9b0baea.jpg\n",
      "Done. (39.7ms) Inference, (0.3ms) NMS\n",
      " The image with the result is saved in: runs/detect/exp4/test_64_jpg.rf.cd5fe7da368bc53b67742f39d638cf94.jpg\n",
      "3 emptySpacess, Done. (34.4ms) Inference, (1.2ms) NMS\n",
      " The image with the result is saved in: runs/detect/exp4/test_662_jpg.rf.375b80ae31a667ee299784733cb05544.jpg\n",
      "1 emptySpaces, Done. (34.5ms) Inference, (1.3ms) NMS\n",
      " The image with the result is saved in: runs/detect/exp4/test_663_jpg.rf.bd0e57afc874f94b41b289e8cc1b3540.jpg\n",
      "Done. (34.6ms) Inference, (0.3ms) NMS\n",
      " The image with the result is saved in: runs/detect/exp4/test_702_jpg.rf.4f1feb8712fa6026de6d0af5d8425b43.jpg\n",
      "Done. (39.5ms) Inference, (0.3ms) NMS\n",
      " The image with the result is saved in: runs/detect/exp4/test_721_jpg.rf.a6cdc2ca83dc738cd949c20216f526d5.jpg\n",
      "1 emptySpaces, Done. (39.9ms) Inference, (1.5ms) NMS\n",
      " The image with the result is saved in: runs/detect/exp4/test_724_jpg.rf.60938801e6316b63b54a0af9a6cfd1d1.jpg\n",
      "4 emptySpacess, Done. (39.8ms) Inference, (1.2ms) NMS\n",
      " The image with the result is saved in: runs/detect/exp4/test_733_jpg.rf.0e22d8d7a2182add93e9229b2d427e94.jpg\n",
      "1 emptySpaces, Done. (40.2ms) Inference, (1.6ms) NMS\n",
      " The image with the result is saved in: runs/detect/exp4/test_743_jpg.rf.c9102f2eb47ece17743176ded0d903f4.jpg\n",
      "Done. (39.6ms) Inference, (0.2ms) NMS\n",
      " The image with the result is saved in: runs/detect/exp4/test_745_jpg.rf.9fc8db89cd878a8d1aa7677e31c27298.jpg\n",
      "6 emptySpacess, Done. (40.0ms) Inference, (1.6ms) NMS\n",
      " The image with the result is saved in: runs/detect/exp4/test_74_jpg.rf.0a8bba00baff5193dc7efbf163504501.jpg\n",
      "2 emptySpacess, Done. (34.5ms) Inference, (1.3ms) NMS\n",
      " The image with the result is saved in: runs/detect/exp4/test_752_jpg.rf.fb5b9caf3a708eccc0f53ab4750bf0fe.jpg\n",
      "1 emptySpaces, Done. (34.6ms) Inference, (1.3ms) NMS\n",
      " The image with the result is saved in: runs/detect/exp4/test_759_jpg.rf.60723a0231a3805fb119fcfd55881f7e.jpg\n",
      "7 emptySpacess, Done. (39.7ms) Inference, (1.3ms) NMS\n",
      " The image with the result is saved in: runs/detect/exp4/test_760_jpg.rf.53d66162511b4e1c599bd694ed875984.jpg\n",
      "2 emptySpacess, Done. (34.4ms) Inference, (1.2ms) NMS\n",
      " The image with the result is saved in: runs/detect/exp4/test_771_jpg.rf.d396ff57f85f77a4b054603bb3bc2c55.jpg\n",
      "2 emptySpacess, Done. (39.5ms) Inference, (1.3ms) NMS\n",
      " The image with the result is saved in: runs/detect/exp4/test_779_jpg.rf.3c419b8ebb15a56c88d455c4eb471f03.jpg\n",
      "3 emptySpacess, Done. (39.7ms) Inference, (1.3ms) NMS\n",
      " The image with the result is saved in: runs/detect/exp4/test_787_jpg.rf.ed68dcd9ce2439a7ac9ea160facf1f50.jpg\n",
      "3 emptySpacess, Done. (39.7ms) Inference, (1.2ms) NMS\n",
      " The image with the result is saved in: runs/detect/exp4/test_803_jpg.rf.c6c0622241d714536df888cedaa58cc7.jpg\n",
      "2 emptySpacess, Done. (39.8ms) Inference, (1.3ms) NMS\n",
      " The image with the result is saved in: runs/detect/exp4/test_804_jpg.rf.881dcef255216a7c1edc2459065e4f1a.jpg\n",
      "4 emptySpacess, Done. (39.9ms) Inference, (1.2ms) NMS\n",
      " The image with the result is saved in: runs/detect/exp4/test_812_jpg.rf.93f02a53774f4065499e1c7a3f8ba334.jpg\n",
      "2 emptySpacess, Done. (39.5ms) Inference, (1.2ms) NMS\n",
      " The image with the result is saved in: runs/detect/exp4/test_813_jpg.rf.c23f6bd05d6128a9e939dd0934ea5752.jpg\n",
      "1 emptySpaces, Done. (39.9ms) Inference, (1.2ms) NMS\n",
      " The image with the result is saved in: runs/detect/exp4/test_819_jpg.rf.c5ea3a3233cba949d24e4321d112a12c.jpg\n",
      "Done. (39.5ms) Inference, (0.2ms) NMS\n",
      " The image with the result is saved in: runs/detect/exp4/test_820_jpg.rf.88e9a18183f3765a8937b7fabee719ad.jpg\n",
      "2 emptySpacess, Done. (39.7ms) Inference, (1.4ms) NMS\n",
      " The image with the result is saved in: runs/detect/exp4/test_839_jpg.rf.add69ebbb03ea0dd739917d6b1b63cf8.jpg\n",
      "Done. (34.5ms) Inference, (0.3ms) NMS\n",
      " The image with the result is saved in: runs/detect/exp4/test_83_jpg.rf.301031b3e8c7f58a8903b38ce037086c.jpg\n",
      "Done. (39.6ms) Inference, (0.3ms) NMS\n",
      " The image with the result is saved in: runs/detect/exp4/test_844_jpg.rf.827effa14ce7967056d6318575ab005a.jpg\n",
      "1 emptySpaces, Done. (34.5ms) Inference, (1.3ms) NMS\n",
      " The image with the result is saved in: runs/detect/exp4/test_847_jpg.rf.5a02030e5fc76c543afde4a9cf0112d7.jpg\n",
      "1 emptySpaces, Done. (39.6ms) Inference, (1.2ms) NMS\n",
      " The image with the result is saved in: runs/detect/exp4/test_877_jpg.rf.94a4a56fb8224cb2bbd9ecb865570d9e.jpg\n",
      "Done. (39.9ms) Inference, (0.2ms) NMS\n",
      " The image with the result is saved in: runs/detect/exp4/test_895_jpg.rf.37791cc3ddf0d82983f5a38ac190e9de.jpg\n",
      "3 emptySpacess, Done. (39.5ms) Inference, (1.2ms) NMS\n",
      " The image with the result is saved in: runs/detect/exp4/test_912_jpg.rf.9083779e84fd6d722e8eb0b3784ee5f6.jpg\n",
      "2 emptySpacess, Done. (39.7ms) Inference, (1.3ms) NMS\n",
      " The image with the result is saved in: runs/detect/exp4/test_915_jpg.rf.3a65dd73dfb54582d1fb173d058addb6.jpg\n",
      "3 emptySpacess, Done. (39.7ms) Inference, (1.3ms) NMS\n",
      " The image with the result is saved in: runs/detect/exp4/test_920_jpg.rf.fd755675fce3efa43966c53cc86498dd.jpg\n",
      "2 emptySpacess, Done. (34.4ms) Inference, (1.2ms) NMS\n",
      " The image with the result is saved in: runs/detect/exp4/test_928_jpg.rf.976514028691d3ec76c7bf1c75b87608.jpg\n",
      "Done. (39.7ms) Inference, (0.3ms) NMS\n",
      " The image with the result is saved in: runs/detect/exp4/test_930_jpg.rf.fcd30759fdc031beb8b3a1e818fe8f82.jpg\n",
      "3 emptySpacess, Done. (39.7ms) Inference, (1.3ms) NMS\n",
      " The image with the result is saved in: runs/detect/exp4/test_944_jpg.rf.ea973603a659a7aa50070a84956771ff.jpg\n",
      "1 emptySpaces, Done. (39.7ms) Inference, (1.3ms) NMS\n",
      " The image with the result is saved in: runs/detect/exp4/test_959_jpg.rf.41796c6d628dbaf71fc3d24f32e6620c.jpg\n",
      "Done. (34.5ms) Inference, (0.2ms) NMS\n",
      " The image with the result is saved in: runs/detect/exp4/test_95_jpg.rf.a23bcbeb1551a80da3ec107e2845edde.jpg\n",
      "3 emptySpacess, Done. (34.5ms) Inference, (1.3ms) NMS\n",
      " The image with the result is saved in: runs/detect/exp4/test_962_jpg.rf.8aa414d1f67d5be406b901203253315b.jpg\n",
      "2 emptySpacess, Done. (39.8ms) Inference, (1.2ms) NMS\n",
      " The image with the result is saved in: runs/detect/exp4/test_966_jpg.rf.446383611458e135f1b3b00f3b8a9b94.jpg\n",
      "1 emptySpaces, Done. (34.4ms) Inference, (1.2ms) NMS\n",
      " The image with the result is saved in: runs/detect/exp4/test_981_jpg.rf.9a997f71ff36bd43d856465324858403.jpg\n",
      "2 emptySpacess, Done. (39.8ms) Inference, (1.2ms) NMS\n",
      " The image with the result is saved in: runs/detect/exp4/test_997_jpg.rf.00d919f550c8acd4991aec8af26c4dd6.jpg\n",
      "Done. (39.6ms) Inference, (0.3ms) NMS\n",
      " The image with the result is saved in: runs/detect/exp4/test_998_jpg.rf.447b18ea043fbf413f0e225a0464bb21.jpg\n",
      "1 emptySpaces, Done. (39.7ms) Inference, (1.3ms) NMS\n",
      " The image with the result is saved in: runs/detect/exp4/train_1000_jpg.rf.a7199de4d2b7d4a92e57369432c95f04.jpg\n",
      "Done. (39.8ms) Inference, (0.3ms) NMS\n",
      " The image with the result is saved in: runs/detect/exp4/train_1002_jpg.rf.4febb3ce6601d859d4d438c4131789a0.jpg\n",
      "8 emptySpacess, Done. (40.1ms) Inference, (1.5ms) NMS\n",
      " The image with the result is saved in: runs/detect/exp4/train_100_jpg.rf.b65bd37afd812dd744cfec8d6e828ba7.jpg\n",
      "1 emptySpaces, Done. (39.7ms) Inference, (1.2ms) NMS\n",
      " The image with the result is saved in: runs/detect/exp4/train_1021_jpg.rf.9e8d7c642813fa96aa53ef2efe64665c.jpg\n",
      "3 emptySpacess, Done. (39.8ms) Inference, (1.2ms) NMS\n",
      " The image with the result is saved in: runs/detect/exp4/train_1027_jpg.rf.1cf6e6663fe2131dcb066ebe2663c0f8.jpg\n",
      "1 emptySpaces, Done. (40.0ms) Inference, (1.4ms) NMS\n",
      " The image with the result is saved in: runs/detect/exp4/train_1045_jpg.rf.6a6609602e65613b313f79a54f34eb2a.jpg\n",
      "Done. (39.7ms) Inference, (0.3ms) NMS\n",
      " The image with the result is saved in: runs/detect/exp4/train_1080_jpg.rf.4e13b3d27a210be128a445bec27976bd.jpg\n",
      "Done. (39.9ms) Inference, (0.3ms) NMS\n",
      " The image with the result is saved in: runs/detect/exp4/train_1123_jpg.rf.13a3f63f5e3956a648d5083f3386e849.jpg\n",
      "1 emptySpaces, Done. (39.7ms) Inference, (1.3ms) NMS\n",
      " The image with the result is saved in: runs/detect/exp4/train_1129_jpg.rf.885ed4789ee26b14544ceb575600cf68.jpg\n",
      "Done. (34.6ms) Inference, (0.3ms) NMS\n",
      " The image with the result is saved in: runs/detect/exp4/train_1131_jpg.rf.eb44000f0d875c2592459f0efb6ace9d.jpg\n",
      "5 emptySpacess, Done. (34.4ms) Inference, (1.2ms) NMS\n",
      " The image with the result is saved in: runs/detect/exp4/train_1134_jpg.rf.1f13551baf1c8ecb3c58de8acdd0ac7f.jpg\n",
      "Done. (34.9ms) Inference, (0.4ms) NMS\n",
      " The image with the result is saved in: runs/detect/exp4/train_1184_jpg.rf.3a095014aa4509ae3896a3e3725cf456.jpg\n",
      "3 emptySpacess, Done. (39.6ms) Inference, (1.2ms) NMS\n",
      " The image with the result is saved in: runs/detect/exp4/train_1195_jpg.rf.c027cb44a10ef122f712021d66c06f27.jpg\n",
      "2 emptySpacess, Done. (39.7ms) Inference, (1.2ms) NMS\n",
      " The image with the result is saved in: runs/detect/exp4/train_1198_jpg.rf.3902291f99446bb66b75b5c298efafb4.jpg\n",
      "1 emptySpaces, Done. (34.5ms) Inference, (1.2ms) NMS\n",
      " The image with the result is saved in: runs/detect/exp4/train_11_jpg.rf.f8b7aec09a481d09cf4d48a9ed466bf0.jpg\n",
      "4 emptySpacess, Done. (39.6ms) Inference, (1.2ms) NMS\n",
      " The image with the result is saved in: runs/detect/exp4/train_1204_jpg.rf.f9c3e14c5ca164d4437a1d5aa11bd040.jpg\n",
      "3 emptySpacess, Done. (39.7ms) Inference, (1.2ms) NMS\n",
      " The image with the result is saved in: runs/detect/exp4/train_121_jpg.rf.6604d182452f1752ba04145e65830815.jpg\n",
      "2 emptySpacess, Done. (39.6ms) Inference, (1.2ms) NMS\n",
      " The image with the result is saved in: runs/detect/exp4/train_1222_jpg.rf.ebf73d9a12026867da67596c72b87802.jpg\n",
      "Done. (39.8ms) Inference, (0.3ms) NMS\n",
      " The image with the result is saved in: runs/detect/exp4/train_1234_jpg.rf.a66883c58fd9383e07e98181e2abfa8b.jpg\n",
      "1 emptySpaces, Done. (39.7ms) Inference, (1.2ms) NMS\n",
      " The image with the result is saved in: runs/detect/exp4/train_1244_jpg.rf.76f7c8b7e422ef29d8a809bbdafa5504.jpg\n",
      "4 emptySpacess, Done. (39.7ms) Inference, (1.2ms) NMS\n",
      " The image with the result is saved in: runs/detect/exp4/train_1254_jpg.rf.0be9268e9d71dbb90c90415fdcfb50d1.jpg\n",
      "6 emptySpacess, Done. (39.8ms) Inference, (1.2ms) NMS\n",
      " The image with the result is saved in: runs/detect/exp4/train_1261_jpg.rf.cc01f38e602a680c73ca347f63792173.jpg\n",
      "1 emptySpaces, Done. (39.5ms) Inference, (1.2ms) NMS\n",
      " The image with the result is saved in: runs/detect/exp4/train_1289_jpg.rf.9a4bea6ad84e4369091d944539b0e0b9.jpg\n",
      "Done. (39.7ms) Inference, (0.3ms) NMS\n",
      " The image with the result is saved in: runs/detect/exp4/train_1292_jpg.rf.7df2459dea65801d5527833d10ec9027.jpg\n",
      "1 emptySpaces, Done. (39.9ms) Inference, (1.2ms) NMS\n",
      " The image with the result is saved in: runs/detect/exp4/train_1301_jpg.rf.2080f3eede9780d6a65895db50586ef8.jpg\n",
      "Done. (39.6ms) Inference, (0.2ms) NMS\n",
      " The image with the result is saved in: runs/detect/exp4/train_1310_jpg.rf.dfbff99b5446c222ad53031182640f37.jpg\n",
      "Done. (39.8ms) Inference, (0.3ms) NMS\n",
      " The image with the result is saved in: runs/detect/exp4/train_1316_jpg.rf.6c4432bb7a4837140db2828a66fd0a11.jpg\n",
      "4 emptySpacess, Done. (39.7ms) Inference, (1.2ms) NMS\n",
      " The image with the result is saved in: runs/detect/exp4/train_1324_jpg.rf.f84732250c2b0711de9fa1bd2297637d.jpg\n",
      "2 emptySpacess, Done. (39.6ms) Inference, (1.2ms) NMS\n",
      " The image with the result is saved in: runs/detect/exp4/train_1325_jpg.rf.d2e44dedd56aef1ebf53c5d7186e102c.jpg\n",
      "4 emptySpacess, Done. (34.5ms) Inference, (1.2ms) NMS\n",
      " The image with the result is saved in: runs/detect/exp4/train_1327_jpg.rf.1bb9d005853f1a64a3e2a58b0fc6b61c.jpg\n",
      "Done. (39.6ms) Inference, (0.2ms) NMS\n",
      " The image with the result is saved in: runs/detect/exp4/train_132_jpg.rf.8616a1ccac194a9623e6097153acf7b3.jpg\n",
      "Done. (39.7ms) Inference, (0.2ms) NMS\n",
      " The image with the result is saved in: runs/detect/exp4/train_1337_jpg.rf.3ea1831f5bbb77f0e98fc5452ce43aff.jpg\n",
      "8 emptySpacess, Done. (39.8ms) Inference, (1.2ms) NMS\n",
      " The image with the result is saved in: runs/detect/exp4/train_1357_jpg.rf.f07444bf5dd302d7483fb90d810864dd.jpg\n",
      "2 emptySpacess, Done. (39.8ms) Inference, (1.2ms) NMS\n",
      " The image with the result is saved in: runs/detect/exp4/train_135_jpg.rf.15dcb1fb9c827fa39bb29c9d4103e96d.jpg\n",
      "Done. (34.5ms) Inference, (0.2ms) NMS\n",
      " The image with the result is saved in: runs/detect/exp4/train_1366_jpg.rf.666ae0aa41dd8542326568f34effb5c5.jpg\n",
      "1 emptySpaces, Done. (39.6ms) Inference, (1.2ms) NMS\n",
      " The image with the result is saved in: runs/detect/exp4/train_1397_jpg.rf.c6789c8f7c5a0c2e2ae56b0bd86fc7ce.jpg\n",
      "2 emptySpacess, Done. (34.5ms) Inference, (1.2ms) NMS\n",
      " The image with the result is saved in: runs/detect/exp4/train_1401_jpg.rf.13b6d2a386537b0ea8d8264017bde87c.jpg\n",
      "Done. (39.6ms) Inference, (0.2ms) NMS\n",
      " The image with the result is saved in: runs/detect/exp4/train_1407_jpg.rf.3c7969d8690b8ae0285cfc5fb1facd86.jpg\n",
      "Done. (40.0ms) Inference, (0.4ms) NMS\n",
      " The image with the result is saved in: runs/detect/exp4/train_1464_jpg.rf.bd9f7f471056ae0be006f047a0c2999e.jpg\n",
      "Done. (39.7ms) Inference, (0.2ms) NMS\n",
      " The image with the result is saved in: runs/detect/exp4/train_1471_jpg.rf.d047927a9bca6149cfe51e26325f5bde.jpg\n",
      "Done. (39.7ms) Inference, (0.3ms) NMS\n",
      " The image with the result is saved in: runs/detect/exp4/train_1482_jpg.rf.a3305891cc1d0033c981dcb47251da7c.jpg\n",
      "5 emptySpacess, Done. (47.3ms) Inference, (1.2ms) NMS\n",
      " The image with the result is saved in: runs/detect/exp4/train_1484_jpg.rf.000f6217687ea35a54c04c6f36c72967.jpg\n",
      "4 emptySpacess, Done. (34.5ms) Inference, (1.2ms) NMS\n",
      " The image with the result is saved in: runs/detect/exp4/train_1495_jpg.rf.baa8df7bb9112ea8b209e8d6b86569e7.jpg\n",
      "7 emptySpacess, Done. (34.6ms) Inference, (1.2ms) NMS\n",
      " The image with the result is saved in: runs/detect/exp4/train_1500_jpg.rf.d5596b65390c0941754dd18eaf548b2f.jpg\n",
      "Done. (39.7ms) Inference, (0.2ms) NMS\n",
      " The image with the result is saved in: runs/detect/exp4/train_1517_jpg.rf.46f674313535bbec9c1df59d926e9289.jpg\n",
      "Done. (39.7ms) Inference, (0.2ms) NMS\n",
      " The image with the result is saved in: runs/detect/exp4/train_151_jpg.rf.38efccd1d9ecd4f11cdb0c19a68c6b3d.jpg\n",
      "1 emptySpaces, Done. (39.7ms) Inference, (1.2ms) NMS\n",
      " The image with the result is saved in: runs/detect/exp4/train_1534_jpg.rf.42ac714702f5a9227291d1561b752a45.jpg\n",
      "1 emptySpaces, Done. (39.7ms) Inference, (1.2ms) NMS\n",
      " The image with the result is saved in: runs/detect/exp4/train_1555_jpg.rf.04fa13960b9554c927f1b05b21024f5a.jpg\n",
      "1 emptySpaces, Done. (39.7ms) Inference, (1.2ms) NMS\n",
      " The image with the result is saved in: runs/detect/exp4/train_1566_jpg.rf.9cb2f12b9d1508a1fcb7d7250786358b.jpg\n",
      "9 emptySpacess, Done. (39.6ms) Inference, (1.2ms) NMS\n",
      " The image with the result is saved in: runs/detect/exp4/train_1577_jpg.rf.e305e34338c42aaecaa6904cedaf4935.jpg\n",
      "1 emptySpaces, Done. (39.8ms) Inference, (1.2ms) NMS\n",
      " The image with the result is saved in: runs/detect/exp4/train_1586_jpg.rf.2af4cc3ed6dd03cd93d69856a3ef66f3.jpg\n",
      "1 emptySpaces, Done. (39.7ms) Inference, (1.2ms) NMS\n",
      " The image with the result is saved in: runs/detect/exp4/train_1591_jpg.rf.6350d14449eb2841c46a4cdb4accc61e.jpg\n",
      "5 emptySpacess, Done. (39.7ms) Inference, (1.2ms) NMS\n",
      " The image with the result is saved in: runs/detect/exp4/train_1597_jpg.rf.4a546960dd96a58c17360060fb9c91d5.jpg\n",
      "Done. (59.9ms) Inference, (0.2ms) NMS\n",
      " The image with the result is saved in: runs/detect/exp4/train_1605_jpg.rf.97569bf83112669c07514e3b63c6c212.jpg\n",
      "4 emptySpacess, Done. (59.6ms) Inference, (1.2ms) NMS\n",
      " The image with the result is saved in: runs/detect/exp4/train_1624_jpg.rf.eee665ea3a8989f92c5bbf0827aed32b.jpg\n",
      "2 emptySpacess, Done. (59.7ms) Inference, (1.2ms) NMS\n",
      " The image with the result is saved in: runs/detect/exp4/train_1628_jpg.rf.c15c5ec51452fb3db28e6a5d981e2106.jpg\n",
      "Done. (59.9ms) Inference, (0.4ms) NMS\n",
      " The image with the result is saved in: runs/detect/exp4/train_1635_jpg.rf.64833b13e3f7cbad685a7cfd0800ed00.jpg\n",
      "Done. (60.0ms) Inference, (0.4ms) NMS\n",
      " The image with the result is saved in: runs/detect/exp4/train_1660_jpg.rf.f0a68cf5039a788d0c139d774f475a5e.jpg\n",
      "Done. (59.9ms) Inference, (0.2ms) NMS\n",
      " The image with the result is saved in: runs/detect/exp4/train_1669_jpg.rf.f61c8f78fe42a039b7674ae9cf1eb284.jpg\n",
      "1 emptySpaces, Done. (59.7ms) Inference, (1.2ms) NMS\n",
      " The image with the result is saved in: runs/detect/exp4/train_1673_jpg.rf.741cc7d73d48e52b89fcb3b646ee2f3d.jpg\n",
      "3 emptySpacess, Done. (47.2ms) Inference, (1.2ms) NMS\n",
      " The image with the result is saved in: runs/detect/exp4/train_1679_jpg.rf.3d13e08e016854ad974c4fd43b89c490.jpg\n",
      "1 emptySpaces, Done. (44.9ms) Inference, (1.2ms) NMS\n",
      " The image with the result is saved in: runs/detect/exp4/train_1685_jpg.rf.cdbd92fd39be225951ab060f549b2bf2.jpg\n",
      "1 emptySpaces, Done. (48.8ms) Inference, (1.2ms) NMS\n",
      " The image with the result is saved in: runs/detect/exp4/train_1691_jpg.rf.319e3acd7ca55284ca3b80864260d0c5.jpg\n",
      "Done. (44.5ms) Inference, (0.2ms) NMS\n",
      " The image with the result is saved in: runs/detect/exp4/train_1702_jpg.rf.1bb779894d01005cf002ff33126c08f5.jpg\n",
      "3 emptySpacess, Done. (44.4ms) Inference, (1.2ms) NMS\n",
      " The image with the result is saved in: runs/detect/exp4/train_1708_jpg.rf.b3d2b98cc37bc89bfa44a6c26304260c.jpg\n",
      "2 emptySpacess, Done. (44.4ms) Inference, (1.2ms) NMS\n",
      " The image with the result is saved in: runs/detect/exp4/train_1710_jpg.rf.4c8fb7d1a99ebf29bef35a4d1a284b96.jpg\n",
      "Done. (38.5ms) Inference, (0.3ms) NMS\n",
      " The image with the result is saved in: runs/detect/exp4/train_1713_jpg.rf.309fca62f3bdd9b548898e5e33156f15.jpg\n",
      "Done. (39.7ms) Inference, (0.2ms) NMS\n",
      " The image with the result is saved in: runs/detect/exp4/train_1715_jpg.rf.b599e7a6846036ea35ed3f66b10ef553.jpg\n",
      "4 emptySpacess, Done. (34.5ms) Inference, (1.3ms) NMS\n",
      " The image with the result is saved in: runs/detect/exp4/train_1716_jpg.rf.b2381fbb096aca010721b90aea202a45.jpg\n",
      "Done. (34.8ms) Inference, (0.4ms) NMS\n",
      " The image with the result is saved in: runs/detect/exp4/train_1730_jpg.rf.3d43e9f4c75ebee723bd24a445793b0d.jpg\n",
      "6 emptySpacess, Done. (39.6ms) Inference, (1.2ms) NMS\n",
      " The image with the result is saved in: runs/detect/exp4/train_1732_jpg.rf.94dc9b85e9bd626f908e85beeb2c6e1a.jpg\n",
      "2 emptySpacess, Done. (39.7ms) Inference, (1.2ms) NMS\n",
      " The image with the result is saved in: runs/detect/exp4/train_175_jpg.rf.7fbae82d16bab29b6dfc4cb1f55d8b5c.jpg\n",
      "Done. (34.5ms) Inference, (0.2ms) NMS\n",
      " The image with the result is saved in: runs/detect/exp4/train_1761_jpg.rf.d0d1975d83bc4df323dfd962ddc43bef.jpg\n",
      "Done. (39.8ms) Inference, (0.2ms) NMS\n",
      " The image with the result is saved in: runs/detect/exp4/train_1769_jpg.rf.af229985e1560b6aad9479dbd7478205.jpg\n",
      "2 emptySpacess, Done. (39.6ms) Inference, (1.2ms) NMS\n",
      " The image with the result is saved in: runs/detect/exp4/train_1778_jpg.rf.b9da488ec86fe53b084fb489ce41f119.jpg\n",
      "6 emptySpacess, Done. (39.7ms) Inference, (1.2ms) NMS\n",
      " The image with the result is saved in: runs/detect/exp4/train_1800_jpg.rf.bd0aaf5541100ef53d209ae846249ba3.jpg\n",
      "Done. (39.7ms) Inference, (0.3ms) NMS\n",
      " The image with the result is saved in: runs/detect/exp4/train_1825_jpg.rf.05c5f44c907ba4bd798fd62108f382d6.jpg\n",
      "Done. (34.5ms) Inference, (0.2ms) NMS\n",
      " The image with the result is saved in: runs/detect/exp4/train_1846_jpg.rf.bd2be466a4afc8713a770832f9cd62e4.jpg\n",
      "2 emptySpacess, Done. (34.5ms) Inference, (1.2ms) NMS\n",
      " The image with the result is saved in: runs/detect/exp4/train_1849_jpg.rf.e9d9426c7ef20420564fd0344c0f39ce.jpg\n",
      "3 emptySpacess, Done. (39.7ms) Inference, (1.2ms) NMS\n",
      " The image with the result is saved in: runs/detect/exp4/train_1862_jpg.rf.3212670a7c3b8a753d5b9842c3299e26.jpg\n",
      "6 emptySpacess, Done. (34.4ms) Inference, (1.2ms) NMS\n",
      " The image with the result is saved in: runs/detect/exp4/train_186_jpg.rf.ba43dd5d0c42d305f07441760099e89b.jpg\n",
      "1 emptySpaces, Done. (39.6ms) Inference, (1.2ms) NMS\n",
      " The image with the result is saved in: runs/detect/exp4/train_1878_jpg.rf.c061c8af9461975f982d4f57ad590297.jpg\n",
      "Done. (39.7ms) Inference, (0.2ms) NMS\n",
      " The image with the result is saved in: runs/detect/exp4/train_1889_jpg.rf.33567adf351b1124fe7b69720995e4e6.jpg\n",
      "4 emptySpacess, Done. (39.6ms) Inference, (1.2ms) NMS\n",
      " The image with the result is saved in: runs/detect/exp4/train_189_jpg.rf.3f673e8199fd37ede10c73cc981c70ab.jpg\n",
      "Done. (35.1ms) Inference, (0.3ms) NMS\n",
      " The image with the result is saved in: runs/detect/exp4/train_1909_jpg.rf.d1dfa6e320a3931d2f180ebdc0549cd2.jpg\n",
      "1 emptySpaces, Done. (39.6ms) Inference, (1.2ms) NMS\n",
      " The image with the result is saved in: runs/detect/exp4/train_1927_jpg.rf.097a1072b334f95b8d931b59992130f2.jpg\n",
      "1 emptySpaces, Done. (39.8ms) Inference, (1.2ms) NMS\n",
      " The image with the result is saved in: runs/detect/exp4/train_1937_jpg.rf.2507d13e3a8a9571dda61121451e4849.jpg\n",
      "1 emptySpaces, Done. (39.6ms) Inference, (1.2ms) NMS\n",
      " The image with the result is saved in: runs/detect/exp4/train_1939_jpg.rf.31d406409e3a373f8d3ee09b11ae0e0b.jpg\n",
      "Done. (39.9ms) Inference, (0.2ms) NMS\n",
      " The image with the result is saved in: runs/detect/exp4/train_1943_jpg.rf.158944317fff4c86f0c5554bc7d64628.jpg\n",
      "Done. (39.6ms) Inference, (0.2ms) NMS\n",
      " The image with the result is saved in: runs/detect/exp4/train_1946_jpg.rf.fc5cbe7738bed6c768807b1d04df782b.jpg\n",
      "Done. (34.4ms) Inference, (0.2ms) NMS\n",
      " The image with the result is saved in: runs/detect/exp4/train_1947_jpg.rf.69b3de6bf915c310d42a1ec007c6c9d2.jpg\n",
      "3 emptySpacess, Done. (47.6ms) Inference, (1.2ms) NMS\n",
      " The image with the result is saved in: runs/detect/exp4/train_1948_jpg.rf.07324f2be49a6490cc28c3afe4768769.jpg\n",
      "1 emptySpaces, Done. (34.5ms) Inference, (1.2ms) NMS\n",
      " The image with the result is saved in: runs/detect/exp4/train_194_jpg.rf.2915cbddc684db04f4abbde731b4fca7.jpg\n",
      "2 emptySpacess, Done. (34.6ms) Inference, (1.2ms) NMS\n",
      " The image with the result is saved in: runs/detect/exp4/train_1957_jpg.rf.2b28f9e6c4e4cb29dbf10c3ab9c3f389.jpg\n",
      "3 emptySpacess, Done. (39.7ms) Inference, (1.2ms) NMS\n",
      " The image with the result is saved in: runs/detect/exp4/train_1991_jpg.rf.c1f362bb4f3babad2d9f4fde704fcafd.jpg\n",
      "3 emptySpacess, Done. (39.8ms) Inference, (1.2ms) NMS\n",
      " The image with the result is saved in: runs/detect/exp4/train_1994_jpg.rf.a80e795c8b40625ddec1ca3cf6b2178e.jpg\n",
      "2 emptySpacess, Done. (39.7ms) Inference, (1.2ms) NMS\n",
      " The image with the result is saved in: runs/detect/exp4/train_1_jpg.rf.6190ce50fba76569bccaaae58b4cd971.jpg\n",
      "2 emptySpacess, Done. (39.7ms) Inference, (1.2ms) NMS\n",
      " The image with the result is saved in: runs/detect/exp4/train_2014_jpg.rf.d80330f8cc1bb22f007057050918a927.jpg\n",
      "2 emptySpacess, Done. (39.7ms) Inference, (1.2ms) NMS\n",
      " The image with the result is saved in: runs/detect/exp4/train_2026_jpg.rf.f5a70b1e76639e70d67294350e389ff6.jpg\n",
      "6 emptySpacess, Done. (39.7ms) Inference, (1.2ms) NMS\n",
      " The image with the result is saved in: runs/detect/exp4/train_2027_jpg.rf.66e010a36488d5336c297f3a7f3c22db.jpg\n",
      "Done. (39.8ms) Inference, (0.3ms) NMS\n",
      " The image with the result is saved in: runs/detect/exp4/train_2059_jpg.rf.1ef8f228550a9093ec68dc25ba2117aa.jpg\n",
      "4 emptySpacess, Done. (34.4ms) Inference, (1.2ms) NMS\n",
      " The image with the result is saved in: runs/detect/exp4/train_2096_jpg.rf.10eba0328d040b795fc1daa33714c465.jpg\n",
      "3 emptySpacess, Done. (39.6ms) Inference, (1.2ms) NMS\n",
      " The image with the result is saved in: runs/detect/exp4/train_2097_jpg.rf.3bc8f41e30deb4b99adf29625a24234b.jpg\n",
      "3 emptySpacess, Done. (39.9ms) Inference, (1.2ms) NMS\n",
      " The image with the result is saved in: runs/detect/exp4/train_2107_jpg.rf.9ee98fe599950ce129fc9a881a0d43ff.jpg\n",
      "Done. (39.6ms) Inference, (0.2ms) NMS\n",
      " The image with the result is saved in: runs/detect/exp4/train_2110_jpg.rf.4a4f19e6266c472371ba2f4724231b9a.jpg\n",
      "4 emptySpacess, Done. (34.5ms) Inference, (1.2ms) NMS\n",
      " The image with the result is saved in: runs/detect/exp4/train_2111_jpg.rf.77aae5a76f2a11b7f29335be1b1955a4.jpg\n",
      "Done. (34.6ms) Inference, (0.2ms) NMS\n",
      " The image with the result is saved in: runs/detect/exp4/train_2120_jpg.rf.21e2c603d0c645e979ca00060feaba90.jpg\n",
      "4 emptySpacess, Done. (39.6ms) Inference, (1.2ms) NMS\n",
      " The image with the result is saved in: runs/detect/exp4/train_2124_jpg.rf.2ef26df3450a675ef112790ebfdd0605.jpg\n",
      "5 emptySpacess, Done. (39.7ms) Inference, (1.2ms) NMS\n",
      " The image with the result is saved in: runs/detect/exp4/train_2126_jpg.rf.9f274f75e333e56577d22bfdcfc09fdb.jpg\n",
      "1 emptySpaces, Done. (34.5ms) Inference, (1.2ms) NMS\n",
      " The image with the result is saved in: runs/detect/exp4/train_2139_jpg.rf.135cc673e4f6165b8515eace362dc202.jpg\n",
      "3 emptySpacess, Done. (39.6ms) Inference, (1.2ms) NMS\n",
      " The image with the result is saved in: runs/detect/exp4/train_2143_jpg.rf.41052d314e207154a3ddeaae0d0d3aec.jpg\n",
      "4 emptySpacess, Done. (39.7ms) Inference, (1.2ms) NMS\n",
      " The image with the result is saved in: runs/detect/exp4/train_2145_jpg.rf.43da1f2ce3e3b8d7c2579f3152150bda.jpg\n",
      "2 emptySpacess, Done. (39.9ms) Inference, (1.2ms) NMS\n",
      " The image with the result is saved in: runs/detect/exp4/train_214_jpg.rf.8aefe2568b94a0598f0aace5f874dbd0.jpg\n",
      "1 emptySpaces, Done. (39.7ms) Inference, (1.2ms) NMS\n",
      " The image with the result is saved in: runs/detect/exp4/train_2163_jpg.rf.578afde4d2aab12b0d92d8cd270a6054.jpg\n",
      "Done. (39.7ms) Inference, (0.3ms) NMS\n",
      " The image with the result is saved in: runs/detect/exp4/train_2179_jpg.rf.d54c949980ad40aa0bf0cdfafeb05599.jpg\n",
      "4 emptySpacess, Done. (39.9ms) Inference, (1.2ms) NMS\n",
      " The image with the result is saved in: runs/detect/exp4/train_2188_jpg.rf.1253de26db49a995722b0dcb1175599e.jpg\n",
      "Done. (39.6ms) Inference, (0.2ms) NMS\n",
      " The image with the result is saved in: runs/detect/exp4/train_2189_jpg.rf.716349b1fe81091f81d38f6c22a647d9.jpg\n",
      "1 emptySpaces, Done. (39.6ms) Inference, (1.2ms) NMS\n",
      " The image with the result is saved in: runs/detect/exp4/train_2194_jpg.rf.f6265b16b90b911601138e5116fcfaf6.jpg\n",
      "Done. (39.7ms) Inference, (0.2ms) NMS\n",
      " The image with the result is saved in: runs/detect/exp4/train_2202_jpg.rf.368d6d87e11c978d53c392fefd2a26a6.jpg\n",
      "Done. (39.6ms) Inference, (0.6ms) NMS\n",
      " The image with the result is saved in: runs/detect/exp4/train_2208_jpg.rf.bfa3be2dca311c22468d74686caf63ae.jpg\n",
      "4 emptySpacess, Done. (39.6ms) Inference, (1.2ms) NMS\n",
      " The image with the result is saved in: runs/detect/exp4/train_2229_jpg.rf.6060e1989476f7bf04c0ca3b45435151.jpg\n",
      "Done. (39.7ms) Inference, (0.3ms) NMS\n",
      " The image with the result is saved in: runs/detect/exp4/train_2231_jpg.rf.2cb2e2c23f5bfacef57a3768a05ad763.jpg\n",
      "3 emptySpacess, Done. (39.7ms) Inference, (1.2ms) NMS\n",
      " The image with the result is saved in: runs/detect/exp4/train_2238_jpg.rf.36cb51b4df7db95bb08c19f5d2909ab0.jpg\n",
      "3 emptySpacess, Done. (39.8ms) Inference, (1.2ms) NMS\n",
      " The image with the result is saved in: runs/detect/exp4/train_2247_jpg.rf.80d9224e8e2caa6a120b7f91df869d1e.jpg\n",
      "2 emptySpacess, Done. (39.8ms) Inference, (1.2ms) NMS\n",
      " The image with the result is saved in: runs/detect/exp4/train_2263_jpg.rf.66cb80e1eae2c4fc8321f91d82de1c2a.jpg\n",
      "4 emptySpacess, Done. (40.0ms) Inference, (1.2ms) NMS\n",
      " The image with the result is saved in: runs/detect/exp4/train_2272_jpg.rf.9c078c34cb8e44b85f6897de049b82eb.jpg\n",
      "3 emptySpacess, Done. (39.8ms) Inference, (1.2ms) NMS\n",
      " The image with the result is saved in: runs/detect/exp4/train_229_jpg.rf.1069af4b69ac755f515ab91292c0f88e.jpg\n",
      "1 emptySpaces, Done. (40.0ms) Inference, (1.2ms) NMS\n",
      " The image with the result is saved in: runs/detect/exp4/train_2306_jpg.rf.d714abff7075c283c3c46b747d91d5bb.jpg\n",
      "Done. (39.6ms) Inference, (0.2ms) NMS\n",
      " The image with the result is saved in: runs/detect/exp4/train_2321_jpg.rf.f1839fce40c3f88dbeda8690208bb2ce.jpg\n",
      "4 emptySpacess, Done. (39.7ms) Inference, (1.2ms) NMS\n",
      " The image with the result is saved in: runs/detect/exp4/train_2332_jpg.rf.187d98d9624044e24ce170038a4e7623.jpg\n",
      "Done. (39.7ms) Inference, (0.2ms) NMS\n",
      " The image with the result is saved in: runs/detect/exp4/train_2345_jpg.rf.2f10a1fbad53c7d891603a8de564d6fc.jpg\n",
      "2 emptySpacess, Done. (34.5ms) Inference, (1.2ms) NMS\n",
      " The image with the result is saved in: runs/detect/exp4/train_2355_jpg.rf.a414ac32855568fda600cea97a9c7da9.jpg\n",
      "2 emptySpacess, Done. (34.7ms) Inference, (1.2ms) NMS\n",
      " The image with the result is saved in: runs/detect/exp4/train_2378_jpg.rf.cf5b7ff381ceb1154e228aa5ee1bf271.jpg\n",
      "1 emptySpaces, Done. (39.9ms) Inference, (1.2ms) NMS\n",
      " The image with the result is saved in: runs/detect/exp4/train_240_jpg.rf.cd07924f9be272c801277da403beed4a.jpg\n",
      "2 emptySpacess, Done. (39.5ms) Inference, (1.2ms) NMS\n",
      " The image with the result is saved in: runs/detect/exp4/train_2413_jpg.rf.721fa8d37c56425fa29c00c9443614ab.jpg\n",
      "1 emptySpaces, Done. (47.4ms) Inference, (1.2ms) NMS\n",
      " The image with the result is saved in: runs/detect/exp4/train_2449_jpg.rf.5db0e2c0a66c0aa7dbda4ea4d3c4d462.jpg\n",
      "3 emptySpacess, Done. (34.5ms) Inference, (1.2ms) NMS\n",
      " The image with the result is saved in: runs/detect/exp4/train_2497_jpg.rf.a00019845e1dce58884389589f1b4559.jpg\n",
      "3 emptySpacess, Done. (39.6ms) Inference, (1.2ms) NMS\n",
      " The image with the result is saved in: runs/detect/exp4/train_249_jpg.rf.6af4d08a27c89fc3b737cfe07113a9d5.jpg\n",
      "1 emptySpaces, Done. (39.8ms) Inference, (1.2ms) NMS\n",
      " The image with the result is saved in: runs/detect/exp4/train_2500_jpg.rf.b94229d9e92720ed998eed6a68056ca7.jpg\n",
      "Done. (39.8ms) Inference, (0.2ms) NMS\n",
      " The image with the result is saved in: runs/detect/exp4/train_2514_jpg.rf.b831c67cf3b281ba7885031dcc5a9638.jpg\n",
      "1 emptySpaces, Done. (34.5ms) Inference, (1.2ms) NMS\n",
      " The image with the result is saved in: runs/detect/exp4/train_2518_jpg.rf.6d431eb0c160f868aef05c6dc67a9c16.jpg\n",
      "1 emptySpaces, Done. (39.9ms) Inference, (1.2ms) NMS\n",
      " The image with the result is saved in: runs/detect/exp4/train_2541_jpg.rf.3e769eabe3f4b8b10bc6c8594cab6215.jpg\n",
      "2 emptySpacess, Done. (39.5ms) Inference, (1.2ms) NMS\n",
      " The image with the result is saved in: runs/detect/exp4/train_2547_jpg.rf.caf2a852e29b0f41cdb47d5cd09b4010.jpg\n",
      "5 emptySpacess, Done. (34.4ms) Inference, (1.2ms) NMS\n",
      " The image with the result is saved in: runs/detect/exp4/train_255_jpg.rf.bf5c4c903c3e44ff33b979baaac24037.jpg\n",
      "6 emptySpacess, Done. (39.5ms) Inference, (1.2ms) NMS\n",
      " The image with the result is saved in: runs/detect/exp4/train_2560_jpg.rf.24125b720691de0e856789074ea2e70f.jpg\n",
      "5 emptySpacess, Done. (39.8ms) Inference, (1.2ms) NMS\n",
      " The image with the result is saved in: runs/detect/exp4/train_2564_jpg.rf.f273deed04dc70fdb13556137b6b69cc.jpg\n",
      "2 emptySpacess, Done. (34.5ms) Inference, (1.2ms) NMS\n",
      " The image with the result is saved in: runs/detect/exp4/train_2577_jpg.rf.db3116e4a4810088220cd5558d46fd81.jpg\n",
      "Done. (39.8ms) Inference, (0.2ms) NMS\n",
      " The image with the result is saved in: runs/detect/exp4/train_2579_jpg.rf.07118191c637a39e98e3e668b63596a1.jpg\n",
      "12 emptySpacess, Done. (39.7ms) Inference, (1.2ms) NMS\n",
      " The image with the result is saved in: runs/detect/exp4/train_2602_jpg.rf.d45a3d280620105c7b5505c853126180.jpg\n",
      "2 emptySpacess, Done. (39.6ms) Inference, (1.2ms) NMS\n",
      " The image with the result is saved in: runs/detect/exp4/train_2606_jpg.rf.c4f759616bb7cd3699f9cca06cb89bfa.jpg\n",
      "3 emptySpacess, Done. (34.5ms) Inference, (1.2ms) NMS\n",
      " The image with the result is saved in: runs/detect/exp4/train_2613_jpg.rf.28feaaa069432cabc12ef77e4aff0247.jpg\n",
      "7 emptySpacess, Done. (39.6ms) Inference, (1.3ms) NMS\n",
      " The image with the result is saved in: runs/detect/exp4/train_2614_jpg.rf.51bebc3aa1624b29c0bf57a5844fd454.jpg\n",
      "2 emptySpacess, Done. (39.8ms) Inference, (1.2ms) NMS\n",
      " The image with the result is saved in: runs/detect/exp4/train_2616_jpg.rf.caf50e96e73064677ca5b11323cf41c3.jpg\n",
      "Done. (39.7ms) Inference, (0.2ms) NMS\n",
      " The image with the result is saved in: runs/detect/exp4/train_2640_jpg.rf.27bb1798f2469ccb5b5918dd9cf00f36.jpg\n",
      "4 emptySpacess, Done. (47.4ms) Inference, (1.2ms) NMS\n",
      " The image with the result is saved in: runs/detect/exp4/train_2648_jpg.rf.4176480204b9c1af14021912a9b11630.jpg\n",
      "Done. (39.7ms) Inference, (0.2ms) NMS\n",
      " The image with the result is saved in: runs/detect/exp4/train_2661_jpg.rf.3eae412b84aa23e112efaa4ad63de545.jpg\n",
      "7 emptySpacess, Done. (39.7ms) Inference, (1.2ms) NMS\n",
      " The image with the result is saved in: runs/detect/exp4/train_2675_jpg.rf.b97af0057ca728e7a45f995a35b44181.jpg\n",
      "8 emptySpacess, Done. (39.7ms) Inference, (1.2ms) NMS\n",
      " The image with the result is saved in: runs/detect/exp4/train_2693_jpg.rf.bb59c880c5988b53f7383a41473c5e38.jpg\n",
      "3 emptySpacess, Done. (39.7ms) Inference, (1.3ms) NMS\n",
      " The image with the result is saved in: runs/detect/exp4/train_2694_jpg.rf.29fed2d6825cde3a16bee3033a7acbd3.jpg\n",
      "2 emptySpacess, Done. (39.7ms) Inference, (1.2ms) NMS\n",
      " The image with the result is saved in: runs/detect/exp4/train_2710_jpg.rf.50db122a10ec36bf3e2f028d45e091de.jpg\n",
      "5 emptySpacess, Done. (34.6ms) Inference, (1.3ms) NMS\n",
      " The image with the result is saved in: runs/detect/exp4/train_2711_jpg.rf.5bcae9b9934a97313e79ebce48d8d892.jpg\n",
      "Done. (39.9ms) Inference, (0.4ms) NMS\n",
      " The image with the result is saved in: runs/detect/exp4/train_2722_jpg.rf.d4d2abdc68bf69ab9f23514f6e4d2f48.jpg\n",
      "Done. (39.9ms) Inference, (0.5ms) NMS\n",
      " The image with the result is saved in: runs/detect/exp4/train_2728_jpg.rf.abc86069dec4e8043957a135413bfd79.jpg\n",
      "5 emptySpacess, Done. (39.7ms) Inference, (1.2ms) NMS\n",
      " The image with the result is saved in: runs/detect/exp4/train_2745_jpg.rf.026140a3660c05481975d5f5f6a9cca4.jpg\n",
      "4 emptySpacess, Done. (34.5ms) Inference, (1.2ms) NMS\n",
      " The image with the result is saved in: runs/detect/exp4/train_2750_jpg.rf.f5553cfc5e1dce78c0a8efc57bdbd50b.jpg\n",
      "Done. (39.8ms) Inference, (0.2ms) NMS\n",
      " The image with the result is saved in: runs/detect/exp4/train_2752_jpg.rf.f80540ceab9d49640ca466e328ba2afe.jpg\n",
      "3 emptySpacess, Done. (39.7ms) Inference, (1.2ms) NMS\n",
      " The image with the result is saved in: runs/detect/exp4/train_2763_jpg.rf.b6bd9120460d0601608894663b8f9f4f.jpg\n",
      "1 emptySpaces, Done. (34.6ms) Inference, (1.2ms) NMS\n",
      " The image with the result is saved in: runs/detect/exp4/train_2775_jpg.rf.3158268015ccaafcea62a2f22dbd1fdf.jpg\n",
      "Done. (39.5ms) Inference, (0.2ms) NMS\n",
      " The image with the result is saved in: runs/detect/exp4/train_2782_jpg.rf.650eb2722ca946f3389141eb2574bb15.jpg\n",
      "1 emptySpaces, Done. (34.5ms) Inference, (1.2ms) NMS\n",
      " The image with the result is saved in: runs/detect/exp4/train_278_jpg.rf.2886ed6455c90e82e7d33654f6777bcd.jpg\n",
      "1 emptySpaces, Done. (39.7ms) Inference, (1.2ms) NMS\n",
      " The image with the result is saved in: runs/detect/exp4/train_280_jpg.rf.16de9d45989828e2333b52d462bab71c.jpg\n",
      "Done. (39.6ms) Inference, (0.2ms) NMS\n",
      " The image with the result is saved in: runs/detect/exp4/train_2815_jpg.rf.c3914c3962f3f7d5f637f3ff33a97a17.jpg\n",
      "Done. (39.7ms) Inference, (0.2ms) NMS\n",
      " The image with the result is saved in: runs/detect/exp4/train_2817_jpg.rf.234ba8dd39a51c60c36f8d8e132c2834.jpg\n",
      "7 emptySpacess, Done. (39.8ms) Inference, (1.2ms) NMS\n",
      " The image with the result is saved in: runs/detect/exp4/train_2819_jpg.rf.fc3e64e3cef41ee68af88416c5330675.jpg\n",
      "4 emptySpacess, Done. (39.6ms) Inference, (1.2ms) NMS\n",
      " The image with the result is saved in: runs/detect/exp4/train_2824_jpg.rf.82a573c3dfd99d7b3569450741c317aa.jpg\n",
      "5 emptySpacess, Done. (39.7ms) Inference, (1.2ms) NMS\n",
      " The image with the result is saved in: runs/detect/exp4/train_2825_jpg.rf.0579ce6092e38453e6a941ecdd3c067b.jpg\n",
      "2 emptySpacess, Done. (39.7ms) Inference, (1.2ms) NMS\n",
      " The image with the result is saved in: runs/detect/exp4/train_2837_jpg.rf.60769b2cf519011aec0e3c038c898217.jpg\n",
      "1 emptySpaces, Done. (39.8ms) Inference, (1.4ms) NMS\n",
      " The image with the result is saved in: runs/detect/exp4/train_2838_jpg.rf.e2b82e275d90e7652f6edee95b572ecf.jpg\n",
      "2 emptySpacess, Done. (39.7ms) Inference, (1.2ms) NMS\n",
      " The image with the result is saved in: runs/detect/exp4/train_2842_jpg.rf.9cbda6c020546979737016177eae644f.jpg\n",
      "2 emptySpacess, Done. (39.7ms) Inference, (1.2ms) NMS\n",
      " The image with the result is saved in: runs/detect/exp4/train_2854_jpg.rf.76d977f77f51ce70806a12ba7caa0f5a.jpg\n",
      "3 emptySpacess, Done. (40.5ms) Inference, (1.3ms) NMS\n",
      " The image with the result is saved in: runs/detect/exp4/train_2891_jpg.rf.9a2ee8501976f729373b9f11c98632b5.jpg\n",
      "Done. (39.6ms) Inference, (0.2ms) NMS\n",
      " The image with the result is saved in: runs/detect/exp4/train_2894_jpg.rf.df2f38dc3496c3c38250a91ddee593eb.jpg\n",
      "1 emptySpaces, Done. (34.5ms) Inference, (1.2ms) NMS\n",
      " The image with the result is saved in: runs/detect/exp4/train_28_jpg.rf.ffa620573108f20880f869a2a72bc3d5.jpg\n",
      "Done. (39.6ms) Inference, (0.2ms) NMS\n",
      " The image with the result is saved in: runs/detect/exp4/train_2905_jpg.rf.e98877a51422143bff53ed039e562aba.jpg\n",
      "2 emptySpacess, Done. (39.7ms) Inference, (1.2ms) NMS\n",
      " The image with the result is saved in: runs/detect/exp4/train_2913_jpg.rf.5f22ab8b9be105540cc038585dd8a0db.jpg\n",
      "2 emptySpacess, Done. (47.5ms) Inference, (1.2ms) NMS\n",
      " The image with the result is saved in: runs/detect/exp4/train_2930_jpg.rf.0a0292c30ab73477e011bd62e0c19088.jpg\n",
      "4 emptySpacess, Done. (39.6ms) Inference, (1.2ms) NMS\n",
      " The image with the result is saved in: runs/detect/exp4/train_2933_jpg.rf.13860af2dcc95fc2d6e617855775e955.jpg\n",
      "1 emptySpaces, Done. (34.4ms) Inference, (1.2ms) NMS\n",
      " The image with the result is saved in: runs/detect/exp4/train_2940_jpg.rf.36a084c2df1ac198fccb755060e7c470.jpg\n",
      "3 emptySpacess, Done. (39.7ms) Inference, (1.3ms) NMS\n",
      " The image with the result is saved in: runs/detect/exp4/train_2942_jpg.rf.342dab97574dc2608d340dc656ed997e.jpg\n",
      "Done. (34.5ms) Inference, (0.2ms) NMS\n",
      " The image with the result is saved in: runs/detect/exp4/train_2951_jpg.rf.48b42af72081e420b065ce131f055146.jpg\n",
      "2 emptySpacess, Done. (39.7ms) Inference, (1.4ms) NMS\n",
      " The image with the result is saved in: runs/detect/exp4/train_2956_jpg.rf.ba0c792eef4c529d2071463a450b18ef.jpg\n",
      "1 emptySpaces, Done. (39.7ms) Inference, (1.2ms) NMS\n",
      " The image with the result is saved in: runs/detect/exp4/train_2958_jpg.rf.aae38ebbc59001ab231ca72d526edf46.jpg\n",
      "6 emptySpacess, Done. (39.8ms) Inference, (1.2ms) NMS\n",
      " The image with the result is saved in: runs/detect/exp4/train_2971_jpg.rf.049b6d347edddc5e2da629de29554d77.jpg\n",
      "2 emptySpacess, Done. (39.7ms) Inference, (1.2ms) NMS\n",
      " The image with the result is saved in: runs/detect/exp4/train_2972_jpg.rf.e64d6247ad8dd96b10a01b251928f136.jpg\n",
      "3 emptySpacess, Done. (39.7ms) Inference, (1.2ms) NMS\n",
      " The image with the result is saved in: runs/detect/exp4/train_2973_jpg.rf.cd7ec28b93a4874f7272f2d605e912bd.jpg\n",
      "Done. (39.8ms) Inference, (0.2ms) NMS\n",
      " The image with the result is saved in: runs/detect/exp4/train_2980_jpg.rf.fc587ece8c7b7c29484ee322013fa127.jpg\n",
      "Done. (39.6ms) Inference, (0.3ms) NMS\n",
      " The image with the result is saved in: runs/detect/exp4/train_2995_jpg.rf.370b7221cd0aefeec4e38c2b9d1643a8.jpg\n",
      "3 emptySpacess, Done. (39.8ms) Inference, (1.2ms) NMS\n",
      " The image with the result is saved in: runs/detect/exp4/train_3011_jpg.rf.69c7caca6e7823225e9615b1d11c9b1a.jpg\n",
      "2 emptySpacess, Done. (39.7ms) Inference, (1.2ms) NMS\n",
      " The image with the result is saved in: runs/detect/exp4/train_301_jpg.rf.235548ed3242bcbea34efd00314f52fb.jpg\n",
      "1 emptySpaces, Done. (51.8ms) Inference, (1.3ms) NMS\n",
      " The image with the result is saved in: runs/detect/exp4/train_3021_jpg.rf.d3630659f7bb25e92a9fcad9964bd6e8.jpg\n",
      "Done. (54.1ms) Inference, (0.3ms) NMS\n",
      " The image with the result is saved in: runs/detect/exp4/train_3022_jpg.rf.a67ed557b662133baba118644b04d3b2.jpg\n",
      "3 emptySpacess, Done. (48.8ms) Inference, (1.3ms) NMS\n",
      " The image with the result is saved in: runs/detect/exp4/train_3032_jpg.rf.111c9d789e2cff3a437368964498e5df.jpg\n",
      "5 emptySpacess, Done. (40.2ms) Inference, (1.2ms) NMS\n",
      " The image with the result is saved in: runs/detect/exp4/train_3035_jpg.rf.02c9ce94e3906a5ef4a6a7f10d2f429d.jpg\n",
      "3 emptySpacess, Done. (44.3ms) Inference, (1.2ms) NMS\n",
      " The image with the result is saved in: runs/detect/exp4/train_3036_jpg.rf.599852e84c5600655360b7dc0366d9d6.jpg\n",
      "Done. (35.1ms) Inference, (0.2ms) NMS\n",
      " The image with the result is saved in: runs/detect/exp4/train_3046_jpg.rf.c26e1af1919ad6c99e2e884505909362.jpg\n",
      "2 emptySpacess, Done. (40.3ms) Inference, (1.2ms) NMS\n",
      " The image with the result is saved in: runs/detect/exp4/train_3061_jpg.rf.87f7ec3e74612c8862630446c067c174.jpg\n",
      "1 emptySpaces, Done. (40.5ms) Inference, (1.3ms) NMS\n",
      " The image with the result is saved in: runs/detect/exp4/train_3064_jpg.rf.176f779d523787bd139687e1d464f998.jpg\n",
      "3 emptySpacess, Done. (40.6ms) Inference, (1.2ms) NMS\n",
      " The image with the result is saved in: runs/detect/exp4/train_3074_jpg.rf.40e73d68075dfb5e134a40a071ea98aa.jpg\n",
      "1 emptySpaces, Done. (35.1ms) Inference, (1.2ms) NMS\n",
      " The image with the result is saved in: runs/detect/exp4/train_3093_jpg.rf.0d395f2c744f799547e53d9089279b8d.jpg\n",
      "2 emptySpacess, Done. (39.5ms) Inference, (1.2ms) NMS\n",
      " The image with the result is saved in: runs/detect/exp4/train_3098_jpg.rf.36f8988c79794adf6eb7ca7550046d2c.jpg\n",
      "1 emptySpaces, Done. (39.8ms) Inference, (1.2ms) NMS\n",
      " The image with the result is saved in: runs/detect/exp4/train_3118_jpg.rf.fa2e19dc400bf10067c3bfcfe3f428ab.jpg\n",
      "10 emptySpacess, Done. (39.6ms) Inference, (1.2ms) NMS\n",
      " The image with the result is saved in: runs/detect/exp4/train_311_jpg.rf.7bc6aa97e8145654922f555838e33d2f.jpg\n",
      "Done. (39.8ms) Inference, (0.2ms) NMS\n",
      " The image with the result is saved in: runs/detect/exp4/train_3129_jpg.rf.16c4814e36664c07a7c8bf82a6723003.jpg\n",
      "Done. (39.6ms) Inference, (0.2ms) NMS\n",
      " The image with the result is saved in: runs/detect/exp4/train_312_jpg.rf.48ad9f580f4318883818c33c0c5a181b.jpg\n",
      "Done. (39.7ms) Inference, (0.2ms) NMS\n",
      " The image with the result is saved in: runs/detect/exp4/train_3130_jpg.rf.2e57c443be05aeefeb0f1feb0c8f14c0.jpg\n",
      "1 emptySpaces, Done. (34.5ms) Inference, (1.2ms) NMS\n",
      " The image with the result is saved in: runs/detect/exp4/train_3143_jpg.rf.c40c713adcd9a1f6aea0da52c915cd02.jpg\n",
      "2 emptySpacess, Done. (39.8ms) Inference, (1.2ms) NMS\n",
      " The image with the result is saved in: runs/detect/exp4/train_3153_jpg.rf.63ca706092a03c0a101a7ecf3d451805.jpg\n",
      "Done. (39.6ms) Inference, (0.2ms) NMS\n",
      " The image with the result is saved in: runs/detect/exp4/train_3163_jpg.rf.d76557be57ff7ae3f5eea2745193f7fe.jpg\n",
      "1 emptySpaces, Done. (39.8ms) Inference, (1.2ms) NMS\n",
      " The image with the result is saved in: runs/detect/exp4/train_3174_jpg.rf.e0969ec67468bc0f4e4a14f635db9e0c.jpg\n",
      "2 emptySpacess, Done. (34.5ms) Inference, (1.2ms) NMS\n",
      " The image with the result is saved in: runs/detect/exp4/train_3219_jpg.rf.445bf6481af75cc894335ff5b33b4344.jpg\n",
      "3 emptySpacess, Done. (39.6ms) Inference, (1.2ms) NMS\n",
      " The image with the result is saved in: runs/detect/exp4/train_3232_jpg.rf.8800ce1f19cdf9b93a94eeab2a4d9dd5.jpg\n",
      "Done. (39.8ms) Inference, (0.2ms) NMS\n",
      " The image with the result is saved in: runs/detect/exp4/train_3237_jpg.rf.587aca0572a1f5882d217be52c93b51c.jpg\n",
      "11 emptySpacess, Done. (39.8ms) Inference, (1.2ms) NMS\n",
      " The image with the result is saved in: runs/detect/exp4/train_3240_jpg.rf.8f7d50411d4821f562887e3e8943664e.jpg\n",
      "3 emptySpacess, Done. (39.7ms) Inference, (1.2ms) NMS\n",
      " The image with the result is saved in: runs/detect/exp4/train_3243_jpg.rf.3311afdcb86768cc117972ba8ea23e2c.jpg\n",
      "2 emptySpacess, Done. (39.7ms) Inference, (1.2ms) NMS\n",
      " The image with the result is saved in: runs/detect/exp4/train_3247_jpg.rf.34ca812fe70410de2073e1869288d46d.jpg\n",
      "3 emptySpacess, Done. (39.7ms) Inference, (1.2ms) NMS\n",
      " The image with the result is saved in: runs/detect/exp4/train_3251_jpg.rf.51e89d968802386c6d0b2e80eaa0e08a.jpg\n",
      "3 emptySpacess, Done. (34.4ms) Inference, (1.2ms) NMS\n",
      " The image with the result is saved in: runs/detect/exp4/train_3288_jpg.rf.e640d4fe5b16782f00cad821388a5601.jpg\n",
      "3 emptySpacess, Done. (39.9ms) Inference, (1.2ms) NMS\n",
      " The image with the result is saved in: runs/detect/exp4/train_3294_jpg.rf.84c4f7618c1983a253299caf7d654d63.jpg\n",
      "1 emptySpaces, Done. (39.6ms) Inference, (1.2ms) NMS\n",
      " The image with the result is saved in: runs/detect/exp4/train_3305_jpg.rf.233799f6b95edf5b91eedadbe2224a48.jpg\n",
      "Done. (39.7ms) Inference, (0.2ms) NMS\n",
      " The image with the result is saved in: runs/detect/exp4/train_3312_jpg.rf.7140da9ab15c475a0f15777af13345ca.jpg\n",
      "Done. (34.5ms) Inference, (0.2ms) NMS\n",
      " The image with the result is saved in: runs/detect/exp4/train_3313_jpg.rf.d09c5ed7daf434660cb357afe65d0f13.jpg\n",
      "1 emptySpaces, Done. (39.6ms) Inference, (1.2ms) NMS\n",
      " The image with the result is saved in: runs/detect/exp4/train_3316_jpg.rf.3d6d28bf5fe274fe3be70b51ffef2f2b.jpg\n",
      "4 emptySpacess, Done. (34.5ms) Inference, (1.2ms) NMS\n",
      " The image with the result is saved in: runs/detect/exp4/train_3342_jpg.rf.a7ff16a094d988c821e687bbd33052ee.jpg\n",
      "5 emptySpacess, Done. (39.6ms) Inference, (1.2ms) NMS\n",
      " The image with the result is saved in: runs/detect/exp4/train_334_jpg.rf.d671c5a0e3704e433fd91687d9d5e905.jpg\n",
      "5 emptySpacess, Done. (39.7ms) Inference, (1.2ms) NMS\n",
      " The image with the result is saved in: runs/detect/exp4/train_3355_jpg.rf.ae170f839b5aec29bf6593bdf3766e8c.jpg\n",
      "1 emptySpaces, Done. (39.7ms) Inference, (1.2ms) NMS\n",
      " The image with the result is saved in: runs/detect/exp4/train_3362_jpg.rf.dd2f355485fa919cd5251a5ef934d997.jpg\n",
      "Done. (39.7ms) Inference, (0.2ms) NMS\n",
      " The image with the result is saved in: runs/detect/exp4/train_3398_jpg.rf.f4c7195e28c7f60299be1452b870fab4.jpg\n",
      "Done. (39.6ms) Inference, (0.3ms) NMS\n",
      " The image with the result is saved in: runs/detect/exp4/train_3399_jpg.rf.2330c59b5ef0d658504fc162a2fa41a6.jpg\n",
      "2 emptySpacess, Done. (34.5ms) Inference, (1.2ms) NMS\n",
      " The image with the result is saved in: runs/detect/exp4/train_3402_jpg.rf.4cc29b490bf78517c1bfeed47bda2a9d.jpg\n",
      "Done. (34.7ms) Inference, (0.3ms) NMS\n",
      " The image with the result is saved in: runs/detect/exp4/train_3414_jpg.rf.0e170c339b76819f25961d8b470006bb.jpg\n",
      "4 emptySpacess, Done. (39.8ms) Inference, (1.4ms) NMS\n",
      " The image with the result is saved in: runs/detect/exp4/train_3435_jpg.rf.aadaed22eb2f7ebcbd74bf90672f7ac6.jpg\n",
      "1 emptySpaces, Done. (39.7ms) Inference, (1.2ms) NMS\n",
      " The image with the result is saved in: runs/detect/exp4/train_3436_jpg.rf.aff40a7e0c50467bda64975a193ffc5d.jpg\n",
      "1 emptySpaces, Done. (40.1ms) Inference, (1.4ms) NMS\n",
      " The image with the result is saved in: runs/detect/exp4/train_3451_jpg.rf.d218b5929bb47815b3ec6f8ec655d4e5.jpg\n",
      "Done. (39.8ms) Inference, (0.2ms) NMS\n",
      " The image with the result is saved in: runs/detect/exp4/train_3452_jpg.rf.8cffe0b54f251e08cf1981d4592e970b.jpg\n",
      "2 emptySpacess, Done. (39.7ms) Inference, (1.2ms) NMS\n",
      " The image with the result is saved in: runs/detect/exp4/train_3458_jpg.rf.9b0b98c47aa77a537c20aa7ec0c315d9.jpg\n",
      "Done. (39.6ms) Inference, (0.2ms) NMS\n",
      " The image with the result is saved in: runs/detect/exp4/train_3464_jpg.rf.d46b3c87be784e56189d41f27e8f8cf7.jpg\n",
      "Done. (39.7ms) Inference, (0.2ms) NMS\n",
      " The image with the result is saved in: runs/detect/exp4/train_348_jpg.rf.aca07c7af5a2046303abbad728c4a49d.jpg\n",
      "Done. (39.8ms) Inference, (0.3ms) NMS\n",
      " The image with the result is saved in: runs/detect/exp4/train_3491_jpg.rf.1d2ff2a672f03e6f35d75bd66296a51e.jpg\n",
      "1 emptySpaces, Done. (34.6ms) Inference, (1.3ms) NMS\n",
      " The image with the result is saved in: runs/detect/exp4/train_3493_jpg.rf.748aa8538200ce717d6e3de0f3b98e67.jpg\n",
      "7 emptySpacess, Done. (39.6ms) Inference, (1.2ms) NMS\n",
      " The image with the result is saved in: runs/detect/exp4/train_3523_jpg.rf.d63baad5c4d40ec974a4fcc911053106.jpg\n",
      "5 emptySpacess, Done. (39.6ms) Inference, (1.2ms) NMS\n",
      " The image with the result is saved in: runs/detect/exp4/train_3534_jpg.rf.6b6ea977a9d15e6a51b9f5148e8c7952.jpg\n",
      "1 emptySpaces, Done. (39.7ms) Inference, (1.2ms) NMS\n",
      " The image with the result is saved in: runs/detect/exp4/train_3553_jpg.rf.6c86f165958238368582c26cc48461f0.jpg\n",
      "1 emptySpaces, Done. (39.8ms) Inference, (1.2ms) NMS\n",
      " The image with the result is saved in: runs/detect/exp4/train_3556_jpg.rf.b56671c9d7dec1bdf6ec9478e7b18bf1.jpg\n",
      "1 emptySpaces, Done. (34.4ms) Inference, (1.2ms) NMS\n",
      " The image with the result is saved in: runs/detect/exp4/train_3569_jpg.rf.f7652e5477362c05e8c27f252edb7ca8.jpg\n",
      "Done. (39.8ms) Inference, (0.5ms) NMS\n",
      " The image with the result is saved in: runs/detect/exp4/train_3572_jpg.rf.ad2ac365662f7897bcc5547b3b754500.jpg\n",
      "7 emptySpacess, Done. (39.7ms) Inference, (1.2ms) NMS\n",
      " The image with the result is saved in: runs/detect/exp4/train_3575_jpg.rf.54412817a31ba4feb28512af80441bf3.jpg\n",
      "Done. (39.7ms) Inference, (0.3ms) NMS\n",
      " The image with the result is saved in: runs/detect/exp4/train_3578_jpg.rf.a515745c057768b941f58a9db9e1c6f6.jpg\n",
      "1 emptySpaces, Done. (34.6ms) Inference, (1.3ms) NMS\n",
      " The image with the result is saved in: runs/detect/exp4/train_3581_jpg.rf.ed3663e3b4e29a2c2b327cad819c0eb9.jpg\n",
      "3 emptySpacess, Done. (39.5ms) Inference, (1.2ms) NMS\n",
      " The image with the result is saved in: runs/detect/exp4/train_3598_jpg.rf.b86c3a90321e81304246e2cdf737bd09.jpg\n",
      "Done. (40.2ms) Inference, (0.4ms) NMS\n",
      " The image with the result is saved in: runs/detect/exp4/train_3619_jpg.rf.2507f0e4c31bddac995d7e5d476fcc4b.jpg\n",
      "2 emptySpacess, Done. (39.6ms) Inference, (1.2ms) NMS\n",
      " The image with the result is saved in: runs/detect/exp4/train_3620_jpg.rf.0a4b9824d5b961c352260b2bfbc72845.jpg\n",
      "4 emptySpacess, Done. (34.5ms) Inference, (1.2ms) NMS\n",
      " The image with the result is saved in: runs/detect/exp4/train_3663_jpg.rf.81bf1ef558bd94eda51d327bee6fe4d7.jpg\n",
      "1 emptySpaces, Done. (34.6ms) Inference, (1.2ms) NMS\n",
      " The image with the result is saved in: runs/detect/exp4/train_3665_jpg.rf.0a123019e31c2b9ad416c5107fd5e685.jpg\n",
      "Done. (39.7ms) Inference, (0.2ms) NMS\n",
      " The image with the result is saved in: runs/detect/exp4/train_3668_jpg.rf.494f1e7adf2b4db18e230d038064c295.jpg\n",
      "Done. (34.5ms) Inference, (0.2ms) NMS\n",
      " The image with the result is saved in: runs/detect/exp4/train_3687_jpg.rf.0ae0bc4c71b477aa4a3c0b9ea977ec6f.jpg\n",
      "3 emptySpacess, Done. (34.6ms) Inference, (1.2ms) NMS\n",
      " The image with the result is saved in: runs/detect/exp4/train_3689_jpg.rf.1196c19eba545b5da8ad8fba401ac8bd.jpg\n",
      "5 emptySpacess, Done. (39.8ms) Inference, (1.2ms) NMS\n",
      " The image with the result is saved in: runs/detect/exp4/train_368_jpg.rf.ea22f70587a8785c109919a3376e4d07.jpg\n",
      "Done. (39.8ms) Inference, (0.3ms) NMS\n",
      " The image with the result is saved in: runs/detect/exp4/train_3690_jpg.rf.39d9038987b95b7535eca3b9b40fdff9.jpg\n",
      "2 emptySpacess, Done. (39.8ms) Inference, (1.2ms) NMS\n",
      " The image with the result is saved in: runs/detect/exp4/train_3693_jpg.rf.63bc842c25d5647493d92da32d5b97b2.jpg\n",
      "7 emptySpacess, Done. (39.7ms) Inference, (1.2ms) NMS\n",
      " The image with the result is saved in: runs/detect/exp4/train_3706_jpg.rf.6f8b93c24aad434117e9e6a84bfa9e1c.jpg\n",
      "Done. (39.8ms) Inference, (0.3ms) NMS\n",
      " The image with the result is saved in: runs/detect/exp4/train_3716_jpg.rf.bb15dddb9fed36470e60615c508be6ff.jpg\n",
      "7 emptySpacess, Done. (39.6ms) Inference, (1.2ms) NMS\n",
      " The image with the result is saved in: runs/detect/exp4/train_3741_jpg.rf.3ac64062f5e41a9a41f0a90c7aa14fa6.jpg\n",
      "2 emptySpacess, Done. (39.6ms) Inference, (1.2ms) NMS\n",
      " The image with the result is saved in: runs/detect/exp4/train_3744_jpg.rf.79b9201d86b37a50bc71c8bec02999aa.jpg\n",
      "1 emptySpaces, Done. (34.5ms) Inference, (1.2ms) NMS\n",
      " The image with the result is saved in: runs/detect/exp4/train_3750_jpg.rf.f6a9bdae37fd52ef52cff2b9ba7b56df.jpg\n",
      "4 emptySpacess, Done. (40.3ms) Inference, (1.5ms) NMS\n",
      " The image with the result is saved in: runs/detect/exp4/train_3767_jpg.rf.84a365586cdf385eb929808983336f00.jpg\n",
      "Done. (39.8ms) Inference, (0.2ms) NMS\n",
      " The image with the result is saved in: runs/detect/exp4/train_3772_jpg.rf.997383217c0b9ef001b6edce3d6f2fe1.jpg\n",
      "2 emptySpacess, Done. (39.7ms) Inference, (1.3ms) NMS\n",
      " The image with the result is saved in: runs/detect/exp4/train_3773_jpg.rf.a4eeaeab9732d70c8b9524e832952b4a.jpg\n",
      "3 emptySpacess, Done. (34.5ms) Inference, (1.2ms) NMS\n",
      " The image with the result is saved in: runs/detect/exp4/train_3777_jpg.rf.d6e5d83d7f7cce1621e202716e0ed616.jpg\n",
      "Done. (39.6ms) Inference, (0.2ms) NMS\n",
      " The image with the result is saved in: runs/detect/exp4/train_3784_jpg.rf.939d08daf33cc17d43a7a95086260ef0.jpg\n",
      "1 emptySpaces, Done. (39.7ms) Inference, (1.2ms) NMS\n",
      " The image with the result is saved in: runs/detect/exp4/train_378_jpg.rf.756c49da1f6ad2450ac0c84749aa4fc4.jpg\n",
      "4 emptySpacess, Done. (34.5ms) Inference, (1.2ms) NMS\n",
      " The image with the result is saved in: runs/detect/exp4/train_3808_jpg.rf.8bae2ea18545fec1a6086c82d63d1bdb.jpg\n",
      "Done. (35.1ms) Inference, (0.4ms) NMS\n",
      " The image with the result is saved in: runs/detect/exp4/train_3811_jpg.rf.4cbb183cb25e768bac09395f7d23efae.jpg\n",
      "Done. (40.2ms) Inference, (0.4ms) NMS\n",
      " The image with the result is saved in: runs/detect/exp4/train_3813_jpg.rf.3629f43230829048907f45d22f49f182.jpg\n",
      "Done. (39.6ms) Inference, (0.2ms) NMS\n",
      " The image with the result is saved in: runs/detect/exp4/train_3836_jpg.rf.71f7869847b2bd1624f34c7dfc89f63e.jpg\n",
      "Done. (39.7ms) Inference, (0.3ms) NMS\n",
      " The image with the result is saved in: runs/detect/exp4/train_383_jpg.rf.54232889fda3df7b02a6c423090a3030.jpg\n",
      "9 emptySpacess, Done. (39.7ms) Inference, (1.2ms) NMS\n",
      " The image with the result is saved in: runs/detect/exp4/train_3841_jpg.rf.06d796bf44a7727b6c167406eaae430e.jpg\n",
      "Done. (34.5ms) Inference, (0.2ms) NMS\n",
      " The image with the result is saved in: runs/detect/exp4/train_3847_jpg.rf.1500d04c948e348013ce2fdced610d75.jpg\n",
      "3 emptySpacess, Done. (34.8ms) Inference, (1.5ms) NMS\n",
      " The image with the result is saved in: runs/detect/exp4/train_3848_jpg.rf.5f532c5e291471d6dea9434c1e62d688.jpg\n",
      "Done. (39.8ms) Inference, (0.4ms) NMS\n",
      " The image with the result is saved in: runs/detect/exp4/train_3859_jpg.rf.fd439ba2237eac0068a9623de4125724.jpg\n",
      "2 emptySpacess, Done. (39.8ms) Inference, (1.2ms) NMS\n",
      " The image with the result is saved in: runs/detect/exp4/train_3862_jpg.rf.6252c6bd539108c1d8e6129d86b8d7df.jpg\n",
      "Done. (34.6ms) Inference, (0.2ms) NMS\n",
      " The image with the result is saved in: runs/detect/exp4/train_3883_jpg.rf.90ab3002bcdbb574ff0558c30faea394.jpg\n",
      "Done. (39.7ms) Inference, (0.6ms) NMS\n",
      " The image with the result is saved in: runs/detect/exp4/train_388_jpg.rf.a1d77ba353cc95c6cd490dcc19c5584f.jpg\n",
      "2 emptySpacess, Done. (39.9ms) Inference, (1.2ms) NMS\n",
      " The image with the result is saved in: runs/detect/exp4/train_3933_jpg.rf.3ab6b251fcb9606edcbba914779f56e9.jpg\n",
      "7 emptySpacess, Done. (34.4ms) Inference, (1.2ms) NMS\n",
      " The image with the result is saved in: runs/detect/exp4/train_3937_jpg.rf.fe4e094ba32e808a167276b4b7bba2a8.jpg\n",
      "2 emptySpacess, Done. (34.5ms) Inference, (1.2ms) NMS\n",
      " The image with the result is saved in: runs/detect/exp4/train_3952_jpg.rf.2575f1383ad8ecaf150649038f97132c.jpg\n",
      "Done. (34.6ms) Inference, (0.3ms) NMS\n",
      " The image with the result is saved in: runs/detect/exp4/train_3953_jpg.rf.c2eb2e84ca3ea7b30246cf6b2765e0de.jpg\n",
      "Done. (40.2ms) Inference, (0.4ms) NMS\n",
      " The image with the result is saved in: runs/detect/exp4/train_3962_jpg.rf.6fa75ad457ade65452bfca47f60041b4.jpg\n",
      "1 emptySpaces, Done. (39.5ms) Inference, (1.2ms) NMS\n",
      " The image with the result is saved in: runs/detect/exp4/train_3968_jpg.rf.592f05a923f4c1e0f2dcbbff740a177d.jpg\n",
      "7 emptySpacess, Done. (34.5ms) Inference, (1.2ms) NMS\n",
      " The image with the result is saved in: runs/detect/exp4/train_3970_jpg.rf.b7ee6d57010c2e8ad6cb46c665480896.jpg\n",
      "4 emptySpacess, Done. (34.6ms) Inference, (1.2ms) NMS\n",
      " The image with the result is saved in: runs/detect/exp4/train_3973_jpg.rf.2a098e4cfdbae659308d68ad8b8ccbb8.jpg\n",
      "3 emptySpacess, Done. (34.8ms) Inference, (1.3ms) NMS\n",
      " The image with the result is saved in: runs/detect/exp4/train_3987_jpg.rf.5938fd092a60f1ff32500d14a717bbf8.jpg\n",
      "Done. (34.6ms) Inference, (0.2ms) NMS\n",
      " The image with the result is saved in: runs/detect/exp4/train_4006_jpg.rf.957d33bd7c9bf5b258ad2b8f2ba1d0d7.jpg\n",
      "1 emptySpaces, Done. (39.6ms) Inference, (1.2ms) NMS\n",
      " The image with the result is saved in: runs/detect/exp4/train_4016_jpg.rf.f31be1a3f3e1086f59ee0ec3b1549e32.jpg\n",
      "1 emptySpaces, Done. (39.8ms) Inference, (1.2ms) NMS\n",
      " The image with the result is saved in: runs/detect/exp4/train_4036_jpg.rf.0542ed0fc3822bb43af01549857cf14e.jpg\n",
      "1 emptySpaces, Done. (34.5ms) Inference, (1.2ms) NMS\n",
      " The image with the result is saved in: runs/detect/exp4/train_4063_jpg.rf.5ac95d5614f456e4abed29fa108ca447.jpg\n",
      "2 emptySpacess, Done. (40.0ms) Inference, (1.3ms) NMS\n",
      " The image with the result is saved in: runs/detect/exp4/train_4064_jpg.rf.3449674ab0a1794f53c6ead4b2a43ec8.jpg\n",
      "Done. (39.6ms) Inference, (0.2ms) NMS\n",
      " The image with the result is saved in: runs/detect/exp4/train_4068_jpg.rf.2fa1e270d5c8a67126b11a4040739558.jpg\n",
      "1 emptySpaces, Done. (39.7ms) Inference, (1.2ms) NMS\n",
      " The image with the result is saved in: runs/detect/exp4/train_407_jpg.rf.caa589304bdbc47acf88ad53acd212d0.jpg\n",
      "6 emptySpacess, Done. (39.7ms) Inference, (1.2ms) NMS\n",
      " The image with the result is saved in: runs/detect/exp4/train_4083_jpg.rf.07102506d4a7f1521af84d001b06a56a.jpg\n",
      "4 emptySpacess, Done. (39.8ms) Inference, (1.2ms) NMS\n",
      " The image with the result is saved in: runs/detect/exp4/train_4089_jpg.rf.57b830cf5b6e85d3a69908f904f3b6f7.jpg\n",
      "1 emptySpaces, Done. (39.7ms) Inference, (1.2ms) NMS\n",
      " The image with the result is saved in: runs/detect/exp4/train_4093_jpg.rf.ee834f4868f06f46416f173d84d711ad.jpg\n",
      "3 emptySpacess, Done. (34.6ms) Inference, (1.2ms) NMS\n",
      " The image with the result is saved in: runs/detect/exp4/train_4099_jpg.rf.1b1f6522aaa99235867e9bd2832fc5c0.jpg\n",
      "Done. (40.0ms) Inference, (0.2ms) NMS\n",
      " The image with the result is saved in: runs/detect/exp4/train_4109_jpg.rf.2a568f5dfa4345673e89ae845bf991b7.jpg\n",
      "2 emptySpacess, Done. (34.5ms) Inference, (1.2ms) NMS\n",
      " The image with the result is saved in: runs/detect/exp4/train_4124_jpg.rf.08b0afdb9ad4e9add9ffe0a9f7f7a4c4.jpg\n",
      "1 emptySpaces, Done. (39.6ms) Inference, (1.2ms) NMS\n",
      " The image with the result is saved in: runs/detect/exp4/train_4126_jpg.rf.843072ce3d9496e9ab5ece20e5d5f7cf.jpg\n",
      "1 emptySpaces, Done. (39.7ms) Inference, (1.2ms) NMS\n",
      " The image with the result is saved in: runs/detect/exp4/train_4127_jpg.rf.037702501c77ad1ffc587bd86ead8fd5.jpg\n",
      "Done. (39.8ms) Inference, (0.3ms) NMS\n",
      " The image with the result is saved in: runs/detect/exp4/train_412_jpg.rf.f5b0f69982ded6636f113d63b76aa518.jpg\n",
      "1 emptySpaces, Done. (39.5ms) Inference, (1.2ms) NMS\n",
      " The image with the result is saved in: runs/detect/exp4/train_4130_jpg.rf.b644cd309bab644bfd6a171daf01dbc0.jpg\n",
      "2 emptySpacess, Done. (39.9ms) Inference, (1.3ms) NMS\n",
      " The image with the result is saved in: runs/detect/exp4/train_4151_jpg.rf.b9781e2bf426cb7a0bf2146540a52a32.jpg\n",
      "Done. (39.7ms) Inference, (0.2ms) NMS\n",
      " The image with the result is saved in: runs/detect/exp4/train_4157_jpg.rf.5ca71f082c273a4c291267a1e440e6ab.jpg\n",
      "1 emptySpaces, Done. (34.4ms) Inference, (1.2ms) NMS\n",
      " The image with the result is saved in: runs/detect/exp4/train_4161_jpg.rf.f4545716a5057149e9b4ca8533c48135.jpg\n",
      "1 emptySpaces, Done. (39.6ms) Inference, (1.2ms) NMS\n",
      " The image with the result is saved in: runs/detect/exp4/train_4176_jpg.rf.26f43718fb99dc7c19cd4b018aed06ae.jpg\n",
      "3 emptySpacess, Done. (39.6ms) Inference, (1.2ms) NMS\n",
      " The image with the result is saved in: runs/detect/exp4/train_4202_jpg.rf.e0f06026b72de2220605acb0baff7ab1.jpg\n",
      "1 emptySpaces, Done. (40.0ms) Inference, (1.4ms) NMS\n",
      " The image with the result is saved in: runs/detect/exp4/train_4212_jpg.rf.8c2fc105ef44b4690e0f1e11bb71d4d1.jpg\n",
      "Done. (39.7ms) Inference, (0.2ms) NMS\n",
      " The image with the result is saved in: runs/detect/exp4/train_4216_jpg.rf.99003cc41049608c26e8bdcfc34cb81b.jpg\n",
      "1 emptySpaces, Done. (39.5ms) Inference, (1.5ms) NMS\n",
      " The image with the result is saved in: runs/detect/exp4/train_4223_jpg.rf.681b96f644c794900e527a2e64822a8d.jpg\n",
      "2 emptySpacess, Done. (34.4ms) Inference, (1.2ms) NMS\n",
      " The image with the result is saved in: runs/detect/exp4/train_4244_jpg.rf.14f9102ee1939f54381d50bf261ee0d8.jpg\n",
      "1 emptySpaces, Done. (39.6ms) Inference, (1.2ms) NMS\n",
      " The image with the result is saved in: runs/detect/exp4/train_4276_jpg.rf.179b906154e0570e663e507bc109eec5.jpg\n",
      "2 emptySpacess, Done. (39.7ms) Inference, (1.2ms) NMS\n",
      " The image with the result is saved in: runs/detect/exp4/train_427_jpg.rf.d72b2ab145059df193372fa7ef61bc9a.jpg\n",
      "1 emptySpaces, Done. (39.8ms) Inference, (1.2ms) NMS\n",
      " The image with the result is saved in: runs/detect/exp4/train_4287_jpg.rf.c8525e941c52a79fedd69478ac2e07aa.jpg\n",
      "Done. (39.7ms) Inference, (0.2ms) NMS\n",
      " The image with the result is saved in: runs/detect/exp4/train_4288_jpg.rf.360795355657d5c0452aed568076f0a7.jpg\n",
      "Done. (34.5ms) Inference, (0.3ms) NMS\n",
      " The image with the result is saved in: runs/detect/exp4/train_4299_jpg.rf.dce4942a59528f07449744537e0979b5.jpg\n",
      "Done. (39.5ms) Inference, (0.2ms) NMS\n",
      " The image with the result is saved in: runs/detect/exp4/train_429_jpg.rf.5b600b63053272a46017cf2412c5d084.jpg\n",
      "4 emptySpacess, Done. (39.6ms) Inference, (1.2ms) NMS\n",
      " The image with the result is saved in: runs/detect/exp4/train_4315_jpg.rf.4cc6f5683a2ec3500cec22b5782bb521.jpg\n",
      "4 emptySpacess, Done. (39.7ms) Inference, (1.3ms) NMS\n",
      " The image with the result is saved in: runs/detect/exp4/train_4338_jpg.rf.f23a1f7576ff8b6754ee24b7c2e4bc5a.jpg\n",
      "4 emptySpacess, Done. (43.8ms) Inference, (1.2ms) NMS\n",
      " The image with the result is saved in: runs/detect/exp4/train_433_jpg.rf.8a43ab81b41dff03a2c29bf17d59a808.jpg\n",
      "1 emptySpaces, Done. (44.2ms) Inference, (1.2ms) NMS\n",
      " The image with the result is saved in: runs/detect/exp4/train_4355_jpg.rf.d62eb8494ac9c19ca13601531beb1a87.jpg\n",
      "1 emptySpaces, Done. (44.1ms) Inference, (1.2ms) NMS\n",
      " The image with the result is saved in: runs/detect/exp4/train_4365_jpg.rf.168d836249e6a4867fb04520871833ca.jpg\n",
      "Done. (44.2ms) Inference, (0.2ms) NMS\n",
      " The image with the result is saved in: runs/detect/exp4/train_4381_jpg.rf.09c7e36b8aab1cd516ed8748a5735dfa.jpg\n",
      "4 emptySpacess, Done. (44.1ms) Inference, (1.2ms) NMS\n",
      " The image with the result is saved in: runs/detect/exp4/train_4389_jpg.rf.2fbf9d02b57308a4f093114f213220b2.jpg\n",
      "Done. (44.1ms) Inference, (0.2ms) NMS\n",
      " The image with the result is saved in: runs/detect/exp4/train_4406_jpg.rf.09e452bb39a33584efb8ec270c50c615.jpg\n",
      "7 emptySpacess, Done. (44.1ms) Inference, (1.2ms) NMS\n",
      " The image with the result is saved in: runs/detect/exp4/train_440_jpg.rf.a77d28f0d4878ed066f3b3e191f3d261.jpg\n",
      "Done. (40.8ms) Inference, (0.2ms) NMS\n",
      " The image with the result is saved in: runs/detect/exp4/train_4426_jpg.rf.f2d647d9d390546d4a1b326275d62fbd.jpg\n",
      "Done. (40.4ms) Inference, (0.2ms) NMS\n",
      " The image with the result is saved in: runs/detect/exp4/train_4439_jpg.rf.ac74954602c7ccfe60d1b72cd26eff93.jpg\n",
      "Done. (40.4ms) Inference, (0.2ms) NMS\n",
      " The image with the result is saved in: runs/detect/exp4/train_444_jpg.rf.411e3391df1d8ac3a8296e2ad46ddeba.jpg\n",
      "Done. (40.5ms) Inference, (0.9ms) NMS\n",
      " The image with the result is saved in: runs/detect/exp4/train_4451_jpg.rf.33ec9d535c8a3b53dd22820ca8243a34.jpg\n",
      "Done. (40.6ms) Inference, (0.3ms) NMS\n",
      " The image with the result is saved in: runs/detect/exp4/train_4461_jpg.rf.bb27d0ef128fff678b7659fc1c01ad64.jpg\n",
      "Done. (40.4ms) Inference, (0.2ms) NMS\n",
      " The image with the result is saved in: runs/detect/exp4/train_4467_jpg.rf.7f8d47b0b8c920e58e9b7bd95f406486.jpg\n",
      "11 emptySpacess, Done. (39.7ms) Inference, (1.3ms) NMS\n",
      " The image with the result is saved in: runs/detect/exp4/train_4469_jpg.rf.8aceccc880880801c9ff4b297a41fbba.jpg\n",
      "1 emptySpaces, Done. (39.9ms) Inference, (1.2ms) NMS\n",
      " The image with the result is saved in: runs/detect/exp4/train_4476_jpg.rf.d12e0a8a784152329921e559e685f6f3.jpg\n",
      "Done. (39.6ms) Inference, (0.2ms) NMS\n",
      " The image with the result is saved in: runs/detect/exp4/train_4499_jpg.rf.363b602b08211e362aa249408e9dc688.jpg\n",
      "Done. (40.0ms) Inference, (0.4ms) NMS\n",
      " The image with the result is saved in: runs/detect/exp4/train_4501_jpg.rf.484ac0e4958418dac0f53ad7b17f03da.jpg\n",
      "Done. (34.4ms) Inference, (0.2ms) NMS\n",
      " The image with the result is saved in: runs/detect/exp4/train_4522_jpg.rf.0ea795a5f98c3a3268b74b0421544da3.jpg\n",
      "3 emptySpacess, Done. (34.6ms) Inference, (1.2ms) NMS\n",
      " The image with the result is saved in: runs/detect/exp4/train_4523_jpg.rf.2ff970e027f75f4041a842cab4e9d2f8.jpg\n",
      "Done. (34.5ms) Inference, (0.3ms) NMS\n",
      " The image with the result is saved in: runs/detect/exp4/train_4534_jpg.rf.1b9b5456f9871633d7d7f9cc6f3422af.jpg\n",
      "Done. (39.5ms) Inference, (0.2ms) NMS\n",
      " The image with the result is saved in: runs/detect/exp4/train_4547_jpg.rf.19567b1df0a6235ca51f61800a0cddd6.jpg\n",
      "2 emptySpacess, Done. (39.7ms) Inference, (1.2ms) NMS\n",
      " The image with the result is saved in: runs/detect/exp4/train_4551_jpg.rf.a622ae561b2eab97516a7fb843d9ae49.jpg\n",
      "4 emptySpacess, Done. (34.4ms) Inference, (1.2ms) NMS\n",
      " The image with the result is saved in: runs/detect/exp4/train_4567_jpg.rf.b8e2541c1cfc845b8884e1b27c6b2c5f.jpg\n",
      "1 emptySpaces, Done. (40.0ms) Inference, (1.3ms) NMS\n",
      " The image with the result is saved in: runs/detect/exp4/train_4573_jpg.rf.0fc013c010e01293b2bd5197629deb84.jpg\n",
      "5 emptySpacess, Done. (39.7ms) Inference, (1.2ms) NMS\n",
      " The image with the result is saved in: runs/detect/exp4/train_4586_jpg.rf.54338a45746427a9b8fba7594419ba8d.jpg\n",
      "7 emptySpacess, Done. (39.7ms) Inference, (1.2ms) NMS\n",
      " The image with the result is saved in: runs/detect/exp4/train_45_jpg.rf.da8d7db487fa91ef7c7fd145ea3404ce.jpg\n",
      "Done. (39.7ms) Inference, (0.2ms) NMS\n",
      " The image with the result is saved in: runs/detect/exp4/train_4613_jpg.rf.cd814d8103f303d9ab240f8cbac18145.jpg\n",
      "2 emptySpacess, Done. (39.8ms) Inference, (1.2ms) NMS\n",
      " The image with the result is saved in: runs/detect/exp4/train_4659_jpg.rf.172fb56e55abb6a6d79db91960d63a24.jpg\n",
      "7 emptySpacess, Done. (34.4ms) Inference, (1.2ms) NMS\n",
      " The image with the result is saved in: runs/detect/exp4/train_4673_jpg.rf.8eb933a146767092cf26c8cd4420f84e.jpg\n",
      "2 emptySpacess, Done. (39.9ms) Inference, (1.2ms) NMS\n",
      " The image with the result is saved in: runs/detect/exp4/train_4678_jpg.rf.7ac644eee6539e13f91452765f8d4d07.jpg\n",
      "2 emptySpacess, Done. (34.5ms) Inference, (1.2ms) NMS\n",
      " The image with the result is saved in: runs/detect/exp4/train_4687_jpg.rf.9f618dc5670ebcaeca9b56d16128981c.jpg\n",
      "4 emptySpacess, Done. (39.6ms) Inference, (1.2ms) NMS\n",
      " The image with the result is saved in: runs/detect/exp4/train_4697_jpg.rf.3a442274238153caa181a4fba57ceeec.jpg\n",
      "1 emptySpaces, Done. (39.6ms) Inference, (1.2ms) NMS\n",
      " The image with the result is saved in: runs/detect/exp4/train_4705_jpg.rf.bb85c878937dd9865a988f7dfc7b98be.jpg\n",
      "2 emptySpacess, Done. (34.5ms) Inference, (1.2ms) NMS\n",
      " The image with the result is saved in: runs/detect/exp4/train_4752_jpg.rf.33ae6a78d6fed05e19fba22e453a8ec6.jpg\n",
      "2 emptySpacess, Done. (39.6ms) Inference, (1.2ms) NMS\n",
      " The image with the result is saved in: runs/detect/exp4/train_4771_jpg.rf.adcfc574ea7e1baab82b9368c2380d2f.jpg\n",
      "Done. (34.4ms) Inference, (0.2ms) NMS\n",
      " The image with the result is saved in: runs/detect/exp4/train_4777_jpg.rf.bfa343715f0fd9729f824a07a2f9f708.jpg\n",
      "3 emptySpacess, Done. (39.7ms) Inference, (1.2ms) NMS\n",
      " The image with the result is saved in: runs/detect/exp4/train_4782_jpg.rf.111b8f79dbd6c9c8203dedc930a073e3.jpg\n",
      "Done. (39.6ms) Inference, (0.2ms) NMS\n",
      " The image with the result is saved in: runs/detect/exp4/train_4789_jpg.rf.76a87980297fceb2f46e9a58ecbad7b1.jpg\n",
      "1 emptySpaces, Done. (39.6ms) Inference, (1.2ms) NMS\n",
      " The image with the result is saved in: runs/detect/exp4/train_4794_jpg.rf.4f6ab15f8646cf7740f351c7bbebe0b5.jpg\n",
      "6 emptySpacess, Done. (39.7ms) Inference, (1.8ms) NMS\n",
      " The image with the result is saved in: runs/detect/exp4/train_4798_jpg.rf.3447cec588cfd127a8e070249110b884.jpg\n",
      "Done. (39.7ms) Inference, (0.2ms) NMS\n",
      " The image with the result is saved in: runs/detect/exp4/train_4799_jpg.rf.e808b586fa7cb010349fb6085dcc902b.jpg\n",
      "1 emptySpaces, Done. (39.6ms) Inference, (1.2ms) NMS\n",
      " The image with the result is saved in: runs/detect/exp4/train_4822_jpg.rf.1e9a1691a8f1b6029ad66039e6404132.jpg\n",
      "2 emptySpacess, Done. (39.7ms) Inference, (1.2ms) NMS\n",
      " The image with the result is saved in: runs/detect/exp4/train_4829_jpg.rf.c77268bed5d5bb74f6d5f5206d0821ce.jpg\n",
      "4 emptySpacess, Done. (39.7ms) Inference, (1.2ms) NMS\n",
      " The image with the result is saved in: runs/detect/exp4/train_485_jpg.rf.07fe8c6e914aa3d021982b472fdad5cd.jpg\n",
      "2 emptySpacess, Done. (39.7ms) Inference, (1.2ms) NMS\n",
      " The image with the result is saved in: runs/detect/exp4/train_4864_jpg.rf.0904ce1c4dcf408c3a5d99cbcb0fa79f.jpg\n",
      "8 emptySpacess, Done. (47.5ms) Inference, (1.2ms) NMS\n",
      " The image with the result is saved in: runs/detect/exp4/train_4868_jpg.rf.5f2cb516a71808f5182dffb360258aba.jpg\n",
      "3 emptySpacess, Done. (34.6ms) Inference, (1.2ms) NMS\n",
      " The image with the result is saved in: runs/detect/exp4/train_4869_jpg.rf.a949433a765854d74e6941b0be025b5b.jpg\n",
      "2 emptySpacess, Done. (39.8ms) Inference, (1.2ms) NMS\n",
      " The image with the result is saved in: runs/detect/exp4/train_4870_jpg.rf.061e9c387ab1a7247c1d07e6a763438b.jpg\n",
      "Done. (34.4ms) Inference, (0.2ms) NMS\n",
      " The image with the result is saved in: runs/detect/exp4/train_4874_jpg.rf.c8e27293c049244672089111e4ecf6ba.jpg\n",
      "Done. (39.6ms) Inference, (0.3ms) NMS\n",
      " The image with the result is saved in: runs/detect/exp4/train_4880_jpg.rf.b8976bcad2c784d408ea3c2214b66c44.jpg\n",
      "Done. (39.6ms) Inference, (0.3ms) NMS\n",
      " The image with the result is saved in: runs/detect/exp4/train_4903_jpg.rf.5580e50e0b256b5c356129c03ca07ed1.jpg\n",
      "3 emptySpacess, Done. (34.5ms) Inference, (1.2ms) NMS\n",
      " The image with the result is saved in: runs/detect/exp4/train_4908_jpg.rf.0a52ab971d5b0946ed5984cf47949115.jpg\n",
      "Done. (39.8ms) Inference, (0.2ms) NMS\n",
      " The image with the result is saved in: runs/detect/exp4/train_4910_jpg.rf.3aff5e1e4c47e71154544ba57ceebc78.jpg\n",
      "1 emptySpaces, Done. (39.6ms) Inference, (1.2ms) NMS\n",
      " The image with the result is saved in: runs/detect/exp4/train_4959_jpg.rf.146bd31b9d2627fcdebd0824bc1e45e1.jpg\n",
      "6 emptySpacess, Done. (34.4ms) Inference, (1.2ms) NMS\n",
      " The image with the result is saved in: runs/detect/exp4/train_4983_jpg.rf.2aeac1a2fb95daf8a55db5bfa44d0fd1.jpg\n",
      "Done. (39.8ms) Inference, (0.3ms) NMS\n",
      " The image with the result is saved in: runs/detect/exp4/train_4992_jpg.rf.76bb217119baf8e5761044fa81713c4b.jpg\n",
      "Done. (39.6ms) Inference, (0.3ms) NMS\n",
      " The image with the result is saved in: runs/detect/exp4/train_4993_jpg.rf.692104578732205987e91210da9953de.jpg\n",
      "4 emptySpacess, Done. (39.7ms) Inference, (1.4ms) NMS\n",
      " The image with the result is saved in: runs/detect/exp4/train_4995_jpg.rf.06fffd2e1f9cb002f25d7d9ae62452b1.jpg\n",
      "4 emptySpacess, Done. (39.9ms) Inference, (1.2ms) NMS\n",
      " The image with the result is saved in: runs/detect/exp4/train_4996_jpg.rf.48fdeb8211d14c7b5c7f3be1d48d2013.jpg\n",
      "3 emptySpacess, Done. (39.6ms) Inference, (1.2ms) NMS\n",
      " The image with the result is saved in: runs/detect/exp4/train_5002_jpg.rf.d32cb1e85203c83ea77675430813d8af.jpg\n",
      "Done. (39.8ms) Inference, (0.3ms) NMS\n",
      " The image with the result is saved in: runs/detect/exp4/train_5045_jpg.rf.ddca6c92d2e4e36167815a7e4278317e.jpg\n",
      "Done. (40.0ms) Inference, (0.3ms) NMS\n",
      " The image with the result is saved in: runs/detect/exp4/train_5056_jpg.rf.f3d9cd32bf4a989d688447afaabade2e.jpg\n",
      "3 emptySpacess, Done. (39.8ms) Inference, (1.3ms) NMS\n",
      " The image with the result is saved in: runs/detect/exp4/train_5061_jpg.rf.2f1b5f4c2a605ff58f36a16e4e62dd1f.jpg\n",
      "1 emptySpaces, Done. (39.9ms) Inference, (1.3ms) NMS\n",
      " The image with the result is saved in: runs/detect/exp4/train_5064_jpg.rf.c90bf9348f8aba66d4c3816ee69f9fe7.jpg\n",
      "1 emptySpaces, Done. (39.9ms) Inference, (1.3ms) NMS\n",
      " The image with the result is saved in: runs/detect/exp4/train_5071_jpg.rf.b1abd64cb5b60aabd35b70ee51da8340.jpg\n",
      "Done. (39.9ms) Inference, (0.3ms) NMS\n",
      " The image with the result is saved in: runs/detect/exp4/train_5119_jpg.rf.aa508a451fbea768e04cb57c0cfb1b8f.jpg\n",
      "2 emptySpacess, Done. (39.9ms) Inference, (1.3ms) NMS\n",
      " The image with the result is saved in: runs/detect/exp4/train_5131_jpg.rf.ffeb4ac615b1e47e0a62d2ec2f869cc0.jpg\n",
      "Done. (39.9ms) Inference, (0.3ms) NMS\n",
      " The image with the result is saved in: runs/detect/exp4/train_5148_jpg.rf.f330ee9e084b140bb168715efbdd8e46.jpg\n",
      "2 emptySpacess, Done. (39.9ms) Inference, (1.3ms) NMS\n",
      " The image with the result is saved in: runs/detect/exp4/train_5150_jpg.rf.3a74fc245dda80f2b2cd75b44c564585.jpg\n",
      "3 emptySpacess, Done. (39.7ms) Inference, (1.3ms) NMS\n",
      " The image with the result is saved in: runs/detect/exp4/train_5183_jpg.rf.150299ecd7473306fc945c78d045a57c.jpg\n",
      "10 emptySpacess, Done. (34.6ms) Inference, (1.3ms) NMS\n",
      " The image with the result is saved in: runs/detect/exp4/train_5199_jpg.rf.7c65f6d27236189fb0560af4b8664c5a.jpg\n",
      "Done. (39.8ms) Inference, (0.3ms) NMS\n",
      " The image with the result is saved in: runs/detect/exp4/train_5212_jpg.rf.3bfd8ab17db160ea2ac77791f9d0cf0b.jpg\n",
      "Done. (40.3ms) Inference, (0.3ms) NMS\n",
      " The image with the result is saved in: runs/detect/exp4/train_5213_jpg.rf.613c9f0a1d56a15eb8f8c255c6d63abf.jpg\n",
      "Done. (39.8ms) Inference, (0.3ms) NMS\n",
      " The image with the result is saved in: runs/detect/exp4/train_5215_jpg.rf.e78f9fce42eab8516c971e91a699e9b8.jpg\n",
      "1 emptySpaces, Done. (34.7ms) Inference, (1.3ms) NMS\n",
      " The image with the result is saved in: runs/detect/exp4/train_5238_jpg.rf.65945817bdf96a0ad437ea8a1eb7cbc4.jpg\n",
      "2 emptySpacess, Done. (40.1ms) Inference, (1.5ms) NMS\n",
      " The image with the result is saved in: runs/detect/exp4/train_523_jpg.rf.c6687ed355e7d045db4d5d4e702fdef6.jpg\n",
      "Done. (40.0ms) Inference, (0.2ms) NMS\n",
      " The image with the result is saved in: runs/detect/exp4/train_5243_jpg.rf.daeef21c271caafa2499ccebaf032606.jpg\n",
      "2 emptySpacess, Done. (39.8ms) Inference, (1.4ms) NMS\n",
      " The image with the result is saved in: runs/detect/exp4/train_525_jpg.rf.b16a24dce42822638b65a9621328bb54.jpg\n",
      "1 emptySpaces, Done. (43.2ms) Inference, (2.0ms) NMS\n",
      " The image with the result is saved in: runs/detect/exp4/train_5296_jpg.rf.037d459858cc7f9fb62ca0e2343dde49.jpg\n",
      "2 emptySpacess, Done. (44.9ms) Inference, (2.4ms) NMS\n",
      " The image with the result is saved in: runs/detect/exp4/train_5299_jpg.rf.ef4b09760edc230880eb57c2fe5c4a8f.jpg\n",
      "1 emptySpaces, Done. (39.8ms) Inference, (1.2ms) NMS\n",
      " The image with the result is saved in: runs/detect/exp4/train_529_jpg.rf.861323ebd59eea9961903040373dff92.jpg\n",
      "2 emptySpacess, Done. (39.9ms) Inference, (1.3ms) NMS\n",
      " The image with the result is saved in: runs/detect/exp4/train_5301_jpg.rf.be09e99a33edefa1260542c9d1cf49a0.jpg\n",
      "3 emptySpacess, Done. (34.5ms) Inference, (1.3ms) NMS\n",
      " The image with the result is saved in: runs/detect/exp4/train_530_jpg.rf.63ebf965c9f864d29b45df0023a46260.jpg\n",
      "Done. (39.8ms) Inference, (0.3ms) NMS\n",
      " The image with the result is saved in: runs/detect/exp4/train_531_jpg.rf.54d716b6c55ac64a6c8423d6d8ad1bca.jpg\n",
      "Done. (40.0ms) Inference, (0.3ms) NMS\n",
      " The image with the result is saved in: runs/detect/exp4/train_5350_jpg.rf.c09f77732250644edf317ccfcea1c967.jpg\n",
      "2 emptySpacess, Done. (39.9ms) Inference, (1.3ms) NMS\n",
      " The image with the result is saved in: runs/detect/exp4/train_5353_jpg.rf.8bff29fa9c1d875d8483e1554bbe892e.jpg\n",
      "2 emptySpacess, Done. (39.9ms) Inference, (1.3ms) NMS\n",
      " The image with the result is saved in: runs/detect/exp4/train_5358_jpg.rf.203a1c604f9244ee9cb449d7b816c989.jpg\n",
      "1 emptySpaces, Done. (39.9ms) Inference, (1.2ms) NMS\n",
      " The image with the result is saved in: runs/detect/exp4/train_5360_jpg.rf.8b14563f6aa2675a39f233d9f25e890a.jpg\n",
      "3 emptySpacess, Done. (39.8ms) Inference, (1.3ms) NMS\n",
      " The image with the result is saved in: runs/detect/exp4/train_5377_jpg.rf.3035be07780e46265eada899056011ee.jpg\n",
      "3 emptySpacess, Done. (39.9ms) Inference, (9.6ms) NMS\n",
      " The image with the result is saved in: runs/detect/exp4/train_5409_jpg.rf.45650c6a795755301936615a1f4c6145.jpg\n",
      "1 emptySpaces, Done. (34.6ms) Inference, (5.7ms) NMS\n",
      " The image with the result is saved in: runs/detect/exp4/train_541_jpg.rf.d1e26a60b001973e49dc8e68dfb03156.jpg\n",
      "1 emptySpaces, Done. (39.8ms) Inference, (6.3ms) NMS\n",
      " The image with the result is saved in: runs/detect/exp4/train_5443_jpg.rf.773eef1aedc7cf26a5d504c4ca7f38a6.jpg\n",
      "1 emptySpaces, Done. (39.8ms) Inference, (1.7ms) NMS\n",
      " The image with the result is saved in: runs/detect/exp4/train_5449_jpg.rf.a9b4b8f3c73a4c082b6d7abff7a7ebec.jpg\n",
      "Done. (39.9ms) Inference, (0.3ms) NMS\n",
      " The image with the result is saved in: runs/detect/exp4/train_5463_jpg.rf.d4b5d2eea11d6140a72ea846bd6cf610.jpg\n",
      "4 emptySpacess, Done. (39.9ms) Inference, (1.7ms) NMS\n",
      " The image with the result is saved in: runs/detect/exp4/train_5476_jpg.rf.5b8f8ce82f3fe1dbbe0f53b8b8a6b23f.jpg\n",
      "Done. (39.6ms) Inference, (0.3ms) NMS\n",
      " The image with the result is saved in: runs/detect/exp4/train_5483_jpg.rf.4cb8d7d3a776a33c59ff393a01ae862f.jpg\n",
      "Done. (39.9ms) Inference, (0.3ms) NMS\n",
      " The image with the result is saved in: runs/detect/exp4/train_5485_jpg.rf.7563ff92ff996e9104641e8f63298e01.jpg\n",
      "4 emptySpacess, Done. (39.6ms) Inference, (1.6ms) NMS\n",
      " The image with the result is saved in: runs/detect/exp4/train_5493_jpg.rf.dbb4964050004c184ef522b3b114932a.jpg\n",
      "2 emptySpacess, Done. (39.7ms) Inference, (1.7ms) NMS\n",
      " The image with the result is saved in: runs/detect/exp4/train_5502_jpg.rf.1778d83c3faf42f3de64ab53ddd410aa.jpg\n",
      "2 emptySpacess, Done. (40.2ms) Inference, (1.8ms) NMS\n",
      " The image with the result is saved in: runs/detect/exp4/train_5512_jpg.rf.a41ebc19dac0b2ce0b929b7c79c81a20.jpg\n",
      "2 emptySpacess, Done. (39.8ms) Inference, (1.6ms) NMS\n",
      " The image with the result is saved in: runs/detect/exp4/train_5561_jpg.rf.7bebbbe24c0a805d80772f8cf583b2ba.jpg\n",
      "9 emptySpacess, Done. (39.7ms) Inference, (1.6ms) NMS\n",
      " The image with the result is saved in: runs/detect/exp4/train_5565_jpg.rf.b376ce9beef79c700ec322f9f7fc1676.jpg\n",
      "1 emptySpaces, Done. (39.8ms) Inference, (1.6ms) NMS\n",
      " The image with the result is saved in: runs/detect/exp4/train_5584_jpg.rf.cb044d8ce7ee6f3e4a13962829d8c036.jpg\n",
      "1 emptySpaces, Done. (39.7ms) Inference, (1.7ms) NMS\n",
      " The image with the result is saved in: runs/detect/exp4/train_559_jpg.rf.d9d7086a2654b812057f0e0249095f7b.jpg\n",
      "1 emptySpaces, Done. (34.5ms) Inference, (1.7ms) NMS\n",
      " The image with the result is saved in: runs/detect/exp4/train_5618_jpg.rf.9e97133b04fe98b0a2322c57682729e5.jpg\n",
      "2 emptySpacess, Done. (34.9ms) Inference, (3.0ms) NMS\n",
      " The image with the result is saved in: runs/detect/exp4/train_5643_jpg.rf.a1f7b5cd71f4de9bec6496cff526a0a1.jpg\n",
      "2 emptySpacess, Done. (40.1ms) Inference, (1.8ms) NMS\n",
      " The image with the result is saved in: runs/detect/exp4/train_5649_jpg.rf.c85dabe194c9b7a1fdb45af0a2288b47.jpg\n",
      "1 emptySpaces, Done. (39.7ms) Inference, (1.6ms) NMS\n",
      " The image with the result is saved in: runs/detect/exp4/train_5668_jpg.rf.35f5225af015dedd8a80a8f26aeee543.jpg\n",
      "2 emptySpacess, Done. (39.8ms) Inference, (1.7ms) NMS\n",
      " The image with the result is saved in: runs/detect/exp4/train_5685_jpg.rf.32c26d3859882ff8b59c1b931a0c3a50.jpg\n",
      "Done. (39.8ms) Inference, (0.3ms) NMS\n",
      " The image with the result is saved in: runs/detect/exp4/train_5687_jpg.rf.7e1f45d286246ec7cf73f44b53be14e3.jpg\n",
      "1 emptySpaces, Done. (39.7ms) Inference, (1.6ms) NMS\n",
      " The image with the result is saved in: runs/detect/exp4/train_5692_jpg.rf.d6a15b9b622d54740044bde2d2ba54c1.jpg\n",
      "Done. (43.3ms) Inference, (0.4ms) NMS\n",
      " The image with the result is saved in: runs/detect/exp4/train_5708_jpg.rf.28d588b771455fa4b6ba1cc372923a5d.jpg\n",
      "1 emptySpaces, Done. (39.7ms) Inference, (2.3ms) NMS\n",
      " The image with the result is saved in: runs/detect/exp4/train_570_jpg.rf.e9f8a46d2b8750f8ae2c56f4bf0c8bf5.jpg\n",
      "2 emptySpacess, Done. (39.7ms) Inference, (1.6ms) NMS\n",
      " The image with the result is saved in: runs/detect/exp4/train_5713_jpg.rf.4b0705f7c10846c58cc8d9c2eccbc3d5.jpg\n",
      "Done. (39.8ms) Inference, (0.3ms) NMS\n",
      " The image with the result is saved in: runs/detect/exp4/train_5721_jpg.rf.75d958f4fd76a23e0a4fd3a10ca29038.jpg\n",
      "Done. (34.5ms) Inference, (0.3ms) NMS\n",
      " The image with the result is saved in: runs/detect/exp4/train_5727_jpg.rf.f93077b068f26a62904912132b3255d9.jpg\n",
      "4 emptySpacess, Done. (34.7ms) Inference, (1.6ms) NMS\n",
      " The image with the result is saved in: runs/detect/exp4/train_5746_jpg.rf.347197b67f01b81b4eaecf45f293d295.jpg\n",
      "Done. (39.7ms) Inference, (0.3ms) NMS\n",
      " The image with the result is saved in: runs/detect/exp4/train_5762_jpg.rf.32a71f652be5c7e6a3b15d417c5136ab.jpg\n",
      "2 emptySpacess, Done. (34.5ms) Inference, (1.6ms) NMS\n",
      " The image with the result is saved in: runs/detect/exp4/train_5778_jpg.rf.bd3ee6b0c0600ba3807299cecd3611ab.jpg\n",
      "1 emptySpaces, Done. (39.7ms) Inference, (1.6ms) NMS\n",
      " The image with the result is saved in: runs/detect/exp4/train_5788_jpg.rf.5e96de68f7a7fbfe9ca1e24c1d2f512b.jpg\n",
      "2 emptySpacess, Done. (44.7ms) Inference, (2.8ms) NMS\n",
      " The image with the result is saved in: runs/detect/exp4/train_5796_jpg.rf.134f27f1034be60ba21f410df2e2145b.jpg\n",
      "1 emptySpaces, Done. (40.9ms) Inference, (14.5ms) NMS\n",
      " The image with the result is saved in: runs/detect/exp4/train_579_jpg.rf.91127543ba80d43dc2448dfa1ac3ead8.jpg\n",
      "1 emptySpaces, Done. (44.7ms) Inference, (4.5ms) NMS\n",
      " The image with the result is saved in: runs/detect/exp4/train_5804_jpg.rf.2f61a7aa41072771d5a20ddbe2f3a46c.jpg\n",
      "Done. (39.6ms) Inference, (1.5ms) NMS\n",
      " The image with the result is saved in: runs/detect/exp4/train_5815_jpg.rf.93fcae5d88bba09abd27e94727b1e5ce.jpg\n",
      "Done. (39.9ms) Inference, (0.3ms) NMS\n",
      " The image with the result is saved in: runs/detect/exp4/train_5840_jpg.rf.5bbab9473e2a007948e9c689ef30dd01.jpg\n",
      "Done. (39.8ms) Inference, (0.3ms) NMS\n",
      " The image with the result is saved in: runs/detect/exp4/train_5842_jpg.rf.5bb7312929e6bb6767498144c31efc39.jpg\n",
      "Done. (39.7ms) Inference, (0.3ms) NMS\n",
      " The image with the result is saved in: runs/detect/exp4/train_5848_jpg.rf.818edb9c6b74867409ac1445e56856e5.jpg\n",
      "Done. (39.6ms) Inference, (0.3ms) NMS\n",
      " The image with the result is saved in: runs/detect/exp4/train_5854_jpg.rf.c25bab1eda1d71b2d33f12402b9f29c9.jpg\n",
      "1 emptySpaces, Done. (39.6ms) Inference, (1.9ms) NMS\n",
      " The image with the result is saved in: runs/detect/exp4/train_5878_jpg.rf.9b7291c31280c1996485adc61254a8ae.jpg\n",
      "2 emptySpacess, Done. (39.7ms) Inference, (1.6ms) NMS\n",
      " The image with the result is saved in: runs/detect/exp4/train_5926_jpg.rf.951cfed9932cdcf6a2472531905869ce.jpg\n",
      "3 emptySpacess, Done. (34.5ms) Inference, (1.6ms) NMS\n",
      " The image with the result is saved in: runs/detect/exp4/train_5931_jpg.rf.aa1b912f41f2d902fe41186a6c4e8cb9.jpg\n",
      "Done. (39.4ms) Inference, (0.3ms) NMS\n",
      " The image with the result is saved in: runs/detect/exp4/train_5943_jpg.rf.1d49a7d258e7de72e4e58beae240a4f5.jpg\n",
      "Done. (39.9ms) Inference, (0.3ms) NMS\n",
      " The image with the result is saved in: runs/detect/exp4/train_5944_jpg.rf.615e67fd01c52477b37cd77b89180181.jpg\n",
      "6 emptySpacess, Done. (45.5ms) Inference, (1.6ms) NMS\n",
      " The image with the result is saved in: runs/detect/exp4/train_5985_jpg.rf.d6850718c09c71e46c67a07a6b6d8f94.jpg\n",
      "2 emptySpacess, Done. (39.3ms) Inference, (1.6ms) NMS\n",
      " The image with the result is saved in: runs/detect/exp4/train_5997_jpg.rf.e51336f36109dcd55e224357ee48b473.jpg\n",
      "10 emptySpacess, Done. (41.7ms) Inference, (1.8ms) NMS\n",
      " The image with the result is saved in: runs/detect/exp4/train_6002_jpg.rf.67684392d6734662a213a77b1dc2bdc9.jpg\n",
      "2 emptySpacess, Done. (40.9ms) Inference, (1.6ms) NMS\n",
      " The image with the result is saved in: runs/detect/exp4/train_6007_jpg.rf.27a008adb1d3b67b5bc1bcdda80013a3.jpg\n",
      "Done. (34.5ms) Inference, (0.3ms) NMS\n",
      " The image with the result is saved in: runs/detect/exp4/train_6015_jpg.rf.63862bb5d149389e0585a311df17480b.jpg\n",
      "4 emptySpacess, Done. (39.5ms) Inference, (1.6ms) NMS\n",
      " The image with the result is saved in: runs/detect/exp4/train_6016_jpg.rf.380a1754e668bfcbdfbcfa340800e8db.jpg\n",
      "Done. (39.7ms) Inference, (0.3ms) NMS\n",
      " The image with the result is saved in: runs/detect/exp4/train_6018_jpg.rf.4919c0ccce3ba2e93f4e136a2dabbd70.jpg\n",
      "4 emptySpacess, Done. (39.7ms) Inference, (1.6ms) NMS\n",
      " The image with the result is saved in: runs/detect/exp4/train_6030_jpg.rf.5162f1545436940d156c7db69bdd6c92.jpg\n",
      "1 emptySpaces, Done. (34.5ms) Inference, (1.5ms) NMS\n",
      " The image with the result is saved in: runs/detect/exp4/train_6031_jpg.rf.5f406ffaaa0255cf1bc7d1da1ed6e07f.jpg\n",
      "3 emptySpacess, Done. (34.6ms) Inference, (1.6ms) NMS\n",
      " The image with the result is saved in: runs/detect/exp4/train_6034_jpg.rf.0b904d5d3f1ae6b315eb48cb4d3b5c78.jpg\n",
      "Done. (34.7ms) Inference, (0.3ms) NMS\n",
      " The image with the result is saved in: runs/detect/exp4/train_6054_jpg.rf.37a0b8bcd8cfc0228603490587315d80.jpg\n",
      "6 emptySpacess, Done. (39.7ms) Inference, (1.6ms) NMS\n",
      " The image with the result is saved in: runs/detect/exp4/train_6060_jpg.rf.0832f19ebd5355125ad071f3a61b600f.jpg\n",
      "Done. (39.8ms) Inference, (0.3ms) NMS\n",
      " The image with the result is saved in: runs/detect/exp4/train_607_jpg.rf.56c41230dcc9c1b43643ef923b8c9a3f.jpg\n",
      "1 emptySpaces, Done. (39.7ms) Inference, (1.6ms) NMS\n",
      " The image with the result is saved in: runs/detect/exp4/train_6110_jpg.rf.24a17a0f318cabf628c01611646b1bf9.jpg\n",
      "1 emptySpaces, Done. (39.6ms) Inference, (1.6ms) NMS\n",
      " The image with the result is saved in: runs/detect/exp4/train_611_jpg.rf.97e25b292f36f43950cc714d5ec22aba.jpg\n",
      "1 emptySpaces, Done. (39.9ms) Inference, (2.1ms) NMS\n",
      " The image with the result is saved in: runs/detect/exp4/train_6133_jpg.rf.d18c9dbb2b9c22298f3d359dc5d45a10.jpg\n",
      "Done. (40.0ms) Inference, (0.3ms) NMS\n",
      " The image with the result is saved in: runs/detect/exp4/train_6134_jpg.rf.6f08dc239ccd4d866e00c1cf8154512a.jpg\n",
      "Done. (34.5ms) Inference, (0.3ms) NMS\n",
      " The image with the result is saved in: runs/detect/exp4/train_6136_jpg.rf.979ef9aa781b311341c915ff5dd722a9.jpg\n",
      "4 emptySpacess, Done. (34.6ms) Inference, (1.7ms) NMS\n",
      " The image with the result is saved in: runs/detect/exp4/train_615_jpg.rf.347e2ea632954447abf344c293833114.jpg\n",
      "1 emptySpaces, Done. (40.2ms) Inference, (1.7ms) NMS\n",
      " The image with the result is saved in: runs/detect/exp4/train_6166_jpg.rf.0e779ab2598db25ba8c257f6fafdee28.jpg\n",
      "2 emptySpacess, Done. (39.9ms) Inference, (1.7ms) NMS\n",
      " The image with the result is saved in: runs/detect/exp4/train_6179_jpg.rf.3c6315393c9383c19e52e5780e5547e2.jpg\n",
      "3 emptySpacess, Done. (39.9ms) Inference, (1.7ms) NMS\n",
      " The image with the result is saved in: runs/detect/exp4/train_6186_jpg.rf.b04ea310a871cf3a9aafd428778e8d91.jpg\n",
      "Done. (34.4ms) Inference, (0.3ms) NMS\n",
      " The image with the result is saved in: runs/detect/exp4/train_6197_jpg.rf.0dfd2cc9c65ef0c368ffd3cc94ebf5f4.jpg\n",
      "Done. (40.1ms) Inference, (0.5ms) NMS\n",
      " The image with the result is saved in: runs/detect/exp4/train_6210_jpg.rf.51a16c0c934d819c29935c1dae7209f4.jpg\n",
      "1 emptySpaces, Done. (39.7ms) Inference, (1.6ms) NMS\n",
      " The image with the result is saved in: runs/detect/exp4/train_6214_jpg.rf.27ad54d93499c1fb779d5506f9709ea8.jpg\n",
      "Done. (39.8ms) Inference, (0.3ms) NMS\n",
      " The image with the result is saved in: runs/detect/exp4/train_6251_jpg.rf.80cc90e68c56d2a0469dcd977b6d7ba8.jpg\n",
      "3 emptySpacess, Done. (39.8ms) Inference, (1.6ms) NMS\n",
      " The image with the result is saved in: runs/detect/exp4/train_6261_jpg.rf.170a98432d69927444fee91b3abac029.jpg\n",
      "6 emptySpacess, Done. (39.7ms) Inference, (1.6ms) NMS\n",
      " The image with the result is saved in: runs/detect/exp4/train_6269_jpg.rf.a503a1166a1f2d5f9c69c5a32fe3cb1c.jpg\n",
      "1 emptySpaces, Done. (39.8ms) Inference, (1.6ms) NMS\n",
      " The image with the result is saved in: runs/detect/exp4/train_6296_jpg.rf.d7bbfe1185aa3dbcb84effea8d26d0c0.jpg\n",
      "1 emptySpaces, Done. (34.5ms) Inference, (1.6ms) NMS\n",
      " The image with the result is saved in: runs/detect/exp4/train_6301_jpg.rf.6926efa963726dd9ee426e8d56273338.jpg\n",
      "1 emptySpaces, Done. (39.6ms) Inference, (1.5ms) NMS\n",
      " The image with the result is saved in: runs/detect/exp4/train_6329_jpg.rf.d175f290674a858447886f5d3ffc0dc4.jpg\n",
      "6 emptySpacess, Done. (39.7ms) Inference, (1.6ms) NMS\n",
      " The image with the result is saved in: runs/detect/exp4/train_6343_jpg.rf.4270106ddc9050a1de4428d0fa31e187.jpg\n",
      "6 emptySpacess, Done. (39.7ms) Inference, (1.6ms) NMS\n",
      " The image with the result is saved in: runs/detect/exp4/train_6375_jpg.rf.8cedb0b5620f1f11e7f04aaabcaa833a.jpg\n",
      "1 emptySpaces, Done. (39.7ms) Inference, (1.6ms) NMS\n",
      " The image with the result is saved in: runs/detect/exp4/train_6404_jpg.rf.be44f0ece70ca7992f0e0bd8cbae205b.jpg\n",
      "2 emptySpacess, Done. (34.5ms) Inference, (1.6ms) NMS\n",
      " The image with the result is saved in: runs/detect/exp4/train_6405_jpg.rf.a99e1c6ae9d5b8d8be1b5eba26335b53.jpg\n",
      "Done. (39.6ms) Inference, (0.3ms) NMS\n",
      " The image with the result is saved in: runs/detect/exp4/train_6413_jpg.rf.678a8149a94e626e6ab53f195452531d.jpg\n",
      "Done. (39.8ms) Inference, (0.3ms) NMS\n",
      " The image with the result is saved in: runs/detect/exp4/train_6421_jpg.rf.837df9b3aecb195184b9b1a23211046f.jpg\n",
      "3 emptySpacess, Done. (34.5ms) Inference, (1.6ms) NMS\n",
      " The image with the result is saved in: runs/detect/exp4/train_6422_jpg.rf.d3d3c8cb9c5462b26ee03a54d9c05eec.jpg\n",
      "4 emptySpacess, Done. (39.6ms) Inference, (1.6ms) NMS\n",
      " The image with the result is saved in: runs/detect/exp4/train_6430_jpg.rf.599e97f5f3152c5a6970f68984b7e136.jpg\n",
      "Done. (39.7ms) Inference, (0.3ms) NMS\n",
      " The image with the result is saved in: runs/detect/exp4/train_6451_jpg.rf.ade8ab60f9c3decc8484d8199978bf44.jpg\n",
      "5 emptySpacess, Done. (39.7ms) Inference, (1.6ms) NMS\n",
      " The image with the result is saved in: runs/detect/exp4/train_6456_jpg.rf.8f5882445b913652198e7fe778b76915.jpg\n",
      "1 emptySpaces, Done. (39.7ms) Inference, (1.6ms) NMS\n",
      " The image with the result is saved in: runs/detect/exp4/train_6457_jpg.rf.fc8d685cbfde74d9616ded292a5ff856.jpg\n",
      "Done. (39.8ms) Inference, (0.3ms) NMS\n",
      " The image with the result is saved in: runs/detect/exp4/train_6464_jpg.rf.51b579a915664f69217159ab5c58c97a.jpg\n",
      "2 emptySpacess, Done. (39.8ms) Inference, (1.6ms) NMS\n",
      " The image with the result is saved in: runs/detect/exp4/train_6465_jpg.rf.8ec0dadc8efcc151369afb5316472545.jpg\n",
      "6 emptySpacess, Done. (40.0ms) Inference, (1.6ms) NMS\n",
      " The image with the result is saved in: runs/detect/exp4/train_6471_jpg.rf.f17df9364194d5a51a750a503a1c7a98.jpg\n",
      "4 emptySpacess, Done. (34.5ms) Inference, (1.6ms) NMS\n",
      " The image with the result is saved in: runs/detect/exp4/train_6473_jpg.rf.3b9d57b3b1b996a2c15b24928418c307.jpg\n",
      "Done. (39.7ms) Inference, (0.3ms) NMS\n",
      " The image with the result is saved in: runs/detect/exp4/train_647_jpg.rf.47bea93ce0ad307d3339fa379aa8609b.jpg\n",
      "1 emptySpaces, Done. (39.7ms) Inference, (1.6ms) NMS\n",
      " The image with the result is saved in: runs/detect/exp4/train_6501_jpg.rf.b5a492cce2ebcb00928a5096882d9633.jpg\n",
      "2 emptySpacess, Done. (39.7ms) Inference, (1.6ms) NMS\n",
      " The image with the result is saved in: runs/detect/exp4/train_6506_jpg.rf.55a251a859b2291298bcc14709124f9e.jpg\n",
      "2 emptySpacess, Done. (34.5ms) Inference, (1.6ms) NMS\n",
      " The image with the result is saved in: runs/detect/exp4/train_6516_jpg.rf.be402e8a369650b1861640d387a86ced.jpg\n",
      "4 emptySpacess, Done. (39.7ms) Inference, (1.6ms) NMS\n",
      " The image with the result is saved in: runs/detect/exp4/train_6534_jpg.rf.7c9d3e4f5464be3991711941464c95ae.jpg\n",
      "1 emptySpaces, Done. (39.8ms) Inference, (1.7ms) NMS\n",
      " The image with the result is saved in: runs/detect/exp4/train_6547_jpg.rf.85ca8c2d326ff90e0b8730aafaa3e6fe.jpg\n",
      "Done. (39.6ms) Inference, (0.3ms) NMS\n",
      " The image with the result is saved in: runs/detect/exp4/train_6549_jpg.rf.37d1fbceaf9a77d282ddad18a3723ca6.jpg\n",
      "5 emptySpacess, Done. (39.9ms) Inference, (1.6ms) NMS\n",
      " The image with the result is saved in: runs/detect/exp4/train_654_jpg.rf.e5f6dc4784912797014eddb84d094ebe.jpg\n",
      "6 emptySpacess, Done. (47.5ms) Inference, (1.6ms) NMS\n",
      " The image with the result is saved in: runs/detect/exp4/train_6550_jpg.rf.14a211069ce717da0f2169d244188049.jpg\n",
      "3 emptySpacess, Done. (40.0ms) Inference, (1.6ms) NMS\n",
      " The image with the result is saved in: runs/detect/exp4/train_6551_jpg.rf.a03ea7055ef8aee62ca68b98a72646a1.jpg\n",
      "2 emptySpacess, Done. (40.0ms) Inference, (1.6ms) NMS\n",
      " The image with the result is saved in: runs/detect/exp4/train_6552_jpg.rf.52cd738e9e98d53d8064ee28c28596cd.jpg\n",
      "1 emptySpaces, Done. (39.5ms) Inference, (1.6ms) NMS\n",
      " The image with the result is saved in: runs/detect/exp4/train_6572_jpg.rf.b05373a69719c0151847e391046b390b.jpg\n",
      "2 emptySpacess, Done. (34.4ms) Inference, (1.6ms) NMS\n",
      " The image with the result is saved in: runs/detect/exp4/train_6579_jpg.rf.19afd794d8baded0ee27ed120a943803.jpg\n",
      "Done. (39.6ms) Inference, (0.3ms) NMS\n",
      " The image with the result is saved in: runs/detect/exp4/train_6580_jpg.rf.fedd169af65b5f3eaa56cbd916c6c580.jpg\n",
      "2 emptySpacess, Done. (40.3ms) Inference, (1.6ms) NMS\n",
      " The image with the result is saved in: runs/detect/exp4/train_65_jpg.rf.19ca4adc6d70779177a43816c90ba4ff.jpg\n",
      "Done. (39.8ms) Inference, (0.3ms) NMS\n",
      " The image with the result is saved in: runs/detect/exp4/train_6671_jpg.rf.828d0b884fc6d1ccf4dc4f59aafdb51f.jpg\n",
      "1 emptySpaces, Done. (39.6ms) Inference, (1.6ms) NMS\n",
      " The image with the result is saved in: runs/detect/exp4/train_6675_jpg.rf.a3dcdfe928b55dae72661c85ad563fde.jpg\n",
      "2 emptySpacess, Done. (34.4ms) Inference, (1.6ms) NMS\n",
      " The image with the result is saved in: runs/detect/exp4/train_6678_jpg.rf.ab3bd1425332f10f609ab3b524793ab7.jpg\n",
      "4 emptySpacess, Done. (39.8ms) Inference, (1.8ms) NMS\n",
      " The image with the result is saved in: runs/detect/exp4/train_6679_jpg.rf.63af844e0450362f23bcf3d9a72a215e.jpg\n",
      "2 emptySpacess, Done. (34.6ms) Inference, (1.5ms) NMS\n",
      " The image with the result is saved in: runs/detect/exp4/train_6682_jpg.rf.6bad4f1ccc1c1272de114f4bb0354678.jpg\n",
      "Done. (39.9ms) Inference, (0.3ms) NMS\n",
      " The image with the result is saved in: runs/detect/exp4/train_6689_jpg.rf.2c08bd383e4f369b22c8f3773bea2f13.jpg\n",
      "6 emptySpacess, Done. (39.6ms) Inference, (1.6ms) NMS\n",
      " The image with the result is saved in: runs/detect/exp4/train_6706_jpg.rf.d55af7368eea212e307704efbc78deaa.jpg\n",
      "5 emptySpacess, Done. (34.4ms) Inference, (1.6ms) NMS\n",
      " The image with the result is saved in: runs/detect/exp4/train_6715_jpg.rf.0d3170ca09d183ffe6c5a198065434e2.jpg\n",
      "1 emptySpaces, Done. (39.6ms) Inference, (1.6ms) NMS\n",
      " The image with the result is saved in: runs/detect/exp4/train_6726_jpg.rf.c26da4f1752ec488a8bd85b5d73bee06.jpg\n",
      "Done. (39.8ms) Inference, (0.3ms) NMS\n",
      " The image with the result is saved in: runs/detect/exp4/train_6728_jpg.rf.86d7cf3d9b00ef0f896abe5ef0f90700.jpg\n",
      "2 emptySpacess, Done. (39.8ms) Inference, (1.6ms) NMS\n",
      " The image with the result is saved in: runs/detect/exp4/train_672_jpg.rf.af379f223a5aa3e67aa2783d47c40314.jpg\n",
      "Done. (39.8ms) Inference, (0.3ms) NMS\n",
      " The image with the result is saved in: runs/detect/exp4/train_6733_jpg.rf.662e19fc16755e4386eda68f6c7268d3.jpg\n",
      "2 emptySpacess, Done. (39.8ms) Inference, (1.6ms) NMS\n",
      " The image with the result is saved in: runs/detect/exp4/train_6741_jpg.rf.5b102e416c87565e11a54f2da0aadd2c.jpg\n",
      "4 emptySpacess, Done. (39.8ms) Inference, (1.6ms) NMS\n",
      " The image with the result is saved in: runs/detect/exp4/train_6745_jpg.rf.d782d84486b7942757a9650e7bf6a8dc.jpg\n",
      "Done. (34.4ms) Inference, (0.3ms) NMS\n",
      " The image with the result is saved in: runs/detect/exp4/train_6749_jpg.rf.2ac110a1415cff2935a3f69c0deb3b01.jpg\n",
      "1 emptySpaces, Done. (39.6ms) Inference, (1.6ms) NMS\n",
      " The image with the result is saved in: runs/detect/exp4/train_6754_jpg.rf.47776236a03ef6fbf6a1a07116b36a40.jpg\n",
      "4 emptySpacess, Done. (39.7ms) Inference, (1.6ms) NMS\n",
      " The image with the result is saved in: runs/detect/exp4/train_6757_jpg.rf.a23648a0cae94b273386ad111a117c6e.jpg\n",
      "4 emptySpacess, Done. (39.7ms) Inference, (1.6ms) NMS\n",
      " The image with the result is saved in: runs/detect/exp4/train_6766_jpg.rf.e2a9f55867029446cb22f88f5ce89bf8.jpg\n",
      "3 emptySpacess, Done. (40.0ms) Inference, (1.6ms) NMS\n",
      " The image with the result is saved in: runs/detect/exp4/train_676_jpg.rf.538a4efb5869bf6c3143fb01e323c4cb.jpg\n",
      "Done. (39.6ms) Inference, (0.3ms) NMS\n",
      " The image with the result is saved in: runs/detect/exp4/train_677_jpg.rf.e4454bb60de0d101a05c101fcb6308d1.jpg\n",
      "1 emptySpaces, Done. (40.0ms) Inference, (1.6ms) NMS\n",
      " The image with the result is saved in: runs/detect/exp4/train_67_jpg.rf.d7dc2a6df76def3cdee0c75f0ae68fb8.jpg\n",
      "1 emptySpaces, Done. (34.4ms) Inference, (1.6ms) NMS\n",
      " The image with the result is saved in: runs/detect/exp4/train_6809_jpg.rf.d0c52e72ceb2e7b7fd391277e90cce95.jpg\n",
      "6 emptySpacess, Done. (34.7ms) Inference, (1.6ms) NMS\n",
      " The image with the result is saved in: runs/detect/exp4/train_6817_jpg.rf.937f1a97bdf02b9c227d53df8f805e86.jpg\n",
      "1 emptySpaces, Done. (39.6ms) Inference, (1.6ms) NMS\n",
      " The image with the result is saved in: runs/detect/exp4/train_6820_jpg.rf.eba1986d206d82a2b488b078eb6feea0.jpg\n",
      "6 emptySpacess, Done. (39.8ms) Inference, (1.6ms) NMS\n",
      " The image with the result is saved in: runs/detect/exp4/train_6825_jpg.rf.844bf7ad0f693f23c5d8843779011ce3.jpg\n",
      "Done. (39.7ms) Inference, (0.3ms) NMS\n",
      " The image with the result is saved in: runs/detect/exp4/train_6842_jpg.rf.bbd10e4e0989de56936d18096fad13c9.jpg\n",
      "3 emptySpacess, Done. (39.9ms) Inference, (2.0ms) NMS\n",
      " The image with the result is saved in: runs/detect/exp4/train_6846_jpg.rf.fc47f04966fbed8f8ee4b9bdb08b370d.jpg\n",
      "Done. (39.7ms) Inference, (0.3ms) NMS\n",
      " The image with the result is saved in: runs/detect/exp4/train_6866_jpg.rf.5cfea2c318d877269c50f96b57dff68a.jpg\n",
      "2 emptySpacess, Done. (34.5ms) Inference, (1.6ms) NMS\n",
      " The image with the result is saved in: runs/detect/exp4/train_6869_jpg.rf.d5b7f778e9a8c835f30b557dc281b7ac.jpg\n",
      "1 emptySpaces, Done. (39.6ms) Inference, (1.6ms) NMS\n",
      " The image with the result is saved in: runs/detect/exp4/train_690_jpg.rf.a5bfe395e7d1b15dc1d1aabf3a0beacc.jpg\n",
      "Done. (39.7ms) Inference, (0.3ms) NMS\n",
      " The image with the result is saved in: runs/detect/exp4/train_6921_jpg.rf.273c531a418e84e525993e26c20e2e47.jpg\n",
      "3 emptySpacess, Done. (39.7ms) Inference, (1.6ms) NMS\n",
      " The image with the result is saved in: runs/detect/exp4/train_6936_jpg.rf.613b3c0cd992b869cc8a93eda2237caa.jpg\n",
      "4 emptySpacess, Done. (34.5ms) Inference, (1.6ms) NMS\n",
      " The image with the result is saved in: runs/detect/exp4/train_6984_jpg.rf.5be26a4b36ac140b44412f179d16b310.jpg\n",
      "13 emptySpacess, Done. (39.6ms) Inference, (1.6ms) NMS\n",
      " The image with the result is saved in: runs/detect/exp4/train_698_jpg.rf.1620c7e6c435036373495dbff0f4b96a.jpg\n",
      "Done. (39.8ms) Inference, (0.3ms) NMS\n",
      " The image with the result is saved in: runs/detect/exp4/train_6999_jpg.rf.2814732c05796566c27b871a7513375a.jpg\n",
      "2 emptySpacess, Done. (34.5ms) Inference, (1.7ms) NMS\n",
      " The image with the result is saved in: runs/detect/exp4/train_7018_jpg.rf.2099df0b153c7884ea8ed36008a178cb.jpg\n",
      "2 emptySpacess, Done. (39.7ms) Inference, (1.6ms) NMS\n",
      " The image with the result is saved in: runs/detect/exp4/train_7031_jpg.rf.96c8988c685cb027c11a3fbef94b690a.jpg\n",
      "1 emptySpaces, Done. (39.7ms) Inference, (1.6ms) NMS\n",
      " The image with the result is saved in: runs/detect/exp4/train_7075_jpg.rf.e679ce3a632ef8f541a0592bd22a983b.jpg\n",
      "2 emptySpacess, Done. (39.9ms) Inference, (1.8ms) NMS\n",
      " The image with the result is saved in: runs/detect/exp4/train_7083_jpg.rf.2f30f065679ed730fb7e510f614a2935.jpg\n",
      "7 emptySpacess, Done. (39.7ms) Inference, (1.6ms) NMS\n",
      " The image with the result is saved in: runs/detect/exp4/train_7135_jpg.rf.51894e875ce9ba1833a731c4d2473926.jpg\n",
      "2 emptySpacess, Done. (34.5ms) Inference, (1.6ms) NMS\n",
      " The image with the result is saved in: runs/detect/exp4/train_7139_jpg.rf.9cd44b741b7f19d2044a5eef341329a3.jpg\n",
      "Done. (39.6ms) Inference, (0.3ms) NMS\n",
      " The image with the result is saved in: runs/detect/exp4/train_7149_jpg.rf.0868051f35da490236b881223c49e97e.jpg\n",
      "4 emptySpacess, Done. (39.9ms) Inference, (1.6ms) NMS\n",
      " The image with the result is saved in: runs/detect/exp4/train_7167_jpg.rf.065d133b6616d661889e17d298520cc7.jpg\n",
      "3 emptySpacess, Done. (39.7ms) Inference, (1.6ms) NMS\n",
      " The image with the result is saved in: runs/detect/exp4/train_7176_jpg.rf.929be502baff09c3ce19688d70820178.jpg\n",
      "Done. (39.8ms) Inference, (0.3ms) NMS\n",
      " The image with the result is saved in: runs/detect/exp4/train_7184_jpg.rf.883226c01c512385bd9274f12c82c970.jpg\n",
      "6 emptySpacess, Done. (39.7ms) Inference, (1.6ms) NMS\n",
      " The image with the result is saved in: runs/detect/exp4/train_7199_jpg.rf.d9695767203e834b4da70d7b1aae69b9.jpg\n",
      "4 emptySpacess, Done. (39.8ms) Inference, (1.6ms) NMS\n",
      " The image with the result is saved in: runs/detect/exp4/train_7200_jpg.rf.f471763c75370f2628cc4c2e52166567.jpg\n",
      "Done. (39.8ms) Inference, (0.3ms) NMS\n",
      " The image with the result is saved in: runs/detect/exp4/train_7212_jpg.rf.390d7d656e3418f13b524a1a8582d42e.jpg\n",
      "2 emptySpacess, Done. (39.7ms) Inference, (1.6ms) NMS\n",
      " The image with the result is saved in: runs/detect/exp4/train_7221_jpg.rf.0a07d1197103f7a42aa0a2a4f39b807e.jpg\n",
      "5 emptySpacess, Done. (39.8ms) Inference, (1.7ms) NMS\n",
      " The image with the result is saved in: runs/detect/exp4/train_7225_jpg.rf.bed15b2a8de5920b5ec08871c5df6894.jpg\n",
      "2 emptySpacess, Done. (39.8ms) Inference, (1.6ms) NMS\n",
      " The image with the result is saved in: runs/detect/exp4/train_7240_jpg.rf.cf99882e10e3366cfa61a51ec58f9045.jpg\n",
      "5 emptySpacess, Done. (39.7ms) Inference, (1.6ms) NMS\n",
      " The image with the result is saved in: runs/detect/exp4/train_7258_jpg.rf.9d9159acec8ffc20ebf04ef07a4a68e6.jpg\n",
      "4 emptySpacess, Done. (39.7ms) Inference, (1.6ms) NMS\n",
      " The image with the result is saved in: runs/detect/exp4/train_7263_jpg.rf.267687221b987263b972219f5ac88c46.jpg\n",
      "Done. (39.8ms) Inference, (0.3ms) NMS\n",
      " The image with the result is saved in: runs/detect/exp4/train_7267_jpg.rf.1a776ec0b77738656aaab5fba6c16dfd.jpg\n",
      "1 emptySpaces, Done. (39.8ms) Inference, (1.6ms) NMS\n",
      " The image with the result is saved in: runs/detect/exp4/train_7271_jpg.rf.d440c75673a17a4f9d13e77245d55e0a.jpg\n",
      "1 emptySpaces, Done. (34.4ms) Inference, (1.6ms) NMS\n",
      " The image with the result is saved in: runs/detect/exp4/train_7275_jpg.rf.ee12f52bae41cf2160346488c94ac00a.jpg\n",
      "2 emptySpacess, Done. (39.6ms) Inference, (1.6ms) NMS\n",
      " The image with the result is saved in: runs/detect/exp4/train_7279_jpg.rf.18d6abc0f5ded0133538b3e23407c0aa.jpg\n",
      "Done. (34.4ms) Inference, (0.3ms) NMS\n",
      " The image with the result is saved in: runs/detect/exp4/train_7284_jpg.rf.791035b2ba4d51299ffd5001fe5db3f4.jpg\n",
      "Done. (40.1ms) Inference, (0.3ms) NMS\n",
      " The image with the result is saved in: runs/detect/exp4/train_7291_jpg.rf.65e5124117f502eebd85d8f26406415d.jpg\n",
      "Done. (39.6ms) Inference, (0.3ms) NMS\n",
      " The image with the result is saved in: runs/detect/exp4/train_7323_jpg.rf.aed7a4dc6c12e7fc2e539f74b6c6ffe2.jpg\n",
      "Done. (39.9ms) Inference, (0.3ms) NMS\n",
      " The image with the result is saved in: runs/detect/exp4/train_7327_jpg.rf.6d640707184be10b819bad9741ebaf8e.jpg\n",
      "1 emptySpaces, Done. (39.6ms) Inference, (1.5ms) NMS\n",
      " The image with the result is saved in: runs/detect/exp4/train_7354_jpg.rf.132ffca1c9c404affaab55f2caae8d63.jpg\n",
      "1 emptySpaces, Done. (39.9ms) Inference, (1.6ms) NMS\n",
      " The image with the result is saved in: runs/detect/exp4/train_7366_jpg.rf.bc02a7952a1a77f8a269a993cfd03c37.jpg\n",
      "6 emptySpacess, Done. (39.6ms) Inference, (1.6ms) NMS\n",
      " The image with the result is saved in: runs/detect/exp4/train_7371_jpg.rf.bf41374c1d3b3cb0026f9894dd2579b1.jpg\n",
      "6 emptySpacess, Done. (39.8ms) Inference, (1.6ms) NMS\n",
      " The image with the result is saved in: runs/detect/exp4/train_7432_jpg.rf.3af3443454ec387907b1fc16d21db514.jpg\n",
      "1 emptySpaces, Done. (34.6ms) Inference, (1.6ms) NMS\n",
      " The image with the result is saved in: runs/detect/exp4/train_7438_jpg.rf.05075d6e91b0f0deb8f7dec51f73e66d.jpg\n",
      "1 emptySpaces, Done. (39.8ms) Inference, (1.6ms) NMS\n",
      " The image with the result is saved in: runs/detect/exp4/train_743_jpg.rf.701cca48d1eed49c97126b1746333a85.jpg\n",
      "2 emptySpacess, Done. (34.5ms) Inference, (1.6ms) NMS\n",
      " The image with the result is saved in: runs/detect/exp4/train_7444_jpg.rf.5603a56e74db21c5bca9926e888404b3.jpg\n",
      "1 emptySpaces, Done. (34.6ms) Inference, (1.6ms) NMS\n",
      " The image with the result is saved in: runs/detect/exp4/train_7456_jpg.rf.c86356b69246884ceed89007c0f05dbb.jpg\n",
      "1 emptySpaces, Done. (40.1ms) Inference, (1.8ms) NMS\n",
      " The image with the result is saved in: runs/detect/exp4/train_7457_jpg.rf.f40fdffbb1a2d02bf01b6b54a65bb7bc.jpg\n",
      "Done. (40.3ms) Inference, (0.4ms) NMS\n",
      " The image with the result is saved in: runs/detect/exp4/train_7460_jpg.rf.733d8c079828384456dfb0cca97b552f.jpg\n",
      "1 emptySpaces, Done. (39.7ms) Inference, (1.6ms) NMS\n",
      " The image with the result is saved in: runs/detect/exp4/train_7462_jpg.rf.d47797ed44f98b4c0dc9b0c8eb9ff857.jpg\n",
      "Done. (39.7ms) Inference, (0.3ms) NMS\n",
      " The image with the result is saved in: runs/detect/exp4/train_7487_jpg.rf.8748aa35cd8a6c3e7c5ee396746bfe3c.jpg\n",
      "2 emptySpacess, Done. (34.5ms) Inference, (1.6ms) NMS\n",
      " The image with the result is saved in: runs/detect/exp4/train_7493_jpg.rf.73bb30c4cfc55049dd6098030aecdee6.jpg\n",
      "Done. (34.6ms) Inference, (0.3ms) NMS\n",
      " The image with the result is saved in: runs/detect/exp4/train_7497_jpg.rf.032019cb4b72b53c7d68705e6e9d7077.jpg\n",
      "5 emptySpacess, Done. (39.5ms) Inference, (1.6ms) NMS\n",
      " The image with the result is saved in: runs/detect/exp4/train_7500_jpg.rf.6b4163dc3097010621752cca9463ddf1.jpg\n",
      "2 emptySpacess, Done. (39.7ms) Inference, (1.6ms) NMS\n",
      " The image with the result is saved in: runs/detect/exp4/train_7517_jpg.rf.e94c9e355c118a0b93ad9cb6f666942f.jpg\n",
      "1 emptySpaces, Done. (39.7ms) Inference, (1.6ms) NMS\n",
      " The image with the result is saved in: runs/detect/exp4/train_7519_jpg.rf.76eb26f3140c48976badcffb88c170c6.jpg\n",
      "1 emptySpaces, Done. (39.7ms) Inference, (1.6ms) NMS\n",
      " The image with the result is saved in: runs/detect/exp4/train_751_jpg.rf.3f02ec93221979b88e37e7d944111a00.jpg\n",
      "3 emptySpacess, Done. (39.7ms) Inference, (1.6ms) NMS\n",
      " The image with the result is saved in: runs/detect/exp4/train_7567_jpg.rf.361c5b802f9fd9ceb9b77e7e8092ae83.jpg\n",
      "7 emptySpacess, Done. (39.8ms) Inference, (1.6ms) NMS\n",
      " The image with the result is saved in: runs/detect/exp4/train_7570_jpg.rf.b4f9ba4285254ec5b87920d9f1aa7dc1.jpg\n",
      "Done. (40.6ms) Inference, (0.3ms) NMS\n",
      " The image with the result is saved in: runs/detect/exp4/train_7573_jpg.rf.5b1bfea4be8efecda4c2231cc1930ffa.jpg\n",
      "Done. (42.8ms) Inference, (0.3ms) NMS\n",
      " The image with the result is saved in: runs/detect/exp4/train_7575_jpg.rf.f81edb6b5dd0b6e294581cf4e05c1808.jpg\n",
      "1 emptySpaces, Done. (41.7ms) Inference, (1.6ms) NMS\n",
      " The image with the result is saved in: runs/detect/exp4/train_7582_jpg.rf.61c7cac23c2f7d9bef03c0ec1b0e906b.jpg\n",
      "1 emptySpaces, Done. (40.0ms) Inference, (1.6ms) NMS\n",
      " The image with the result is saved in: runs/detect/exp4/train_7584_jpg.rf.ae46b5a180e201004d11d5ba554fc63b.jpg\n",
      "2 emptySpacess, Done. (39.6ms) Inference, (1.5ms) NMS\n",
      " The image with the result is saved in: runs/detect/exp4/train_7589_jpg.rf.1c06dd044e82bc5307651abccdc00145.jpg\n",
      "Done. (39.8ms) Inference, (0.3ms) NMS\n",
      " The image with the result is saved in: runs/detect/exp4/train_7605_jpg.rf.ca14b8c35b36c3aa8b6812fd7d330bab.jpg\n",
      "1 emptySpaces, Done. (34.4ms) Inference, (1.6ms) NMS\n",
      " The image with the result is saved in: runs/detect/exp4/train_7628_jpg.rf.1be482012c3ce124412315830b7b9099.jpg\n",
      "2 emptySpacess, Done. (40.1ms) Inference, (1.9ms) NMS\n",
      " The image with the result is saved in: runs/detect/exp4/train_7639_jpg.rf.13c536ea24d2b5bab62a1e880a531a14.jpg\n",
      "Done. (34.4ms) Inference, (0.3ms) NMS\n",
      " The image with the result is saved in: runs/detect/exp4/train_763_jpg.rf.08f0057876fc0943c76f59415c255f42.jpg\n",
      "3 emptySpacess, Done. (34.7ms) Inference, (1.6ms) NMS\n",
      " The image with the result is saved in: runs/detect/exp4/train_7644_jpg.rf.a8da78f38b6a3d74d6a6fdea745c7cac.jpg\n",
      "5 emptySpacess, Done. (39.6ms) Inference, (1.6ms) NMS\n",
      " The image with the result is saved in: runs/detect/exp4/train_7647_jpg.rf.bc94057da8ddaceb876ca3f51397b6ca.jpg\n",
      "4 emptySpacess, Done. (39.7ms) Inference, (1.6ms) NMS\n",
      " The image with the result is saved in: runs/detect/exp4/train_7650_jpg.rf.0ccc099aa04771e3b9b1338338810020.jpg\n",
      "5 emptySpacess, Done. (39.7ms) Inference, (1.6ms) NMS\n",
      " The image with the result is saved in: runs/detect/exp4/train_7665_jpg.rf.b2e91213787ad0aca9d56daee908f0f6.jpg\n",
      "3 emptySpacess, Done. (47.2ms) Inference, (1.6ms) NMS\n",
      " The image with the result is saved in: runs/detect/exp4/train_7668_jpg.rf.d5782f7b1f03fdefd6acfa7c53e1caff.jpg\n",
      "1 emptySpaces, Done. (40.2ms) Inference, (1.9ms) NMS\n",
      " The image with the result is saved in: runs/detect/exp4/train_7670_jpg.rf.b1f47faffa3e26d4d01a1cf5586ce53e.jpg\n",
      "Done. (39.8ms) Inference, (0.3ms) NMS\n",
      " The image with the result is saved in: runs/detect/exp4/train_7679_jpg.rf.1062eb9b57f2638027a4aa26ecf965d1.jpg\n",
      "2 emptySpacess, Done. (39.7ms) Inference, (1.6ms) NMS\n",
      " The image with the result is saved in: runs/detect/exp4/train_7703_jpg.rf.741e3548fc253ff78f61b8ed8e1c0ffe.jpg\n",
      "1 emptySpaces, Done. (39.9ms) Inference, (1.6ms) NMS\n",
      " The image with the result is saved in: runs/detect/exp4/train_7714_jpg.rf.889bc4c28937488e4f79d0579b25e34c.jpg\n",
      "6 emptySpacess, Done. (39.7ms) Inference, (1.6ms) NMS\n",
      " The image with the result is saved in: runs/detect/exp4/train_772_jpg.rf.f2fffbfaf426323bb3fc2d0fd8169394.jpg\n",
      "1 emptySpaces, Done. (39.7ms) Inference, (1.6ms) NMS\n",
      " The image with the result is saved in: runs/detect/exp4/train_7730_jpg.rf.038e7e8d493b5cc4ff0380a992dd5268.jpg\n",
      "1 emptySpaces, Done. (39.8ms) Inference, (2.1ms) NMS\n",
      " The image with the result is saved in: runs/detect/exp4/train_7731_jpg.rf.6e3ccbf1d087f7fe60e4045d44d9ff2d.jpg\n",
      "Done. (34.4ms) Inference, (0.3ms) NMS\n",
      " The image with the result is saved in: runs/detect/exp4/train_7741_jpg.rf.339b43233224548093c68f125278daa9.jpg\n",
      "1 emptySpaces, Done. (39.6ms) Inference, (1.6ms) NMS\n",
      " The image with the result is saved in: runs/detect/exp4/train_7751_jpg.rf.58ad54b58036159ccaba48539de1c084.jpg\n",
      "2 emptySpacess, Done. (39.8ms) Inference, (1.6ms) NMS\n",
      " The image with the result is saved in: runs/detect/exp4/train_7784_jpg.rf.74d339598ef255684b38629a18f29b9a.jpg\n",
      "Done. (39.6ms) Inference, (0.3ms) NMS\n",
      " The image with the result is saved in: runs/detect/exp4/train_7786_jpg.rf.cb7fb9947691ef3ac506ac0581a27689.jpg\n",
      "2 emptySpacess, Done. (34.4ms) Inference, (1.6ms) NMS\n",
      " The image with the result is saved in: runs/detect/exp4/train_780_jpg.rf.cab880e9c87a34fdbb0217acb91a0a19.jpg\n",
      "1 emptySpaces, Done. (40.1ms) Inference, (1.8ms) NMS\n",
      " The image with the result is saved in: runs/detect/exp4/train_7810_jpg.rf.e7f33ce71139e563a375c35cef187ed5.jpg\n",
      "1 emptySpaces, Done. (39.8ms) Inference, (1.6ms) NMS\n",
      " The image with the result is saved in: runs/detect/exp4/train_7817_jpg.rf.9b77bc4e8fce499dc5cfe479497c7c62.jpg\n",
      "Done. (39.8ms) Inference, (0.3ms) NMS\n",
      " The image with the result is saved in: runs/detect/exp4/train_7833_jpg.rf.ddfccfc208d6f88f8ec21e5d964c4e60.jpg\n",
      "Done. (39.7ms) Inference, (0.3ms) NMS\n",
      " The image with the result is saved in: runs/detect/exp4/train_7837_jpg.rf.67f0bc4fcde1eab0633078d975dfbd35.jpg\n",
      "2 emptySpacess, Done. (39.8ms) Inference, (1.6ms) NMS\n",
      " The image with the result is saved in: runs/detect/exp4/train_7848_jpg.rf.f7657950093ddef684fff7c068500968.jpg\n",
      "2 emptySpacess, Done. (34.6ms) Inference, (1.6ms) NMS\n",
      " The image with the result is saved in: runs/detect/exp4/train_7855_jpg.rf.a3d0c851c53eb6dd18058129140fd8fe.jpg\n",
      "2 emptySpacess, Done. (34.6ms) Inference, (1.6ms) NMS\n",
      " The image with the result is saved in: runs/detect/exp4/train_7874_jpg.rf.fedeb65eff732c4ccca781eb3be1efad.jpg\n",
      "2 emptySpacess, Done. (34.9ms) Inference, (1.4ms) NMS\n",
      " The image with the result is saved in: runs/detect/exp4/train_787_jpg.rf.956192b684b0150fe487d3f6905e9f9d.jpg\n",
      "Done. (39.7ms) Inference, (0.2ms) NMS\n",
      " The image with the result is saved in: runs/detect/exp4/train_7888_jpg.rf.00e68435bba804e716c7b1a41c8094e1.jpg\n",
      "Done. (39.8ms) Inference, (0.3ms) NMS\n",
      " The image with the result is saved in: runs/detect/exp4/train_7903_jpg.rf.d9a5766d7eb44ac66a21aaaf95a51c65.jpg\n",
      "1 emptySpaces, Done. (34.6ms) Inference, (1.2ms) NMS\n",
      " The image with the result is saved in: runs/detect/exp4/train_7907_jpg.rf.b1d99fca3f3cce38ce41c750c82f01b9.jpg\n",
      "6 emptySpacess, Done. (39.9ms) Inference, (1.2ms) NMS\n",
      " The image with the result is saved in: runs/detect/exp4/train_7908_jpg.rf.c56a305545b1f2a97730799790a980c1.jpg\n",
      "5 emptySpacess, Done. (34.5ms) Inference, (1.2ms) NMS\n",
      " The image with the result is saved in: runs/detect/exp4/train_7919_jpg.rf.65597247e16173ad45a8173ab83cacd9.jpg\n",
      "Done. (40.1ms) Inference, (0.3ms) NMS\n",
      " The image with the result is saved in: runs/detect/exp4/train_7930_jpg.rf.de7c3430ae6f739a91fb9ef2023f630d.jpg\n",
      "2 emptySpacess, Done. (39.8ms) Inference, (1.2ms) NMS\n",
      " The image with the result is saved in: runs/detect/exp4/train_7933_jpg.rf.3b6a3f6baaa0be4d834f455daddcc2d4.jpg\n",
      "1 emptySpaces, Done. (39.8ms) Inference, (1.2ms) NMS\n",
      " The image with the result is saved in: runs/detect/exp4/train_795_jpg.rf.91405dc09f258af6a8900cd2dd961123.jpg\n",
      "Done. (40.0ms) Inference, (0.3ms) NMS\n",
      " The image with the result is saved in: runs/detect/exp4/train_7971_jpg.rf.a968865c346f0bf9201a24a0cbea74a6.jpg\n",
      "5 emptySpacess, Done. (39.9ms) Inference, (1.3ms) NMS\n",
      " The image with the result is saved in: runs/detect/exp4/train_7979_jpg.rf.1540d1c8e107030027d7ec275162a05d.jpg\n",
      "Done. (39.9ms) Inference, (0.3ms) NMS\n",
      " The image with the result is saved in: runs/detect/exp4/train_7993_jpg.rf.3a40442af2178366eadf2b6f621b4f44.jpg\n",
      "2 emptySpacess, Done. (39.9ms) Inference, (1.2ms) NMS\n",
      " The image with the result is saved in: runs/detect/exp4/train_7998_jpg.rf.3988deee42d4a001aa6a1a65d29d1b1a.jpg\n",
      "3 emptySpacess, Done. (39.8ms) Inference, (1.2ms) NMS\n",
      " The image with the result is saved in: runs/detect/exp4/train_8019_jpg.rf.b233d84b233deb074b7b1947c53eadd6.jpg\n",
      "1 emptySpaces, Done. (34.6ms) Inference, (1.2ms) NMS\n",
      " The image with the result is saved in: runs/detect/exp4/train_8027_jpg.rf.09a03fcf527e8b69d4c81b14353b184c.jpg\n",
      "Done. (39.7ms) Inference, (0.2ms) NMS\n",
      " The image with the result is saved in: runs/detect/exp4/train_8033_jpg.rf.61804ebfabe9bdcee20ddc4bec01962e.jpg\n",
      "2 emptySpacess, Done. (39.9ms) Inference, (1.3ms) NMS\n",
      " The image with the result is saved in: runs/detect/exp4/train_8038_jpg.rf.1cc26cfa24a3fe9970e6aa7e67d4468e.jpg\n",
      "4 emptySpacess, Done. (39.8ms) Inference, (1.3ms) NMS\n",
      " The image with the result is saved in: runs/detect/exp4/train_8042_jpg.rf.9f86b374aed14434a287d43a1654525f.jpg\n",
      "1 emptySpaces, Done. (39.9ms) Inference, (1.3ms) NMS\n",
      " The image with the result is saved in: runs/detect/exp4/train_8045_jpg.rf.f210ae3ad5fea72f3f04682c0cad9bfc.jpg\n",
      "2 emptySpacess, Done. (39.9ms) Inference, (1.2ms) NMS\n",
      " The image with the result is saved in: runs/detect/exp4/train_8051_jpg.rf.289adaac6dc774c9db53564ded7bf15f.jpg\n",
      "1 emptySpaces, Done. (40.4ms) Inference, (1.4ms) NMS\n",
      " The image with the result is saved in: runs/detect/exp4/train_8060_jpg.rf.2a9448aa388eddfc22762e05bde537a9.jpg\n",
      "9 emptySpacess, Done. (39.9ms) Inference, (1.2ms) NMS\n",
      " The image with the result is saved in: runs/detect/exp4/train_8076_jpg.rf.fb653c25b7378f4394095a50052bee66.jpg\n",
      "1 emptySpaces, Done. (40.5ms) Inference, (2.8ms) NMS\n",
      " The image with the result is saved in: runs/detect/exp4/train_8084_jpg.rf.273b1dad4c2404f2d6751f7ee0a923cf.jpg\n",
      "Done. (34.7ms) Inference, (0.2ms) NMS\n",
      " The image with the result is saved in: runs/detect/exp4/train_8091_jpg.rf.b15b95752cfb51dac4dd08569f889e9d.jpg\n",
      "7 emptySpacess, Done. (39.6ms) Inference, (1.2ms) NMS\n",
      " The image with the result is saved in: runs/detect/exp4/train_8098_jpg.rf.6a178eba115434d34e46e708d7ba9199.jpg\n",
      "Done. (34.5ms) Inference, (0.3ms) NMS\n",
      " The image with the result is saved in: runs/detect/exp4/train_8109_jpg.rf.1dfbff77cfdcd8da97d7148aff579aa1.jpg\n",
      "Done. (39.9ms) Inference, (0.5ms) NMS\n",
      " The image with the result is saved in: runs/detect/exp4/train_8135_jpg.rf.28991521de3cff0d08fabe79eba80e36.jpg\n",
      "1 emptySpaces, Done. (40.0ms) Inference, (1.5ms) NMS\n",
      " The image with the result is saved in: runs/detect/exp4/train_8142_jpg.rf.6a6a6b02766361d9464fd69c51bfccae.jpg\n",
      "Done. (39.6ms) Inference, (0.2ms) NMS\n",
      " The image with the result is saved in: runs/detect/exp4/train_8149_jpg.rf.4d80d010d7deef84cb2ad909b70150b1.jpg\n",
      "1 emptySpaces, Done. (39.8ms) Inference, (1.2ms) NMS\n",
      " The image with the result is saved in: runs/detect/exp4/train_814_jpg.rf.ec5e73a4e11cdf91ebc97873bc08f2be.jpg\n",
      "Done. (39.6ms) Inference, (0.2ms) NMS\n",
      " The image with the result is saved in: runs/detect/exp4/train_8156_jpg.rf.bffe3585a3d5d21b9da4e215a2bb10b8.jpg\n",
      "4 emptySpacess, Done. (39.7ms) Inference, (1.3ms) NMS\n",
      " The image with the result is saved in: runs/detect/exp4/train_8157_jpg.rf.9d3685d02d39293a9151a3fb179ea9b0.jpg\n",
      "1 emptySpaces, Done. (34.5ms) Inference, (1.3ms) NMS\n",
      " The image with the result is saved in: runs/detect/exp4/train_8164_jpg.rf.391b12757d2b7c73b81148185d29162f.jpg\n",
      "1 emptySpaces, Done. (39.6ms) Inference, (1.2ms) NMS\n",
      " The image with the result is saved in: runs/detect/exp4/train_8173_jpg.rf.d3780f01d6a4afc926d1478939499135.jpg\n",
      "Done. (39.7ms) Inference, (0.3ms) NMS\n",
      " The image with the result is saved in: runs/detect/exp4/train_8175_jpg.rf.0e5fbcd8d39c19f78fd50aa7ce8bc4e5.jpg\n",
      "3 emptySpacess, Done. (39.7ms) Inference, (1.2ms) NMS\n",
      " The image with the result is saved in: runs/detect/exp4/train_8181_jpg.rf.8a30ed42ddbc61a958065f90577315cc.jpg\n",
      "2 emptySpacess, Done. (39.7ms) Inference, (1.3ms) NMS\n",
      " The image with the result is saved in: runs/detect/exp4/train_8182_jpg.rf.7041ee2b8e2dd47fadf7049b8d52504c.jpg\n",
      "3 emptySpacess, Done. (34.5ms) Inference, (1.2ms) NMS\n",
      " The image with the result is saved in: runs/detect/exp4/train_8212_jpg.rf.4eae8d64b8a56d988265a1cb5499c3f6.jpg\n",
      "Done. (39.6ms) Inference, (0.2ms) NMS\n",
      " The image with the result is saved in: runs/detect/exp4/train_8221_jpg.rf.5abeca8496754d681c208ad960ba59ce.jpg\n",
      "3 emptySpacess, Done. (39.7ms) Inference, (1.2ms) NMS\n",
      " The image with the result is saved in: runs/detect/exp4/train_8222_jpg.rf.28355244032bd84aa8ecd3f5db6fad4f.jpg\n",
      "1 emptySpaces, Done. (39.8ms) Inference, (1.2ms) NMS\n",
      " The image with the result is saved in: runs/detect/exp4/train_845_jpg.rf.a6259475578ec5cdab2534ce4dff1a99.jpg\n",
      "2 emptySpacess, Done. (39.7ms) Inference, (1.2ms) NMS\n",
      " The image with the result is saved in: runs/detect/exp4/train_850_jpg.rf.8ec6b248b205c4f5114a893b7cad5c71.jpg\n",
      "1 emptySpaces, Done. (39.7ms) Inference, (1.3ms) NMS\n",
      " The image with the result is saved in: runs/detect/exp4/train_852_jpg.rf.0893e5cc7d8896913b45c2b822592646.jpg\n",
      "1 emptySpaces, Done. (39.8ms) Inference, (1.6ms) NMS\n",
      " The image with the result is saved in: runs/detect/exp4/train_858_jpg.rf.088ff771c56ebace6ce5b2b393b6720b.jpg\n",
      "4 emptySpacess, Done. (40.4ms) Inference, (2.0ms) NMS\n",
      " The image with the result is saved in: runs/detect/exp4/train_868_jpg.rf.25cc0ec0dd0b7abbc4ea6e1bc2f9af54.jpg\n",
      "3 emptySpacess, Done. (39.7ms) Inference, (1.2ms) NMS\n",
      " The image with the result is saved in: runs/detect/exp4/train_870_jpg.rf.0554be105ed27d177449fb249e28d461.jpg\n",
      "3 emptySpacess, Done. (39.8ms) Inference, (1.2ms) NMS\n",
      " The image with the result is saved in: runs/detect/exp4/train_874_jpg.rf.4663e0e4d2e29ce01ba28cbdc2a4e456.jpg\n",
      "5 emptySpacess, Done. (39.7ms) Inference, (1.3ms) NMS\n",
      " The image with the result is saved in: runs/detect/exp4/train_876_jpg.rf.ec821d5c4f3af8684d7ff284013bf498.jpg\n",
      "2 emptySpacess, Done. (34.5ms) Inference, (1.2ms) NMS\n",
      " The image with the result is saved in: runs/detect/exp4/train_907_jpg.rf.689ab43a6820a2d6d3cb413c0f6d1f19.jpg\n",
      "1 emptySpaces, Done. (39.6ms) Inference, (1.2ms) NMS\n",
      " The image with the result is saved in: runs/detect/exp4/train_908_jpg.rf.68b0d88a221e6b326b70e8ffb408b321.jpg\n",
      "1 emptySpaces, Done. (39.9ms) Inference, (1.2ms) NMS\n",
      " The image with the result is saved in: runs/detect/exp4/train_911_jpg.rf.531809d1ce1afccbe0ede800df9f59db.jpg\n",
      "7 emptySpacess, Done. (39.6ms) Inference, (1.2ms) NMS\n",
      " The image with the result is saved in: runs/detect/exp4/train_953_jpg.rf.3091a5d95bce5e9a38e85aaa5ea4207b.jpg\n",
      "4 emptySpacess, Done. (39.7ms) Inference, (1.2ms) NMS\n",
      " The image with the result is saved in: runs/detect/exp4/train_960_jpg.rf.58f04b28368c4f952c5ddf07d4bf8a50.jpg\n",
      "12 emptySpacess, Done. (39.7ms) Inference, (1.3ms) NMS\n",
      " The image with the result is saved in: runs/detect/exp4/train_970_jpg.rf.1cf1b426e2a95ca9d829ea94bae48de2.jpg\n",
      "Done. (34.4ms) Inference, (0.2ms) NMS\n",
      " The image with the result is saved in: runs/detect/exp4/train_975_jpg.rf.355b3a04d005130503ba09103126fe92.jpg\n",
      "3 emptySpacess, Done. (47.4ms) Inference, (1.3ms) NMS\n",
      " The image with the result is saved in: runs/detect/exp4/train_977_jpg.rf.a88ab24a085d4e9ad22914be061b86d8.jpg\n",
      "2 emptySpacess, Done. (39.6ms) Inference, (1.2ms) NMS\n",
      " The image with the result is saved in: runs/detect/exp4/train_985_jpg.rf.1bb20e439d76a8c5d208fee9e132cfca.jpg\n",
      "9 emptySpacess, Done. (39.6ms) Inference, (1.2ms) NMS\n",
      " The image with the result is saved in: runs/detect/exp4/train_987_jpg.rf.0711388670db46bf2b90e5336b3047f0.jpg\n",
      "1 emptySpaces, Done. (39.8ms) Inference, (1.2ms) NMS\n",
      " The image with the result is saved in: runs/detect/exp4/train_991_jpg.rf.e13e6ef40c4f54ba8fe3cffa1b7dac24.jpg\n",
      "Done. (40.0ms) Inference, (0.4ms) NMS\n",
      " The image with the result is saved in: runs/detect/exp4/train_993_jpg.rf.00112e86f610980b5bc7baaf4ff85124.jpg\n",
      "2 emptySpacess, Done. (34.6ms) Inference, (1.2ms) NMS\n",
      " The image with the result is saved in: runs/detect/exp4/train_99_jpg.rf.38e58886a7dbef6afc2390ae096c75da.jpg\n",
      "Done. (34.6ms) Inference, (0.3ms) NMS\n",
      " The image with the result is saved in: runs/detect/exp4/val_0_jpg.rf.5921a7784fe5391783a3190516665460.jpg\n",
      "4 emptySpacess, Done. (39.6ms) Inference, (1.3ms) NMS\n",
      " The image with the result is saved in: runs/detect/exp4/val_101_jpg.rf.ad62e2f7a102aed9c04af54a2f4e00a4.jpg\n",
      "3 emptySpacess, Done. (39.9ms) Inference, (1.2ms) NMS\n",
      " The image with the result is saved in: runs/detect/exp4/val_102_jpg.rf.70b34fca543fd788681e29d2e3299433.jpg\n",
      "2 emptySpacess, Done. (34.5ms) Inference, (1.2ms) NMS\n",
      " The image with the result is saved in: runs/detect/exp4/val_106_jpg.rf.f8017160b710589c89d34bc80128983a.jpg\n",
      "2 emptySpacess, Done. (35.2ms) Inference, (1.6ms) NMS\n",
      " The image with the result is saved in: runs/detect/exp4/val_10_jpg.rf.2910cdd0cdf5f3e4d016b9c1b38531f5.jpg\n",
      "1 emptySpaces, Done. (34.8ms) Inference, (1.4ms) NMS\n",
      " The image with the result is saved in: runs/detect/exp4/val_124_jpg.rf.ab81ec1c634e69b602a2c9424ba6a835.jpg\n",
      "Done. (39.7ms) Inference, (0.3ms) NMS\n",
      " The image with the result is saved in: runs/detect/exp4/val_133_jpg.rf.3d2ed337aeb246ae464533d3aa1a9c65.jpg\n",
      "Done. (39.7ms) Inference, (0.3ms) NMS\n",
      " The image with the result is saved in: runs/detect/exp4/val_136_jpg.rf.d2f5154bf37b23b8db3e27269592712c.jpg\n",
      "1 emptySpaces, Done. (39.8ms) Inference, (1.2ms) NMS\n",
      " The image with the result is saved in: runs/detect/exp4/val_160_jpg.rf.dc6665c448aeccb45fb96bf6c7f17a65.jpg\n",
      "Done. (39.6ms) Inference, (0.2ms) NMS\n",
      " The image with the result is saved in: runs/detect/exp4/val_162_jpg.rf.fd5933570a953a2a02cbfeb2befd64dc.jpg\n",
      "4 emptySpacess, Done. (40.1ms) Inference, (1.5ms) NMS\n",
      " The image with the result is saved in: runs/detect/exp4/val_166_jpg.rf.d42d797d7ce836c9d2a71491676d4ca8.jpg\n",
      "1 emptySpaces, Done. (39.6ms) Inference, (1.2ms) NMS\n",
      " The image with the result is saved in: runs/detect/exp4/val_178_jpg.rf.a51a59afbbe306be2975d7005f4dd262.jpg\n",
      "1 emptySpaces, Done. (40.0ms) Inference, (1.5ms) NMS\n",
      " The image with the result is saved in: runs/detect/exp4/val_197_jpg.rf.d713f7685c72ef23827f278cac9f0e68.jpg\n",
      "2 emptySpacess, Done. (39.8ms) Inference, (1.2ms) NMS\n",
      " The image with the result is saved in: runs/detect/exp4/val_203_jpg.rf.d3ac7dd1a68c8e4e918a0d9c276f364b.jpg\n",
      "Done. (34.5ms) Inference, (0.3ms) NMS\n",
      " The image with the result is saved in: runs/detect/exp4/val_214_jpg.rf.cb0b7d8f7f2f65321cd597ac924cd4eb.jpg\n",
      "3 emptySpacess, Done. (39.8ms) Inference, (1.5ms) NMS\n",
      " The image with the result is saved in: runs/detect/exp4/val_219_jpg.rf.b068444ca5aec9e558bdfd3f2a5e2795.jpg\n",
      "2 emptySpacess, Done. (47.2ms) Inference, (1.2ms) NMS\n",
      " The image with the result is saved in: runs/detect/exp4/val_260_jpg.rf.98df445aac22ce808b1de2928fa59044.jpg\n",
      "1 emptySpaces, Done. (39.6ms) Inference, (1.2ms) NMS\n",
      " The image with the result is saved in: runs/detect/exp4/val_265_jpg.rf.466516f0dc0ac814c58caa1f54e49564.jpg\n",
      "Done. (39.7ms) Inference, (0.2ms) NMS\n",
      " The image with the result is saved in: runs/detect/exp4/val_287_jpg.rf.7d3ab15b3e3d3a295b1601256776a14a.jpg\n",
      "2 emptySpacess, Done. (39.9ms) Inference, (1.2ms) NMS\n",
      " The image with the result is saved in: runs/detect/exp4/val_290_jpg.rf.312d5f0678ddf03d39f56714d7994e23.jpg\n",
      "Done. (39.5ms) Inference, (0.2ms) NMS\n",
      " The image with the result is saved in: runs/detect/exp4/val_293_jpg.rf.0ffbdaeef899e8df757c57157a31121b.jpg\n",
      "Done. (39.6ms) Inference, (0.2ms) NMS\n",
      " The image with the result is saved in: runs/detect/exp4/val_30_jpg.rf.9a1715d809396b68bd62a31ac6da0d19.jpg\n",
      "3 emptySpacess, Done. (34.5ms) Inference, (1.2ms) NMS\n",
      " The image with the result is saved in: runs/detect/exp4/val_315_jpg.rf.e86d05f70b5b49161963c9c5256d13b5.jpg\n",
      "2 emptySpacess, Done. (39.6ms) Inference, (1.2ms) NMS\n",
      " The image with the result is saved in: runs/detect/exp4/val_323_jpg.rf.f77bc05ed9dd33e34bd9b0b032084f6c.jpg\n",
      "Done. (34.4ms) Inference, (0.3ms) NMS\n",
      " The image with the result is saved in: runs/detect/exp4/val_334_jpg.rf.db633939586a0bef671966eaf9c7e2f9.jpg\n",
      "1 emptySpaces, Done. (39.6ms) Inference, (1.3ms) NMS\n",
      " The image with the result is saved in: runs/detect/exp4/val_369_jpg.rf.9aa5dfd819a78d3250cd6f987fcd1f4e.jpg\n",
      "1 emptySpaces, Done. (39.7ms) Inference, (1.2ms) NMS\n",
      " The image with the result is saved in: runs/detect/exp4/val_374_jpg.rf.d7f5e9549edf8a0a02b5a7f18fb2fa29.jpg\n",
      "1 emptySpaces, Done. (34.5ms) Inference, (1.2ms) NMS\n",
      " The image with the result is saved in: runs/detect/exp4/val_37_jpg.rf.2880364be37e86cee36c5bcd05afed20.jpg\n",
      "Done. (39.6ms) Inference, (0.2ms) NMS\n",
      " The image with the result is saved in: runs/detect/exp4/val_395_jpg.rf.a800e4e5e519548c665cdacb7d639ab6.jpg\n",
      "4 emptySpacess, Done. (39.8ms) Inference, (1.5ms) NMS\n",
      " The image with the result is saved in: runs/detect/exp4/val_42_jpg.rf.64315dca2c0f932f573145ee8106da88.jpg\n",
      "Done. (39.7ms) Inference, (0.2ms) NMS\n",
      " The image with the result is saved in: runs/detect/exp4/val_435_jpg.rf.8c0505add677fa4fe66f89da49b6e05b.jpg\n",
      "Done. (39.7ms) Inference, (0.3ms) NMS\n",
      " The image with the result is saved in: runs/detect/exp4/val_441_jpg.rf.da246dab3b8829fb408ab584a71fc085.jpg\n",
      "3 emptySpacess, Done. (34.4ms) Inference, (1.3ms) NMS\n",
      " The image with the result is saved in: runs/detect/exp4/val_456_jpg.rf.04bd63e25b39e803def5e620823fc6cc.jpg\n",
      "2 emptySpacess, Done. (39.5ms) Inference, (1.2ms) NMS\n",
      " The image with the result is saved in: runs/detect/exp4/val_486_jpg.rf.962d9dae5416fe131c1953218a157d4b.jpg\n",
      "3 emptySpacess, Done. (39.7ms) Inference, (1.2ms) NMS\n",
      " The image with the result is saved in: runs/detect/exp4/val_508_jpg.rf.3c03c15dbdcc1e1fac3eca3a42dc023f.jpg\n",
      "1 emptySpaces, Done. (39.7ms) Inference, (1.2ms) NMS\n",
      " The image with the result is saved in: runs/detect/exp4/val_521_jpg.rf.5d20e23e0b17293e119985a21e5bc43e.jpg\n",
      "Done. (39.7ms) Inference, (0.2ms) NMS\n",
      " The image with the result is saved in: runs/detect/exp4/val_526_jpg.rf.f1e34c001d443d22a2f820bf922ca8bc.jpg\n",
      "1 emptySpaces, Done. (39.7ms) Inference, (1.2ms) NMS\n",
      " The image with the result is saved in: runs/detect/exp4/val_52_jpg.rf.b8363cb527541c2c4e56b0b9fb902a51.jpg\n",
      "4 emptySpacess, Done. (39.7ms) Inference, (1.2ms) NMS\n",
      " The image with the result is saved in: runs/detect/exp4/val_544_jpg.rf.2f2668aae0175f0a4fcdf3434960fb32.jpg\n",
      "4 emptySpacess, Done. (34.5ms) Inference, (1.2ms) NMS\n",
      " The image with the result is saved in: runs/detect/exp4/val_547_jpg.rf.fd146639e7aead44c1ac4e0e56bb848d.jpg\n",
      "Done. (39.6ms) Inference, (0.2ms) NMS\n",
      " The image with the result is saved in: runs/detect/exp4/val_565_jpg.rf.6baeda9e0cbd009eb90fe9e952e72e72.jpg\n",
      "9 emptySpacess, Done. (39.9ms) Inference, (1.2ms) NMS\n",
      " The image with the result is saved in: runs/detect/exp4/val_580_jpg.rf.1b9cec31461d170209e57f8809196421.jpg\n",
      "2 emptySpacess, Done. (34.5ms) Inference, (1.2ms) NMS\n",
      " The image with the result is saved in: runs/detect/exp4/val_61_jpg.rf.4d09daed4c12f8bee2825bd6ce463c42.jpg\n",
      "Done. (39.6ms) Inference, (0.2ms) NMS\n",
      " The image with the result is saved in: runs/detect/exp4/val_69_jpg.rf.4aeb5fccc10c660dededef7e7c287bd3.jpg\n",
      "2 emptySpacess, Done. (39.6ms) Inference, (1.7ms) NMS\n",
      " The image with the result is saved in: runs/detect/exp4/val_6_jpg.rf.b89fee7bfee298fcc1e095618e6c6d0a.jpg\n",
      "4 emptySpacess, Done. (39.7ms) Inference, (1.2ms) NMS\n",
      " The image with the result is saved in: runs/detect/exp4/val_78_jpg.rf.83784f473d911f90a96434f40d03d7c4.jpg\n",
      "1 emptySpaces, Done. (40.0ms) Inference, (1.2ms) NMS\n",
      " The image with the result is saved in: runs/detect/exp4/val_79_jpg.rf.5388cd22fe86af914633aa49c52d51a2.jpg\n",
      "Done. (39.5ms) Inference, (0.2ms) NMS\n",
      " The image with the result is saved in: runs/detect/exp4/val_81_jpg.rf.82090c4ef28398c68c1f3fd0d7e15595.jpg\n",
      "4 emptySpacess, Done. (34.4ms) Inference, (1.2ms) NMS\n",
      " The image with the result is saved in: runs/detect/exp4/val_8_jpg.rf.8848d42f834a7bd29d6f373318b6b04f.jpg\n",
      "Done. (419.054s)\n"
     ]
    }
   ],
   "source": [
    "#Detecting empty shelves on tes images\n",
    "%run detect.py --weights runs/train/yolov710/weights/last.pt --img 416 --conf 0.4 --source ./SKU-110k-6/test/images"
   ]
  },
  {
   "cell_type": "code",
   "execution_count": null,
   "id": "0d897107-85af-4dde-99e6-b4ee7ba0a3a9",
   "metadata": {},
   "outputs": [],
   "source": [
    "#Output sh\n",
    "import glob\n",
    "from IPython.display import Image, display\n",
    "print(\"okay1\")\n",
    "\n",
    "for imageName in glob.glob('/share/home2/gurureddyg/yolov7/runs/detect/exp4/*.jpg'): #assuming JPG\n",
    "    print(\"entering for loop\")\n",
    "    display(Image(filename=imageName))\n",
    "    print(\"\\n\")"
   ]
  },
  {
   "cell_type": "code",
   "execution_count": 18,
   "id": "cfb4c3e7-e9da-4776-a6a7-e57bb4397b05",
   "metadata": {},
   "outputs": [
    {
     "name": "stderr",
     "output_type": "stream",
     "text": [
      "YOLOR 🚀 v0.1-126-g84932d7 torch 2.0.1+cu117 CUDA:0 (Tesla K80, 12206.6875MB)\n",
      "                                            CUDA:1 (Tesla K80, 12206.6875MB)\n",
      "\n"
     ]
    },
    {
     "name": "stdout",
     "output_type": "stream",
     "text": [
      "Namespace(agnostic_nms=False, augment=False, classes=None, conf_thres=0.4, device='', exist_ok=False, img_size=416, iou_thres=0.45, name='exp', no_trace=False, nosave=False, project='runs/detect', save_conf=False, save_txt=False, source='/share/home2/gurureddyg/yolov5/SKU-110k-6/Test1.mp4', update=False, view_img=False, weights=['runs/train/yolov710/weights/last.pt'])\n",
      "Fusing layers... \n"
     ]
    },
    {
     "name": "stderr",
     "output_type": "stream",
     "text": [
      "Model Summary: 314 layers, 36481772 parameters, 6194944 gradients, 103.2 GFLOPS\n"
     ]
    },
    {
     "name": "stdout",
     "output_type": "stream",
     "text": [
      "RepConv.fuse_repvgg_block\n",
      "RepConv.fuse_repvgg_block\n",
      "RepConv.fuse_repvgg_block\n",
      "IDetect.fuse\n",
      " Convert model to Traced-model... \n",
      " traced_script_module saved! \n",
      " model is traced! \n",
      "\n",
      "video 1/1 (1/105) /share/home2/gurureddyg/yolov5/SKU-110k-6/Test1.mp4: Done. (54.3ms) Inference, (0.4ms) NMS\n",
      "video 1/1 (2/105) /share/home2/gurureddyg/yolov5/SKU-110k-6/Test1.mp4: Done. (54.3ms) Inference, (0.2ms) NMS\n",
      "video 1/1 (3/105) /share/home2/gurureddyg/yolov5/SKU-110k-6/Test1.mp4: 1 emptySpaces, Done. (51.2ms) Inference, (1.4ms) NMS\n",
      "video 1/1 (4/105) /share/home2/gurureddyg/yolov5/SKU-110k-6/Test1.mp4: Done. (48.8ms) Inference, (0.2ms) NMS\n",
      "video 1/1 (5/105) /share/home2/gurureddyg/yolov5/SKU-110k-6/Test1.mp4: Done. (49.1ms) Inference, (0.3ms) NMS\n",
      "video 1/1 (6/105) /share/home2/gurureddyg/yolov5/SKU-110k-6/Test1.mp4: Done. (46.7ms) Inference, (0.2ms) NMS\n",
      "video 1/1 (7/105) /share/home2/gurureddyg/yolov5/SKU-110k-6/Test1.mp4: Done. (44.3ms) Inference, (0.2ms) NMS\n",
      "video 1/1 (8/105) /share/home2/gurureddyg/yolov5/SKU-110k-6/Test1.mp4: Done. (44.5ms) Inference, (0.2ms) NMS\n",
      "video 1/1 (9/105) /share/home2/gurureddyg/yolov5/SKU-110k-6/Test1.mp4: Done. (44.3ms) Inference, (0.2ms) NMS\n",
      "video 1/1 (10/105) /share/home2/gurureddyg/yolov5/SKU-110k-6/Test1.mp4: Done. (40.5ms) Inference, (0.2ms) NMS\n",
      "video 1/1 (11/105) /share/home2/gurureddyg/yolov5/SKU-110k-6/Test1.mp4: Done. (40.5ms) Inference, (0.2ms) NMS\n",
      "video 1/1 (12/105) /share/home2/gurureddyg/yolov5/SKU-110k-6/Test1.mp4: Done. (40.6ms) Inference, (0.2ms) NMS\n",
      "video 1/1 (13/105) /share/home2/gurureddyg/yolov5/SKU-110k-6/Test1.mp4: Done. (40.1ms) Inference, (0.2ms) NMS\n",
      "video 1/1 (14/105) /share/home2/gurureddyg/yolov5/SKU-110k-6/Test1.mp4: Done. (40.0ms) Inference, (0.3ms) NMS\n",
      "video 1/1 (15/105) /share/home2/gurureddyg/yolov5/SKU-110k-6/Test1.mp4: Done. (39.8ms) Inference, (0.2ms) NMS\n",
      "video 1/1 (16/105) /share/home2/gurureddyg/yolov5/SKU-110k-6/Test1.mp4: 1 emptySpaces, Done. (39.7ms) Inference, (1.1ms) NMS\n",
      "video 1/1 (17/105) /share/home2/gurureddyg/yolov5/SKU-110k-6/Test1.mp4: Done. (39.7ms) Inference, (0.2ms) NMS\n",
      "video 1/1 (18/105) /share/home2/gurureddyg/yolov5/SKU-110k-6/Test1.mp4: Done. (39.6ms) Inference, (0.2ms) NMS\n",
      "video 1/1 (19/105) /share/home2/gurureddyg/yolov5/SKU-110k-6/Test1.mp4: Done. (40.1ms) Inference, (0.5ms) NMS\n",
      "video 1/1 (20/105) /share/home2/gurureddyg/yolov5/SKU-110k-6/Test1.mp4: Done. (39.7ms) Inference, (0.2ms) NMS\n",
      "video 1/1 (21/105) /share/home2/gurureddyg/yolov5/SKU-110k-6/Test1.mp4: Done. (39.7ms) Inference, (0.2ms) NMS\n",
      "video 1/1 (22/105) /share/home2/gurureddyg/yolov5/SKU-110k-6/Test1.mp4: 1 emptySpaces, Done. (39.6ms) Inference, (1.1ms) NMS\n",
      "video 1/1 (23/105) /share/home2/gurureddyg/yolov5/SKU-110k-6/Test1.mp4: 2 emptySpacess, Done. (39.6ms) Inference, (1.1ms) NMS\n",
      "video 1/1 (24/105) /share/home2/gurureddyg/yolov5/SKU-110k-6/Test1.mp4: 1 emptySpaces, Done. (40.1ms) Inference, (1.4ms) NMS\n",
      "video 1/1 (25/105) /share/home2/gurureddyg/yolov5/SKU-110k-6/Test1.mp4: 1 emptySpaces, Done. (39.7ms) Inference, (1.1ms) NMS\n",
      "video 1/1 (26/105) /share/home2/gurureddyg/yolov5/SKU-110k-6/Test1.mp4: 1 emptySpaces, Done. (39.7ms) Inference, (1.1ms) NMS\n",
      "video 1/1 (27/105) /share/home2/gurureddyg/yolov5/SKU-110k-6/Test1.mp4: 1 emptySpaces, Done. (39.7ms) Inference, (1.0ms) NMS\n",
      "video 1/1 (28/105) /share/home2/gurureddyg/yolov5/SKU-110k-6/Test1.mp4: 2 emptySpacess, Done. (39.7ms) Inference, (1.1ms) NMS\n",
      "video 1/1 (29/105) /share/home2/gurureddyg/yolov5/SKU-110k-6/Test1.mp4: 2 emptySpacess, Done. (40.1ms) Inference, (1.4ms) NMS\n",
      "video 1/1 (30/105) /share/home2/gurureddyg/yolov5/SKU-110k-6/Test1.mp4: 2 emptySpacess, Done. (39.6ms) Inference, (1.1ms) NMS\n",
      "video 1/1 (31/105) /share/home2/gurureddyg/yolov5/SKU-110k-6/Test1.mp4: 1 emptySpaces, Done. (39.7ms) Inference, (1.1ms) NMS\n",
      "video 1/1 (32/105) /share/home2/gurureddyg/yolov5/SKU-110k-6/Test1.mp4: 1 emptySpaces, Done. (39.6ms) Inference, (1.1ms) NMS\n",
      "video 1/1 (33/105) /share/home2/gurureddyg/yolov5/SKU-110k-6/Test1.mp4: 1 emptySpaces, Done. (39.7ms) Inference, (1.1ms) NMS\n",
      "video 1/1 (34/105) /share/home2/gurureddyg/yolov5/SKU-110k-6/Test1.mp4: 1 emptySpaces, Done. (40.1ms) Inference, (1.4ms) NMS\n",
      "video 1/1 (35/105) /share/home2/gurureddyg/yolov5/SKU-110k-6/Test1.mp4: 1 emptySpaces, Done. (39.6ms) Inference, (1.1ms) NMS\n",
      "video 1/1 (36/105) /share/home2/gurureddyg/yolov5/SKU-110k-6/Test1.mp4: 1 emptySpaces, Done. (39.7ms) Inference, (1.1ms) NMS\n",
      "video 1/1 (37/105) /share/home2/gurureddyg/yolov5/SKU-110k-6/Test1.mp4: 2 emptySpacess, Done. (39.7ms) Inference, (1.1ms) NMS\n",
      "video 1/1 (38/105) /share/home2/gurureddyg/yolov5/SKU-110k-6/Test1.mp4: 2 emptySpacess, Done. (39.7ms) Inference, (1.1ms) NMS\n",
      "video 1/1 (39/105) /share/home2/gurureddyg/yolov5/SKU-110k-6/Test1.mp4: 2 emptySpacess, Done. (39.9ms) Inference, (1.3ms) NMS\n",
      "video 1/1 (40/105) /share/home2/gurureddyg/yolov5/SKU-110k-6/Test1.mp4: 1 emptySpaces, Done. (39.7ms) Inference, (1.1ms) NMS\n",
      "video 1/1 (41/105) /share/home2/gurureddyg/yolov5/SKU-110k-6/Test1.mp4: 1 emptySpaces, Done. (39.7ms) Inference, (1.1ms) NMS\n",
      "video 1/1 (42/105) /share/home2/gurureddyg/yolov5/SKU-110k-6/Test1.mp4: 1 emptySpaces, Done. (39.7ms) Inference, (1.1ms) NMS\n",
      "video 1/1 (43/105) /share/home2/gurureddyg/yolov5/SKU-110k-6/Test1.mp4: 1 emptySpaces, Done. (39.8ms) Inference, (1.1ms) NMS\n",
      "video 1/1 (44/105) /share/home2/gurureddyg/yolov5/SKU-110k-6/Test1.mp4: 1 emptySpaces, Done. (39.9ms) Inference, (1.4ms) NMS\n",
      "video 1/1 (45/105) /share/home2/gurureddyg/yolov5/SKU-110k-6/Test1.mp4: 1 emptySpaces, Done. (39.7ms) Inference, (1.0ms) NMS\n",
      "video 1/1 (46/105) /share/home2/gurureddyg/yolov5/SKU-110k-6/Test1.mp4: 1 emptySpaces, Done. (39.7ms) Inference, (1.1ms) NMS\n",
      "video 1/1 (47/105) /share/home2/gurureddyg/yolov5/SKU-110k-6/Test1.mp4: Done. (39.6ms) Inference, (0.2ms) NMS\n",
      "video 1/1 (48/105) /share/home2/gurureddyg/yolov5/SKU-110k-6/Test1.mp4: Done. (39.7ms) Inference, (0.2ms) NMS\n",
      "video 1/1 (49/105) /share/home2/gurureddyg/yolov5/SKU-110k-6/Test1.mp4: Done. (40.0ms) Inference, (0.5ms) NMS\n",
      "video 1/1 (50/105) /share/home2/gurureddyg/yolov5/SKU-110k-6/Test1.mp4: 1 emptySpaces, Done. (39.7ms) Inference, (1.1ms) NMS\n",
      "video 1/1 (51/105) /share/home2/gurureddyg/yolov5/SKU-110k-6/Test1.mp4: 1 emptySpaces, Done. (39.8ms) Inference, (1.1ms) NMS\n",
      "video 1/1 (52/105) /share/home2/gurureddyg/yolov5/SKU-110k-6/Test1.mp4: Done. (39.7ms) Inference, (0.2ms) NMS\n",
      "video 1/1 (53/105) /share/home2/gurureddyg/yolov5/SKU-110k-6/Test1.mp4: Done. (39.7ms) Inference, (0.2ms) NMS\n",
      "video 1/1 (54/105) /share/home2/gurureddyg/yolov5/SKU-110k-6/Test1.mp4: Done. (39.9ms) Inference, (0.3ms) NMS\n",
      "video 1/1 (55/105) /share/home2/gurureddyg/yolov5/SKU-110k-6/Test1.mp4: Done. (39.7ms) Inference, (0.2ms) NMS\n",
      "video 1/1 (56/105) /share/home2/gurureddyg/yolov5/SKU-110k-6/Test1.mp4: Done. (39.7ms) Inference, (0.2ms) NMS\n",
      "video 1/1 (57/105) /share/home2/gurureddyg/yolov5/SKU-110k-6/Test1.mp4: Done. (39.7ms) Inference, (0.2ms) NMS\n",
      "video 1/1 (58/105) /share/home2/gurureddyg/yolov5/SKU-110k-6/Test1.mp4: Done. (39.7ms) Inference, (0.2ms) NMS\n",
      "video 1/1 (59/105) /share/home2/gurureddyg/yolov5/SKU-110k-6/Test1.mp4: Done. (40.2ms) Inference, (0.3ms) NMS\n",
      "video 1/1 (60/105) /share/home2/gurureddyg/yolov5/SKU-110k-6/Test1.mp4: Done. (39.7ms) Inference, (0.2ms) NMS\n",
      "video 1/1 (61/105) /share/home2/gurureddyg/yolov5/SKU-110k-6/Test1.mp4: Done. (39.7ms) Inference, (0.2ms) NMS\n",
      "video 1/1 (62/105) /share/home2/gurureddyg/yolov5/SKU-110k-6/Test1.mp4: 1 emptySpaces, Done. (39.7ms) Inference, (1.1ms) NMS\n",
      "video 1/1 (63/105) /share/home2/gurureddyg/yolov5/SKU-110k-6/Test1.mp4: Done. (39.8ms) Inference, (0.2ms) NMS\n",
      "video 1/1 (64/105) /share/home2/gurureddyg/yolov5/SKU-110k-6/Test1.mp4: Done. (40.4ms) Inference, (4.9ms) NMS\n",
      "video 1/1 (65/105) /share/home2/gurureddyg/yolov5/SKU-110k-6/Test1.mp4: 1 emptySpaces, Done. (43.2ms) Inference, (2.4ms) NMS\n",
      "video 1/1 (66/105) /share/home2/gurureddyg/yolov5/SKU-110k-6/Test1.mp4: 1 emptySpaces, Done. (39.7ms) Inference, (7.8ms) NMS\n",
      "video 1/1 (67/105) /share/home2/gurureddyg/yolov5/SKU-110k-6/Test1.mp4: 1 emptySpaces, Done. (39.8ms) Inference, (1.2ms) NMS\n",
      "video 1/1 (68/105) /share/home2/gurureddyg/yolov5/SKU-110k-6/Test1.mp4: 2 emptySpacess, Done. (40.1ms) Inference, (6.8ms) NMS\n",
      "video 1/1 (69/105) /share/home2/gurureddyg/yolov5/SKU-110k-6/Test1.mp4: 1 emptySpaces, Done. (39.8ms) Inference, (1.2ms) NMS\n",
      "video 1/1 (70/105) /share/home2/gurureddyg/yolov5/SKU-110k-6/Test1.mp4: 1 emptySpaces, Done. (39.7ms) Inference, (15.6ms) NMS\n",
      "video 1/1 (71/105) /share/home2/gurureddyg/yolov5/SKU-110k-6/Test1.mp4: 2 emptySpacess, Done. (39.7ms) Inference, (1.6ms) NMS\n",
      "video 1/1 (72/105) /share/home2/gurureddyg/yolov5/SKU-110k-6/Test1.mp4: Done. (39.9ms) Inference, (0.4ms) NMS\n",
      "video 1/1 (73/105) /share/home2/gurureddyg/yolov5/SKU-110k-6/Test1.mp4: 2 emptySpacess, Done. (39.5ms) Inference, (1.4ms) NMS\n",
      "video 1/1 (74/105) /share/home2/gurureddyg/yolov5/SKU-110k-6/Test1.mp4: 2 emptySpacess, Done. (39.6ms) Inference, (1.4ms) NMS\n",
      "video 1/1 (75/105) /share/home2/gurureddyg/yolov5/SKU-110k-6/Test1.mp4: 1 emptySpaces, Done. (39.6ms) Inference, (1.4ms) NMS\n",
      "video 1/1 (76/105) /share/home2/gurureddyg/yolov5/SKU-110k-6/Test1.mp4: 2 emptySpacess, Done. (39.7ms) Inference, (1.4ms) NMS\n",
      "video 1/1 (77/105) /share/home2/gurureddyg/yolov5/SKU-110k-6/Test1.mp4: 2 emptySpacess, Done. (39.8ms) Inference, (1.6ms) NMS\n",
      "video 1/1 (78/105) /share/home2/gurureddyg/yolov5/SKU-110k-6/Test1.mp4: 1 emptySpaces, Done. (39.7ms) Inference, (1.5ms) NMS\n",
      "video 1/1 (79/105) /share/home2/gurureddyg/yolov5/SKU-110k-6/Test1.mp4: 1 emptySpaces, Done. (39.7ms) Inference, (1.4ms) NMS\n",
      "video 1/1 (80/105) /share/home2/gurureddyg/yolov5/SKU-110k-6/Test1.mp4: Done. (39.6ms) Inference, (0.3ms) NMS\n",
      "video 1/1 (81/105) /share/home2/gurureddyg/yolov5/SKU-110k-6/Test1.mp4: 1 emptySpaces, Done. (39.6ms) Inference, (1.4ms) NMS\n",
      "video 1/1 (82/105) /share/home2/gurureddyg/yolov5/SKU-110k-6/Test1.mp4: 1 emptySpaces, Done. (39.7ms) Inference, (1.7ms) NMS\n",
      "video 1/1 (83/105) /share/home2/gurureddyg/yolov5/SKU-110k-6/Test1.mp4: 1 emptySpaces, Done. (39.6ms) Inference, (1.5ms) NMS\n",
      "video 1/1 (84/105) /share/home2/gurureddyg/yolov5/SKU-110k-6/Test1.mp4: 1 emptySpaces, Done. (39.7ms) Inference, (1.4ms) NMS\n",
      "video 1/1 (85/105) /share/home2/gurureddyg/yolov5/SKU-110k-6/Test1.mp4: 1 emptySpaces, Done. (39.6ms) Inference, (1.5ms) NMS\n",
      "video 1/1 (86/105) /share/home2/gurureddyg/yolov5/SKU-110k-6/Test1.mp4: 1 emptySpaces, Done. (39.5ms) Inference, (1.4ms) NMS\n",
      "video 1/1 (87/105) /share/home2/gurureddyg/yolov5/SKU-110k-6/Test1.mp4: 1 emptySpaces, Done. (39.8ms) Inference, (1.2ms) NMS\n",
      "video 1/1 (88/105) /share/home2/gurureddyg/yolov5/SKU-110k-6/Test1.mp4: Done. (39.7ms) Inference, (0.2ms) NMS\n",
      "video 1/1 (89/105) /share/home2/gurureddyg/yolov5/SKU-110k-6/Test1.mp4: 1 emptySpaces, Done. (39.7ms) Inference, (1.1ms) NMS\n",
      "video 1/1 (90/105) /share/home2/gurureddyg/yolov5/SKU-110k-6/Test1.mp4: 2 emptySpacess, Done. (39.6ms) Inference, (1.1ms) NMS\n",
      "video 1/1 (91/105) /share/home2/gurureddyg/yolov5/SKU-110k-6/Test1.mp4: 1 emptySpaces, Done. (39.8ms) Inference, (1.1ms) NMS\n",
      "video 1/1 (92/105) /share/home2/gurureddyg/yolov5/SKU-110k-6/Test1.mp4: 2 emptySpacess, Done. (40.0ms) Inference, (1.5ms) NMS\n",
      "video 1/1 (93/105) /share/home2/gurureddyg/yolov5/SKU-110k-6/Test1.mp4: 1 emptySpaces, Done. (39.8ms) Inference, (1.1ms) NMS\n",
      "video 1/1 (94/105) /share/home2/gurureddyg/yolov5/SKU-110k-6/Test1.mp4: 1 emptySpaces, Done. (39.6ms) Inference, (1.1ms) NMS\n",
      "video 1/1 (95/105) /share/home2/gurureddyg/yolov5/SKU-110k-6/Test1.mp4: 1 emptySpaces, Done. (39.7ms) Inference, (1.1ms) NMS\n",
      "video 1/1 (96/105) /share/home2/gurureddyg/yolov5/SKU-110k-6/Test1.mp4: 1 emptySpaces, Done. (39.7ms) Inference, (1.1ms) NMS\n",
      "video 1/1 (97/105) /share/home2/gurureddyg/yolov5/SKU-110k-6/Test1.mp4: 3 emptySpacess, Done. (40.0ms) Inference, (1.3ms) NMS\n",
      "video 1/1 (98/105) /share/home2/gurureddyg/yolov5/SKU-110k-6/Test1.mp4: 2 emptySpacess, Done. (39.9ms) Inference, (1.1ms) NMS\n",
      "video 1/1 (99/105) /share/home2/gurureddyg/yolov5/SKU-110k-6/Test1.mp4: 2 emptySpacess, Done. (39.6ms) Inference, (1.1ms) NMS\n",
      "video 1/1 (100/105) /share/home2/gurureddyg/yolov5/SKU-110k-6/Test1.mp4: 2 emptySpacess, Done. (39.7ms) Inference, (1.1ms) NMS\n",
      "video 1/1 (101/105) /share/home2/gurureddyg/yolov5/SKU-110k-6/Test1.mp4: 3 emptySpacess, Done. (39.7ms) Inference, (1.1ms) NMS\n",
      "video 1/1 (102/105) /share/home2/gurureddyg/yolov5/SKU-110k-6/Test1.mp4: 2 emptySpacess, Done. (40.0ms) Inference, (1.3ms) NMS\n",
      "video 1/1 (103/105) /share/home2/gurureddyg/yolov5/SKU-110k-6/Test1.mp4: 2 emptySpacess, Done. (39.6ms) Inference, (1.1ms) NMS\n",
      "video 1/1 (104/105) /share/home2/gurureddyg/yolov5/SKU-110k-6/Test1.mp4: 1 emptySpaces, Done. (39.8ms) Inference, (1.1ms) NMS\n",
      "video 1/1 (105/105) /share/home2/gurureddyg/yolov5/SKU-110k-6/Test1.mp4: 2 emptySpacess, Done. (39.7ms) Inference, (1.1ms) NMS\n",
      "Done. (5.164s)\n"
     ]
    }
   ],
   "source": [
    "%run detect.py --weights runs/train/yolov710/weights/last.pt --img 416 --conf 0.4 --source /share/home2/gurureddyg/yolov5/SKU-110k-6/Test1.mp4"
   ]
  },
  {
   "cell_type": "code",
   "execution_count": null,
   "id": "bf53e6c6-e114-4948-9ecc-a52c8aff2f2a",
   "metadata": {},
   "outputs": [],
   "source": []
  }
 ],
 "metadata": {
  "kernelspec": {
   "display_name": "Python 3 (ipykernel)",
   "language": "python",
   "name": "python3"
  },
  "language_info": {
   "codemirror_mode": {
    "name": "ipython",
    "version": 3
   },
   "file_extension": ".py",
   "mimetype": "text/x-python",
   "name": "python",
   "nbconvert_exporter": "python",
   "pygments_lexer": "ipython3",
   "version": "3.9.12"
  }
 },
 "nbformat": 4,
 "nbformat_minor": 5
}
